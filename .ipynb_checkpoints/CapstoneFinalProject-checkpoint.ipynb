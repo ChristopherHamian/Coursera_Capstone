{
 "cells": [
  {
   "cell_type": "markdown",
   "metadata": {},
   "source": [
    "# The objective of this program is to extract and analyze statistics about every area in Manhattan so that at the end, we can choose the most appropriate place for our client to open a gym."
   ]
  },
  {
   "cell_type": "code",
   "execution_count": 1,
   "metadata": {},
   "outputs": [],
   "source": [
    "import requests\n",
    "import urllib.request\n",
    "import time\n",
    "from bs4 import BeautifulSoup\n",
    "import numpy as np\n",
    "import pandas as pd\n",
    "from urllib.request import urlopen\n",
    "import lxml\n",
    "import json\n",
    "from geopy.geocoders import Nominatim \n",
    "import requests \n",
    "from pandas.io.json import json_normalize \n",
    "import matplotlib.cm as cm\n",
    "import matplotlib.colors as colors\n",
    "from sklearn.cluster import KMeans\n",
    "import folium \n",
    "from re import sub\n",
    "from decimal import Decimal"
   ]
  },
  {
   "cell_type": "markdown",
   "metadata": {},
   "source": [
    "#### Create Soup Object from the URL"
   ]
  },
  {
   "cell_type": "code",
   "execution_count": 2,
   "metadata": {},
   "outputs": [],
   "source": [
    "page = urllib.request.urlopen(\"http://zipatlas.com/us/ny/new-york/zip-code-comparison/median-household-income.htm\")\n",
    "soup = BeautifulSoup(page, 'html.parser')"
   ]
  },
  {
   "cell_type": "markdown",
   "metadata": {},
   "source": [
    "#### Begin Parsing through the Data and Extract only the Information we need"
   ]
  },
  {
   "cell_type": "code",
   "execution_count": 3,
   "metadata": {},
   "outputs": [],
   "source": [
    "man_data = soup.find(\"table\", attrs={\"rules\": \"all\"})"
   ]
  },
  {
   "cell_type": "code",
   "execution_count": 4,
   "metadata": {},
   "outputs": [],
   "source": [
    "zipcode=[]\n",
    "location=[]\n",
    "population=[]\n",
    "income=[]\n",
    "for row in man_data.findAll('tr'):\n",
    "    row_len=row.findAll('td')\n",
    "    if len(row_len)==7:\n",
    "        zipcode.append(row_len[1].find(text=True).rstrip())\n",
    "        location.append(row_len[2].find(text=True).rstrip())\n",
    "        population.append((row_len[4].find(text=True).rstrip()))\n",
    "        income.append(row_len[5].find(text=True).rstrip())"
   ]
  },
  {
   "cell_type": "code",
   "execution_count": 5,
   "metadata": {},
   "outputs": [],
   "source": [
    "pop2=[]\n",
    "income2=[]\n",
    "for i in population[1:]:\n",
    "    pop2.append(int(i.replace(',','')))\n",
    "for j in income[1:]:\n",
    "    income2.append(float(j[1:].replace(',','')))"
   ]
  },
  {
   "cell_type": "code",
   "execution_count": 6,
   "metadata": {},
   "outputs": [],
   "source": [
    "numbers=[]\n",
    "latitude=[]\n",
    "longitude=[]\n",
    "for i in location[1:]:\n",
    "    numbers.append(i.split(\", \"))\n",
    "for j in numbers:\n",
    "    latitude.append(float(j[0]))\n",
    "    longitude.append(float(j[1]))"
   ]
  },
  {
   "cell_type": "markdown",
   "metadata": {},
   "source": [
    "#### Create the Final Dataframe from our Web Scrape"
   ]
  },
  {
   "cell_type": "code",
   "execution_count": 7,
   "metadata": {},
   "outputs": [
    {
     "data": {
      "text/html": [
       "<div>\n",
       "<style scoped>\n",
       "    .dataframe tbody tr th:only-of-type {\n",
       "        vertical-align: middle;\n",
       "    }\n",
       "\n",
       "    .dataframe tbody tr th {\n",
       "        vertical-align: top;\n",
       "    }\n",
       "\n",
       "    .dataframe thead th {\n",
       "        text-align: right;\n",
       "    }\n",
       "</style>\n",
       "<table border=\"1\" class=\"dataframe\">\n",
       "  <thead>\n",
       "    <tr style=\"text-align: right;\">\n",
       "      <th></th>\n",
       "      <th>Zip Code</th>\n",
       "      <th>Latitude</th>\n",
       "      <th>Longitude</th>\n",
       "      <th>Population</th>\n",
       "      <th>Avg Income</th>\n",
       "    </tr>\n",
       "  </thead>\n",
       "  <tbody>\n",
       "    <tr>\n",
       "      <th>0</th>\n",
       "      <td>10007</td>\n",
       "      <td>40.713973</td>\n",
       "      <td>-74.008336</td>\n",
       "      <td>3522</td>\n",
       "      <td>112947.0</td>\n",
       "    </tr>\n",
       "    <tr>\n",
       "      <th>1</th>\n",
       "      <td>10280</td>\n",
       "      <td>40.708501</td>\n",
       "      <td>-74.016828</td>\n",
       "      <td>6614</td>\n",
       "      <td>108536.0</td>\n",
       "    </tr>\n",
       "    <tr>\n",
       "      <th>2</th>\n",
       "      <td>10162</td>\n",
       "      <td>40.769298</td>\n",
       "      <td>-73.949942</td>\n",
       "      <td>1726</td>\n",
       "      <td>108416.0</td>\n",
       "    </tr>\n",
       "    <tr>\n",
       "      <th>3</th>\n",
       "      <td>10004</td>\n",
       "      <td>40.691870</td>\n",
       "      <td>-74.014109</td>\n",
       "      <td>1225</td>\n",
       "      <td>101868.0</td>\n",
       "    </tr>\n",
       "    <tr>\n",
       "      <th>4</th>\n",
       "      <td>10069</td>\n",
       "      <td>40.775551</td>\n",
       "      <td>-73.989689</td>\n",
       "      <td>1403</td>\n",
       "      <td>88091.0</td>\n",
       "    </tr>\n",
       "  </tbody>\n",
       "</table>\n",
       "</div>"
      ],
      "text/plain": [
       "  Zip Code   Latitude  Longitude  Population  Avg Income\n",
       "0    10007  40.713973 -74.008336        3522    112947.0\n",
       "1    10280  40.708501 -74.016828        6614    108536.0\n",
       "2    10162  40.769298 -73.949942        1726    108416.0\n",
       "3    10004  40.691870 -74.014109        1225    101868.0\n",
       "4    10069  40.775551 -73.989689        1403     88091.0"
      ]
     },
     "execution_count": 7,
     "metadata": {},
     "output_type": "execute_result"
    }
   ],
   "source": [
    "df=pd.DataFrame(zipcode[1:],columns=['Zip Code'])\n",
    "df['Latitude']=latitude\n",
    "df['Longitude']=longitude\n",
    "df['Population']=pop2\n",
    "df['Avg Income']=income2\n",
    "df.head()"
   ]
  },
  {
   "cell_type": "markdown",
   "metadata": {},
   "source": [
    "#### Eliminate the Zipcodes that we dont have info for (need to purchase full database)"
   ]
  },
  {
   "cell_type": "code",
   "execution_count": 8,
   "metadata": {},
   "outputs": [],
   "source": [
    "df=df[df[\"Avg Income\"]!=float(0)]"
   ]
  },
  {
   "cell_type": "code",
   "execution_count": 9,
   "metadata": {},
   "outputs": [
    {
     "data": {
      "text/html": [
       "<div>\n",
       "<style scoped>\n",
       "    .dataframe tbody tr th:only-of-type {\n",
       "        vertical-align: middle;\n",
       "    }\n",
       "\n",
       "    .dataframe tbody tr th {\n",
       "        vertical-align: top;\n",
       "    }\n",
       "\n",
       "    .dataframe thead th {\n",
       "        text-align: right;\n",
       "    }\n",
       "</style>\n",
       "<table border=\"1\" class=\"dataframe\">\n",
       "  <thead>\n",
       "    <tr style=\"text-align: right;\">\n",
       "      <th></th>\n",
       "      <th>Zip Code</th>\n",
       "      <th>Latitude</th>\n",
       "      <th>Longitude</th>\n",
       "      <th>Population</th>\n",
       "      <th>Avg Income</th>\n",
       "    </tr>\n",
       "  </thead>\n",
       "  <tbody>\n",
       "    <tr>\n",
       "      <th>38</th>\n",
       "      <td>10026</td>\n",
       "      <td>40.802320</td>\n",
       "      <td>-73.952943</td>\n",
       "      <td>30377</td>\n",
       "      <td>22491.0</td>\n",
       "    </tr>\n",
       "    <tr>\n",
       "      <th>39</th>\n",
       "      <td>10029</td>\n",
       "      <td>40.792245</td>\n",
       "      <td>-73.945230</td>\n",
       "      <td>75390</td>\n",
       "      <td>22232.0</td>\n",
       "    </tr>\n",
       "    <tr>\n",
       "      <th>40</th>\n",
       "      <td>10030</td>\n",
       "      <td>40.818492</td>\n",
       "      <td>-73.943283</td>\n",
       "      <td>25847</td>\n",
       "      <td>17970.0</td>\n",
       "    </tr>\n",
       "    <tr>\n",
       "      <th>41</th>\n",
       "      <td>10039</td>\n",
       "      <td>40.826296</td>\n",
       "      <td>-73.937053</td>\n",
       "      <td>21737</td>\n",
       "      <td>17370.0</td>\n",
       "    </tr>\n",
       "    <tr>\n",
       "      <th>42</th>\n",
       "      <td>10035</td>\n",
       "      <td>40.795487</td>\n",
       "      <td>-73.929501</td>\n",
       "      <td>32702</td>\n",
       "      <td>14896.0</td>\n",
       "    </tr>\n",
       "  </tbody>\n",
       "</table>\n",
       "</div>"
      ],
      "text/plain": [
       "   Zip Code   Latitude  Longitude  Population  Avg Income\n",
       "38    10026  40.802320 -73.952943       30377     22491.0\n",
       "39    10029  40.792245 -73.945230       75390     22232.0\n",
       "40    10030  40.818492 -73.943283       25847     17970.0\n",
       "41    10039  40.826296 -73.937053       21737     17370.0\n",
       "42    10035  40.795487 -73.929501       32702     14896.0"
      ]
     },
     "execution_count": 9,
     "metadata": {},
     "output_type": "execute_result"
    }
   ],
   "source": [
    "df.tail()"
   ]
  },
  {
   "cell_type": "markdown",
   "metadata": {},
   "source": [
    "#### Begin the Foursquare API Request by initializing our Credentials"
   ]
  },
  {
   "cell_type": "code",
   "execution_count": 10,
   "metadata": {},
   "outputs": [],
   "source": [
    "CLIENT_ID = 'D4EPDDPTBEFL1PWMBLVXKTT2E0CEP1CPMZJP4AKQS4BQUFTS' \n",
    "CLIENT_SECRET = 'PHO3YOGZCU0XBTYFZD42PGZH2TKQF2SODZTK04HQV3VDISJQ'\n",
    "VERSION = '20180605' "
   ]
  },
  {
   "cell_type": "markdown",
   "metadata": {},
   "source": [
    "#### Foursqaure function to Gather Category type for each Venue"
   ]
  },
  {
   "cell_type": "code",
   "execution_count": 11,
   "metadata": {},
   "outputs": [],
   "source": [
    "def get_category_type(row):\n",
    "    try:\n",
    "        categories_list = row['categories']\n",
    "    except:\n",
    "        categories_list = row['venue.categories']\n",
    "        \n",
    "    if len(categories_list) == 0:\n",
    "        return None\n",
    "    else:\n",
    "        return categories_list[0]['name']"
   ]
  },
  {
   "cell_type": "markdown",
   "metadata": {},
   "source": [
    "#### Iterative Function to Gather Information on each Latitude/Longitude"
   ]
  },
  {
   "cell_type": "code",
   "execution_count": 14,
   "metadata": {},
   "outputs": [],
   "source": [
    "def getNearbyVenues(names, latitudes, longitudes, radius=500,limit=100):\n",
    "    \n",
    "    venues_list=[]\n",
    "    for name, lat, lng in zip(names, latitudes, longitudes):\n",
    "        # create the API request URL\n",
    "        url = 'https://api.foursquare.com/v2/venues/explore?&client_id={}&client_secret={}&v={}&ll={},{}&radius={}&limit={}'.format(\n",
    "            CLIENT_ID, \n",
    "            CLIENT_SECRET, \n",
    "            VERSION, \n",
    "            lat, \n",
    "            lng, \n",
    "            radius, \n",
    "            limit)\n",
    "            \n",
    "        # make the GET request\n",
    "        results = requests.get(url).json()[\"response\"]['groups'][0]['items']\n",
    "        \n",
    "        # return only relevant information for each nearby venue\n",
    "        venues_list.append([(\n",
    "            name, \n",
    "            lat, \n",
    "            lng, \n",
    "            v['venue']['name'], \n",
    "            v['venue']['location']['lat'], \n",
    "            v['venue']['location']['lng'],  \n",
    "            v['venue']['categories'][0]['name']) for v in results])\n",
    "\n",
    "    nearby_venues = pd.DataFrame([item for venue_list in venues_list for item in venue_list])\n",
    "    nearby_venues.columns = ['Zip Code', \n",
    "                  'Neighborhood Latitude', \n",
    "                  'Neighborhood Longitude', \n",
    "                  'Venue', \n",
    "                  'Venue Latitude', \n",
    "                  'Venue Longitude', \n",
    "                  'Venue Category']\n",
    "    \n",
    "    return(nearby_venues)"
   ]
  },
  {
   "cell_type": "code",
   "execution_count": 15,
   "metadata": {},
   "outputs": [],
   "source": [
    "manhattan_venues = getNearbyVenues(names=df['Zip Code'],\n",
    "                                   latitudes=df['Latitude'],\n",
    "                                   longitudes=df['Longitude']\n",
    "                        )"
   ]
  },
  {
   "cell_type": "markdown",
   "metadata": {},
   "source": [
    "### Analyze all of Foursquare unique \"Venue Categorys\" to ensure that we include every different gym in our total count per area."
   ]
  },
  {
   "cell_type": "code",
   "execution_count": 16,
   "metadata": {},
   "outputs": [
    {
     "data": {
      "text/plain": [
       "array(['Hotel', 'Furniture / Home Store', 'Gym / Fitness Center',\n",
       "       'Taco Place', 'Bakery', 'Coffee Shop', 'Gym', 'Falafel Restaurant',\n",
       "       'Antique Shop', 'Park', 'Vegetarian / Vegan Restaurant',\n",
       "       'Wine Shop', 'Cocktail Bar', 'Dance Studio', 'Bagel Shop', 'Bar',\n",
       "       'Nail Salon', 'Sushi Restaurant', 'Hotel Bar',\n",
       "       'Monument / Landmark', 'Grocery Store', 'Burrito Place',\n",
       "       'New American Restaurant', 'Building', 'Laundry Service',\n",
       "       'Salad Place', 'Plaza', 'Spa', 'French Restaurant',\n",
       "       'Sandwich Place', 'Café', 'Molecular Gastronomy Restaurant',\n",
       "       'Electronics Store', 'Burger Joint', 'Asian Restaurant',\n",
       "       'Playground', 'Shopping Mall', 'Bookstore', 'Farmers Market',\n",
       "       'Italian Restaurant', 'Pizza Place', 'Restaurant', 'Memorial Site',\n",
       "       'Auditorium', 'Kids Store', 'Scenic Lookout', 'Theater',\n",
       "       'Cycle Studio', 'Sporting Goods Shop', 'Liquor Store',\n",
       "       'Bubble Tea Shop', 'General Entertainment', 'Dessert Shop',\n",
       "       'Fast Food Restaurant', 'Clothing Store', 'Art Gallery',\n",
       "       'Australian Restaurant', \"Women's Store\", 'Martial Arts Dojo',\n",
       "       'Steakhouse', 'Medical Center', 'Speakeasy', 'Cosmetics Shop',\n",
       "       'Wings Joint', 'Juice Bar', 'American Restaurant',\n",
       "       'Baseball Field', 'Greek Restaurant', 'Garden', 'Food Truck',\n",
       "       'Dog Run', 'Museum', 'Pet Store', 'Gourmet Shop', 'History Museum',\n",
       "       'Trail', 'Jewelry Store', 'Rental Car Location', 'Historic Site',\n",
       "       'Pub', 'Cooking School', 'Performing Arts Venue',\n",
       "       'Mexican Restaurant', 'Food Court', 'Chinese Restaurant', 'Bistro',\n",
       "       'School', 'Lingerie Store', 'Japanese Restaurant', 'Beer Garden',\n",
       "       'Tree', 'Ice Cream Shop', 'Gift Shop', 'BBQ Joint', 'Event Space',\n",
       "       'Recording Studio', 'Deli / Bodega', 'Boat or Ferry',\n",
       "       'Seafood Restaurant', 'Jewish Restaurant', 'Outdoor Sculpture',\n",
       "       'Pier', 'Library', 'Yoga Studio', 'Pilates Studio',\n",
       "       'English Restaurant', 'Massage Studio', 'Waterfront',\n",
       "       'Residential Building (Apartment / Condo)', 'Diner', 'Tea Room',\n",
       "       'Pool', 'Supplement Shop', 'Field', 'Convenience Store',\n",
       "       'Donut Shop', 'Bus Station', 'Soccer Field', 'Island',\n",
       "       'Bike Rental / Bike Share', 'Office', 'Shop & Service', 'Tunnel',\n",
       "       'Basketball Court', 'Food Stand', 'Fountain', 'Wine Bar',\n",
       "       'Climbing Gym', 'Gymnastics Gym', 'Recreation Center',\n",
       "       'High School', 'Comedy Club', 'Opera House', 'Athletics & Sports',\n",
       "       'River', 'Pharmacy', 'Movie Theater', 'Volleyball Court',\n",
       "       'Mini Golf', 'Gym Pool', 'Mediterranean Restaurant', 'Rock Club',\n",
       "       'Harbor / Marina', \"Doctor's Office\", 'Shoe Store', 'Smoke Shop',\n",
       "       'Salon / Barbershop', 'Jazz Club', 'Latin American Restaurant',\n",
       "       'Thai Restaurant', 'Indie Theater', 'Synagogue',\n",
       "       'Indian Restaurant', 'Beer Bar', 'Irish Pub', 'Cheese Shop',\n",
       "       'Department Store', 'Turkish Restaurant', 'Adult Boutique',\n",
       "       'Beer Store', 'Gastropub', 'Candy Store', 'Accessories Store',\n",
       "       'Kosher Restaurant', 'Scandinavian Restaurant', 'Hardware Store',\n",
       "       'Paella Restaurant', 'Pedestrian Plaza', 'Record Shop', 'Heliport',\n",
       "       'Breakfast Spot', 'Roof Deck', 'Lebanese Restaurant', 'Track',\n",
       "       'Flower Shop', 'Sports Bar', 'Israeli Restaurant',\n",
       "       'Southern / Soul Food Restaurant', 'Creperie', 'Tiki Bar',\n",
       "       'Peruvian Restaurant', 'Miscellaneous Shop', 'Butcher',\n",
       "       'Hot Dog Joint', 'German Restaurant', 'Ramen Restaurant',\n",
       "       'Szechuan Restaurant', 'Tapas Restaurant',\n",
       "       'Health & Beauty Service', 'Comfort Food Restaurant',\n",
       "       'Spanish Restaurant', 'Art Museum',\n",
       "       'Paper / Office Supplies Store', 'Afghan Restaurant',\n",
       "       'Kitchen Supply Store', 'Middle Eastern Restaurant',\n",
       "       'Czech Restaurant', 'Non-Profit', 'Boutique', 'Snack Place',\n",
       "       'College Arts Building', 'Concert Hall', 'Indie Movie Theater',\n",
       "       'Lounge', 'Church', 'Vietnamese Restaurant', 'College Bookstore',\n",
       "       'Circus', 'Community Center', 'Karaoke Bar',\n",
       "       'Argentinian Restaurant', 'Video Store', 'Supermarket', 'Daycare',\n",
       "       'Shipping Store', 'Boxing Gym', 'Sake Bar', 'Comic Shop',\n",
       "       'Duty-free Shop', 'Soba Restaurant', 'Health Food Store',\n",
       "       'Poke Place', 'Cupcake Shop', 'Train Station', 'Bridge',\n",
       "       'Tennis Court', 'Tennis Stadium', 'Cuban Restaurant',\n",
       "       'Japanese Curry Restaurant', 'Food & Drink Shop', 'Board Shop',\n",
       "       'Austrian Restaurant', 'Soup Place', 'Filipino Restaurant',\n",
       "       'Brazilian Restaurant', 'Outdoor Supply Store', 'Gay Bar',\n",
       "       'Korean Restaurant', 'Fried Chicken Joint', 'Resort',\n",
       "       'Shanghai Restaurant', 'Multiplex', 'Hawaiian Restaurant',\n",
       "       'Tanning Salon', 'Big Box Store', 'Cultural Center', 'Bank',\n",
       "       'Arcade', 'Optical Shop', 'Music Venue', 'Tech Startup',\n",
       "       'South Indian Restaurant', 'Kebab Restaurant',\n",
       "       'Physical Therapist', 'Market', 'Bike Shop', 'Smoothie Shop',\n",
       "       'Thrift / Vintage Store', 'Club House', 'Fish Market',\n",
       "       'Caucasian Restaurant', 'Arts & Crafts Store', 'College Theater',\n",
       "       'Fish & Chips Shop', 'Ukrainian Restaurant', 'Video Game Store',\n",
       "       'Halal Restaurant', 'Cajun / Creole Restaurant', 'Perfume Shop',\n",
       "       \"Men's Store\", 'Caribbean Restaurant', 'Udon Restaurant',\n",
       "       'Luggage Store', 'Hobby Shop', 'Noodle House',\n",
       "       'Empanada Restaurant', 'Outdoors & Recreation', 'Bus Line',\n",
       "       'Dry Cleaner', 'Metro Station', 'Hostel', 'Ethiopian Restaurant',\n",
       "       'Nightclub', 'Organic Grocery', 'Fabric Shop', 'Music Store',\n",
       "       'Camera Store', 'Music School', 'Basketball Stadium', 'Pie Shop',\n",
       "       'Exhibit', 'Theme Restaurant', 'Toy / Game Store',\n",
       "       'Frozen Yogurt Shop', 'Dive Bar', 'Eastern European Restaurant',\n",
       "       'Swiss Restaurant', 'Pet Service', 'Pet Café',\n",
       "       'Portuguese Restaurant', 'Hookah Bar', 'Moroccan Restaurant',\n",
       "       'Tailor Shop', 'Whisky Bar', 'Flea Market', 'Social Club',\n",
       "       'Mobile Phone Shop', 'Arepa Restaurant', 'Rest Area',\n",
       "       'Discount Store', 'Veterinarian', 'Cafeteria', 'Rental Service',\n",
       "       'Dumpling Restaurant', 'Malay Restaurant', 'Cantonese Restaurant',\n",
       "       'African Restaurant', 'Bike Trail', 'Street Art', 'Gas Station',\n",
       "       'Public Art', 'Bus Stop', 'Warehouse Store', 'Track Stadium',\n",
       "       'Mattress Store'], dtype=object)"
      ]
     },
     "execution_count": 16,
     "metadata": {},
     "output_type": "execute_result"
    }
   ],
   "source": [
    "manhattan_venues[\"Venue Category\"].unique()"
   ]
  },
  {
   "cell_type": "markdown",
   "metadata": {},
   "source": [
    "#### Narrow down the venues to only Gyms and Fitness Centers"
   ]
  },
  {
   "cell_type": "code",
   "execution_count": 17,
   "metadata": {},
   "outputs": [
    {
     "data": {
      "text/html": [
       "<div>\n",
       "<style scoped>\n",
       "    .dataframe tbody tr th:only-of-type {\n",
       "        vertical-align: middle;\n",
       "    }\n",
       "\n",
       "    .dataframe tbody tr th {\n",
       "        vertical-align: top;\n",
       "    }\n",
       "\n",
       "    .dataframe thead th {\n",
       "        text-align: right;\n",
       "    }\n",
       "</style>\n",
       "<table border=\"1\" class=\"dataframe\">\n",
       "  <thead>\n",
       "    <tr style=\"text-align: right;\">\n",
       "      <th></th>\n",
       "      <th>Zip Code</th>\n",
       "      <th>Neighborhood Latitude</th>\n",
       "      <th>Neighborhood Longitude</th>\n",
       "      <th>Venue</th>\n",
       "      <th>Venue Latitude</th>\n",
       "      <th>Venue Longitude</th>\n",
       "      <th>Venue Category</th>\n",
       "    </tr>\n",
       "  </thead>\n",
       "  <tbody>\n",
       "    <tr>\n",
       "      <th>2</th>\n",
       "      <td>10007</td>\n",
       "      <td>40.713973</td>\n",
       "      <td>-74.008336</td>\n",
       "      <td>The Class by Taryn Toomey</td>\n",
       "      <td>40.712753</td>\n",
       "      <td>-74.008734</td>\n",
       "      <td>Gym / Fitness Center</td>\n",
       "    </tr>\n",
       "    <tr>\n",
       "      <th>6</th>\n",
       "      <td>10007</td>\n",
       "      <td>40.713973</td>\n",
       "      <td>-74.008336</td>\n",
       "      <td>Exceed Physical Culture</td>\n",
       "      <td>40.715629</td>\n",
       "      <td>-74.007992</td>\n",
       "      <td>Gym / Fitness Center</td>\n",
       "    </tr>\n",
       "    <tr>\n",
       "      <th>7</th>\n",
       "      <td>10007</td>\n",
       "      <td>40.713973</td>\n",
       "      <td>-74.008336</td>\n",
       "      <td>Equinox Tribeca</td>\n",
       "      <td>40.714099</td>\n",
       "      <td>-74.009686</td>\n",
       "      <td>Gym</td>\n",
       "    </tr>\n",
       "    <tr>\n",
       "      <th>14</th>\n",
       "      <td>10007</td>\n",
       "      <td>40.713973</td>\n",
       "      <td>-74.008336</td>\n",
       "      <td>CrossFit 212 TriBeCa</td>\n",
       "      <td>40.714537</td>\n",
       "      <td>-74.005999</td>\n",
       "      <td>Gym</td>\n",
       "    </tr>\n",
       "    <tr>\n",
       "      <th>29</th>\n",
       "      <td>10007</td>\n",
       "      <td>40.713973</td>\n",
       "      <td>-74.008336</td>\n",
       "      <td>The Helena Gym</td>\n",
       "      <td>40.714276</td>\n",
       "      <td>-74.005967</td>\n",
       "      <td>Gym</td>\n",
       "    </tr>\n",
       "  </tbody>\n",
       "</table>\n",
       "</div>"
      ],
      "text/plain": [
       "   Zip Code  Neighborhood Latitude  Neighborhood Longitude  \\\n",
       "2     10007              40.713973              -74.008336   \n",
       "6     10007              40.713973              -74.008336   \n",
       "7     10007              40.713973              -74.008336   \n",
       "14    10007              40.713973              -74.008336   \n",
       "29    10007              40.713973              -74.008336   \n",
       "\n",
       "                        Venue  Venue Latitude  Venue Longitude  \\\n",
       "2   The Class by Taryn Toomey       40.712753       -74.008734   \n",
       "6     Exceed Physical Culture       40.715629       -74.007992   \n",
       "7             Equinox Tribeca       40.714099       -74.009686   \n",
       "14       CrossFit 212 TriBeCa       40.714537       -74.005999   \n",
       "29             The Helena Gym       40.714276       -74.005967   \n",
       "\n",
       "          Venue Category  \n",
       "2   Gym / Fitness Center  \n",
       "6   Gym / Fitness Center  \n",
       "7                    Gym  \n",
       "14                   Gym  \n",
       "29                   Gym  "
      ]
     },
     "execution_count": 17,
     "metadata": {},
     "output_type": "execute_result"
    }
   ],
   "source": [
    "manhattan_gym = manhattan_venues[manhattan_venues[\"Venue Category\"].str.contains(\"Gym\")]\n",
    "manhattan_gym.head()"
   ]
  },
  {
   "cell_type": "code",
   "execution_count": 18,
   "metadata": {},
   "outputs": [
    {
     "name": "stdout",
     "output_type": "stream",
     "text": [
      " Total Number of Gyms in Manhattan:  149\n"
     ]
    }
   ],
   "source": [
    "print(\" Total Number of Gyms in Manhattan: \", len(manhattan_gym))"
   ]
  },
  {
   "cell_type": "markdown",
   "metadata": {},
   "source": [
    "#### Begin to Group Together the Total Number of Gyms for each Zip Code"
   ]
  },
  {
   "cell_type": "code",
   "execution_count": 19,
   "metadata": {},
   "outputs": [],
   "source": [
    "gym_counts = (manhattan_gym.groupby('Zip Code').count())['Venue']\n",
    "gym_counts=gym_counts.reset_index()"
   ]
  },
  {
   "cell_type": "code",
   "execution_count": 20,
   "metadata": {},
   "outputs": [],
   "source": [
    "codes=gym_counts[\"Zip Code\"].tolist()\n",
    "counts=gym_counts[\"Venue\"].tolist()"
   ]
  },
  {
   "cell_type": "code",
   "execution_count": 21,
   "metadata": {},
   "outputs": [],
   "source": [
    "total_gyms=[]\n",
    "track=0\n",
    "for name in df[\"Zip Code\"]:\n",
    "    if name in codes:\n",
    "        total_gyms.append(counts[track])\n",
    "        track=track+1\n",
    "    else:\n",
    "        total_gyms.append(0)"
   ]
  },
  {
   "cell_type": "code",
   "execution_count": 22,
   "metadata": {},
   "outputs": [],
   "source": [
    "df[\"Gyms\"] = total_gyms\n",
    "df = df.drop(columns=['Latitude', 'Longitude'])"
   ]
  },
  {
   "cell_type": "code",
   "execution_count": 23,
   "metadata": {},
   "outputs": [
    {
     "data": {
      "text/html": [
       "<div>\n",
       "<style scoped>\n",
       "    .dataframe tbody tr th:only-of-type {\n",
       "        vertical-align: middle;\n",
       "    }\n",
       "\n",
       "    .dataframe tbody tr th {\n",
       "        vertical-align: top;\n",
       "    }\n",
       "\n",
       "    .dataframe thead th {\n",
       "        text-align: right;\n",
       "    }\n",
       "</style>\n",
       "<table border=\"1\" class=\"dataframe\">\n",
       "  <thead>\n",
       "    <tr style=\"text-align: right;\">\n",
       "      <th></th>\n",
       "      <th>Zip Code</th>\n",
       "      <th>Population</th>\n",
       "      <th>Avg Income</th>\n",
       "      <th>Gyms</th>\n",
       "    </tr>\n",
       "  </thead>\n",
       "  <tbody>\n",
       "    <tr>\n",
       "      <th>0</th>\n",
       "      <td>10007</td>\n",
       "      <td>3522</td>\n",
       "      <td>112947.0</td>\n",
       "      <td>6</td>\n",
       "    </tr>\n",
       "    <tr>\n",
       "      <th>1</th>\n",
       "      <td>10280</td>\n",
       "      <td>6614</td>\n",
       "      <td>108536.0</td>\n",
       "      <td>2</td>\n",
       "    </tr>\n",
       "    <tr>\n",
       "      <th>2</th>\n",
       "      <td>10162</td>\n",
       "      <td>1726</td>\n",
       "      <td>108416.0</td>\n",
       "      <td>4</td>\n",
       "    </tr>\n",
       "    <tr>\n",
       "      <th>3</th>\n",
       "      <td>10004</td>\n",
       "      <td>1225</td>\n",
       "      <td>101868.0</td>\n",
       "      <td>1</td>\n",
       "    </tr>\n",
       "    <tr>\n",
       "      <th>4</th>\n",
       "      <td>10069</td>\n",
       "      <td>1403</td>\n",
       "      <td>88091.0</td>\n",
       "      <td>5</td>\n",
       "    </tr>\n",
       "  </tbody>\n",
       "</table>\n",
       "</div>"
      ],
      "text/plain": [
       "  Zip Code  Population  Avg Income  Gyms\n",
       "0    10007        3522    112947.0     6\n",
       "1    10280        6614    108536.0     2\n",
       "2    10162        1726    108416.0     4\n",
       "3    10004        1225    101868.0     1\n",
       "4    10069        1403     88091.0     5"
      ]
     },
     "execution_count": 23,
     "metadata": {},
     "output_type": "execute_result"
    }
   ],
   "source": [
    "df.head()"
   ]
  },
  {
   "cell_type": "markdown",
   "metadata": {},
   "source": [
    "### Calculate the First Quartile for the Population and for the Average Income"
   ]
  },
  {
   "cell_type": "markdown",
   "metadata": {},
   "source": [
    "#### The purpose of this is because we're going to eliminate the zip codes that are too low-income and the zip codes that aren't very populated."
   ]
  },
  {
   "cell_type": "code",
   "execution_count": 24,
   "metadata": {},
   "outputs": [
    {
     "name": "stdout",
     "output_type": "stream",
     "text": [
      "Average Income First Quartile: 0.25    28692.0\n",
      "Name: Avg Income, dtype: float64\n"
     ]
    }
   ],
   "source": [
    "income_cutoff=df[\"Avg Income\"].quantile([0.25])\n",
    "print(\"Average Income First Quartile:\", income_cutoff)"
   ]
  },
  {
   "cell_type": "code",
   "execution_count": 25,
   "metadata": {},
   "outputs": [
    {
     "name": "stdout",
     "output_type": "stream",
     "text": [
      "Total Population First Quartile: 0.25    15887.5\n",
      "Name: Population, dtype: float64\n"
     ]
    }
   ],
   "source": [
    "pop_cutoff=df[\"Population\"].quantile([0.25])\n",
    "print(\"Total Population First Quartile:\", pop_cutoff)"
   ]
  },
  {
   "cell_type": "code",
   "execution_count": 26,
   "metadata": {},
   "outputs": [
    {
     "data": {
      "text/html": [
       "<div>\n",
       "<style scoped>\n",
       "    .dataframe tbody tr th:only-of-type {\n",
       "        vertical-align: middle;\n",
       "    }\n",
       "\n",
       "    .dataframe tbody tr th {\n",
       "        vertical-align: top;\n",
       "    }\n",
       "\n",
       "    .dataframe thead th {\n",
       "        text-align: right;\n",
       "    }\n",
       "</style>\n",
       "<table border=\"1\" class=\"dataframe\">\n",
       "  <thead>\n",
       "    <tr style=\"text-align: right;\">\n",
       "      <th></th>\n",
       "      <th>Zip Code</th>\n",
       "      <th>Population</th>\n",
       "      <th>Avg Income</th>\n",
       "      <th>Gyms</th>\n",
       "    </tr>\n",
       "  </thead>\n",
       "  <tbody>\n",
       "    <tr>\n",
       "      <th>7</th>\n",
       "      <td>10022</td>\n",
       "      <td>30642</td>\n",
       "      <td>80406.0</td>\n",
       "      <td>2</td>\n",
       "    </tr>\n",
       "    <tr>\n",
       "      <th>9</th>\n",
       "      <td>10024</td>\n",
       "      <td>61414</td>\n",
       "      <td>78066.0</td>\n",
       "      <td>7</td>\n",
       "    </tr>\n",
       "    <tr>\n",
       "      <th>10</th>\n",
       "      <td>10028</td>\n",
       "      <td>44987</td>\n",
       "      <td>77565.0</td>\n",
       "      <td>3</td>\n",
       "    </tr>\n",
       "    <tr>\n",
       "      <th>11</th>\n",
       "      <td>10021</td>\n",
       "      <td>102078</td>\n",
       "      <td>75472.0</td>\n",
       "      <td>4</td>\n",
       "    </tr>\n",
       "    <tr>\n",
       "      <th>12</th>\n",
       "      <td>10023</td>\n",
       "      <td>62206</td>\n",
       "      <td>72424.0</td>\n",
       "      <td>3</td>\n",
       "    </tr>\n",
       "  </tbody>\n",
       "</table>\n",
       "</div>"
      ],
      "text/plain": [
       "   Zip Code  Population  Avg Income  Gyms\n",
       "7     10022       30642     80406.0     2\n",
       "9     10024       61414     78066.0     7\n",
       "10    10028       44987     77565.0     3\n",
       "11    10021      102078     75472.0     4\n",
       "12    10023       62206     72424.0     3"
      ]
     },
     "execution_count": 26,
     "metadata": {},
     "output_type": "execute_result"
    }
   ],
   "source": [
    "df = df[df[\"Population\"]>=int(pop_cutoff)]\n",
    "df = df[df[\"Avg Income\"]>=float(income_cutoff)]\n",
    "df.head()"
   ]
  },
  {
   "cell_type": "markdown",
   "metadata": {},
   "source": [
    "#### We're going to be labeling each zipcode by the number of gyms in the area."
   ]
  },
  {
   "cell_type": "markdown",
   "metadata": {},
   "source": [
    "#### Calculate median number of gyms and divide the dataset into 3 Groups: Low, Med, and High (number of gyms) so that we can look at each group closely and choose the best candidates from each group."
   ]
  },
  {
   "cell_type": "code",
   "execution_count": 27,
   "metadata": {},
   "outputs": [
    {
     "name": "stdout",
     "output_type": "stream",
     "text": [
      "Median Number of Gyms in one Area: 3\n",
      "Mode Number of Gyms in one Area: 3\n"
     ]
    }
   ],
   "source": [
    "import statistics\n",
    "median = statistics.median(df[\"Gyms\"])\n",
    "mode = statistics.mode(df[\"Gyms\"])\n",
    "print(\"Median Number of Gyms in one Area:\", median)\n",
    "print(\"Mode Number of Gyms in one Area:\", mode)"
   ]
  },
  {
   "cell_type": "code",
   "execution_count": 28,
   "metadata": {},
   "outputs": [],
   "source": [
    "df.loc[(df['Gyms']<3),'Gym Freq'] = 'low'\n",
    "df.loc[(df['Gyms']>3),'Gym Freq'] = 'high'\n",
    "df.loc[(df['Gyms']==3),'Gym Freq'] = 'med'"
   ]
  },
  {
   "cell_type": "code",
   "execution_count": 29,
   "metadata": {},
   "outputs": [
    {
     "name": "stdout",
     "output_type": "stream",
     "text": [
      "The Number of Areas per each Group:\n",
      "high    9\n",
      "low     7\n",
      "med     5\n",
      "Name: Gym Freq, dtype: int64\n"
     ]
    }
   ],
   "source": [
    "print(\"The Number of Areas per each Group:\")\n",
    "print(df[\"Gym Freq\"].value_counts())"
   ]
  },
  {
   "cell_type": "markdown",
   "metadata": {},
   "source": [
    "#### Divide the Dataset into the 3 separate dataframes"
   ]
  },
  {
   "cell_type": "code",
   "execution_count": 46,
   "metadata": {},
   "outputs": [],
   "source": [
    "df_low = df[df[\"Gym Freq\"]=='low']\n",
    "df_med = df[df[\"Gym Freq\"]=='med']\n",
    "df_high = df[df[\"Gym Freq\"]=='high']"
   ]
  },
  {
   "cell_type": "code",
   "execution_count": 47,
   "metadata": {},
   "outputs": [],
   "source": [
    "%matplotlib inline"
   ]
  },
  {
   "cell_type": "markdown",
   "metadata": {},
   "source": [
    "### Begin Plotting a Bar Graph and Scatter Plot for each Dataset"
   ]
  },
  {
   "cell_type": "code",
   "execution_count": 48,
   "metadata": {},
   "outputs": [
    {
     "data": {
      "image/png": "[encoded data removed]",
      "text/plain": [
       "<Figure size 432x288 with 1 Axes>"
      ]
     },
     "metadata": {
      "needs_background": "light"
     },
     "output_type": "display_data"
    }
   ],
   "source": [
    "import matplotlib. pyplot as plt\n",
    "plt.scatter(df_low['Population'], df_low['Avg Income']) \n",
    "plt.ylabel(\"Avg Income\") \n",
    "plt.xlabel(\"Population\")\n",
    "plt.title(\"Population vs Income (Low Gym Freq)\")\n",
    "plt.grid()\n",
    "plt.show()"
   ]
  },
  {
   "cell_type": "code",
   "execution_count": 49,
   "metadata": {},
   "outputs": [
    {
     "name": "stdout",
     "output_type": "stream",
     "text": [
      "Locations we are Analysing:\n"
     ]
    },
    {
     "data": {
      "text/html": [
       "<div>\n",
       "<style scoped>\n",
       "    .dataframe tbody tr th:only-of-type {\n",
       "        vertical-align: middle;\n",
       "    }\n",
       "\n",
       "    .dataframe tbody tr th {\n",
       "        vertical-align: top;\n",
       "    }\n",
       "\n",
       "    .dataframe thead th {\n",
       "        text-align: right;\n",
       "    }\n",
       "</style>\n",
       "<table border=\"1\" class=\"dataframe\">\n",
       "  <thead>\n",
       "    <tr style=\"text-align: right;\">\n",
       "      <th></th>\n",
       "      <th>Zip Code</th>\n",
       "      <th>Population</th>\n",
       "      <th>Avg Income</th>\n",
       "      <th>Gyms</th>\n",
       "      <th>Gym Freq</th>\n",
       "    </tr>\n",
       "  </thead>\n",
       "  <tbody>\n",
       "    <tr>\n",
       "      <th>7</th>\n",
       "      <td>10022</td>\n",
       "      <td>30642</td>\n",
       "      <td>80406.0</td>\n",
       "      <td>2</td>\n",
       "      <td>low</td>\n",
       "    </tr>\n",
       "    <tr>\n",
       "      <th>21</th>\n",
       "      <td>10019</td>\n",
       "      <td>36012</td>\n",
       "      <td>55869.0</td>\n",
       "      <td>1</td>\n",
       "      <td>low</td>\n",
       "    </tr>\n",
       "    <tr>\n",
       "      <th>23</th>\n",
       "      <td>10025</td>\n",
       "      <td>97086</td>\n",
       "      <td>49733.0</td>\n",
       "      <td>2</td>\n",
       "      <td>low</td>\n",
       "    </tr>\n",
       "    <tr>\n",
       "      <th>25</th>\n",
       "      <td>10036</td>\n",
       "      <td>18751</td>\n",
       "      <td>41002.0</td>\n",
       "      <td>1</td>\n",
       "      <td>low</td>\n",
       "    </tr>\n",
       "    <tr>\n",
       "      <th>26</th>\n",
       "      <td>10001</td>\n",
       "      <td>17310</td>\n",
       "      <td>40932.0</td>\n",
       "      <td>2</td>\n",
       "      <td>low</td>\n",
       "    </tr>\n",
       "    <tr>\n",
       "      <th>29</th>\n",
       "      <td>10033</td>\n",
       "      <td>58259</td>\n",
       "      <td>31348.0</td>\n",
       "      <td>2</td>\n",
       "      <td>low</td>\n",
       "    </tr>\n",
       "    <tr>\n",
       "      <th>31</th>\n",
       "      <td>10034</td>\n",
       "      <td>41756</td>\n",
       "      <td>29479.0</td>\n",
       "      <td>0</td>\n",
       "      <td>low</td>\n",
       "    </tr>\n",
       "  </tbody>\n",
       "</table>\n",
       "</div>"
      ],
      "text/plain": [
       "   Zip Code  Population  Avg Income  Gyms Gym Freq\n",
       "7     10022       30642     80406.0     2      low\n",
       "21    10019       36012     55869.0     1      low\n",
       "23    10025       97086     49733.0     2      low\n",
       "25    10036       18751     41002.0     1      low\n",
       "26    10001       17310     40932.0     2      low\n",
       "29    10033       58259     31348.0     2      low\n",
       "31    10034       41756     29479.0     0      low"
      ]
     },
     "execution_count": 49,
     "metadata": {},
     "output_type": "execute_result"
    }
   ],
   "source": [
    "print(\"Locations we are Analysing:\")\n",
    "df_low"
   ]
  },
  {
   "cell_type": "code",
   "execution_count": 50,
   "metadata": {},
   "outputs": [
    {
     "name": "stdout",
     "output_type": "stream",
     "text": [
      "The Final Points for Low Freq Gyms:\n",
      "   Zip Code  Population  Avg Income  Gyms Gym Freq\n",
      "7     10022       30642     80406.0     2      low\n",
      "23    10025       97086     49733.0     2      low\n"
     ]
    }
   ],
   "source": [
    "# ISOLATE THE ZIPCODES THAT WE WANT TO USE FOR FURTHER ANALYSIS\n",
    "location_1 = df_low.iloc[0]\n",
    "location_2 = df_low.iloc[2]\n",
    "df_low_final = df_low[:3]\n",
    "df_low_final = df_low_final[df_low_final[\"Gyms\"]!=1]\n",
    "print(\"The Final Points for Low Freq Gyms:\")\n",
    "print(df_low_final)"
   ]
  },
  {
   "cell_type": "code",
   "execution_count": 51,
   "metadata": {},
   "outputs": [
    {
     "name": "stdout",
     "output_type": "stream",
     "text": [
      "Low Freq- Location 1 comparison to Location 2\n",
      "Population Difference:  -66444\n",
      "Average Income Difference:  30673.0\n",
      "Total Gyms Difference:  0\n"
     ]
    }
   ],
   "source": [
    "pop_diff = location_1[\"Population\"]-location_2[\"Population\"]\n",
    "income_diff = location_1[\"Avg Income\"]-location_2[\"Avg Income\"]\n",
    "gym_diff = location_1[\"Gyms\"]-location_2[\"Gyms\"]\n",
    "print(\"Low Freq- Location 1 comparison to Location 2\")\n",
    "print(\"Population Difference: \", pop_diff)\n",
    "print(\"Average Income Difference: \", income_diff)\n",
    "print(\"Total Gyms Difference: \", gym_diff)"
   ]
  },
  {
   "cell_type": "markdown",
   "metadata": {},
   "source": [
    "#### End of Analysis of Low Freq Dataset"
   ]
  },
  {
   "cell_type": "code",
   "execution_count": 52,
   "metadata": {},
   "outputs": [
    {
     "data": {
      "image/png": "[encoded data removed]",
      "text/plain": [
       "<Figure size 432x288 with 1 Axes>"
      ]
     },
     "metadata": {
      "needs_background": "light"
     },
     "output_type": "display_data"
    }
   ],
   "source": [
    "plt.scatter(df_med['Population'], df_med['Avg Income']) \n",
    "plt.ylabel(\"Avg Income\") \n",
    "plt.xlabel(\"Population\")\n",
    "plt.title(\"Population vs Income (Med Gym Freq)\")\n",
    "plt.grid()\n",
    "plt.show()"
   ]
  },
  {
   "cell_type": "code",
   "execution_count": 53,
   "metadata": {},
   "outputs": [
    {
     "name": "stdout",
     "output_type": "stream",
     "text": [
      "Locations we are Analysing:\n"
     ]
    },
    {
     "data": {
      "text/html": [
       "<div>\n",
       "<style scoped>\n",
       "    .dataframe tbody tr th:only-of-type {\n",
       "        vertical-align: middle;\n",
       "    }\n",
       "\n",
       "    .dataframe tbody tr th {\n",
       "        vertical-align: top;\n",
       "    }\n",
       "\n",
       "    .dataframe thead th {\n",
       "        text-align: right;\n",
       "    }\n",
       "</style>\n",
       "<table border=\"1\" class=\"dataframe\">\n",
       "  <thead>\n",
       "    <tr style=\"text-align: right;\">\n",
       "      <th></th>\n",
       "      <th>Zip Code</th>\n",
       "      <th>Population</th>\n",
       "      <th>Avg Income</th>\n",
       "      <th>Gyms</th>\n",
       "      <th>Gym Freq</th>\n",
       "    </tr>\n",
       "  </thead>\n",
       "  <tbody>\n",
       "    <tr>\n",
       "      <th>10</th>\n",
       "      <td>10028</td>\n",
       "      <td>44987</td>\n",
       "      <td>77565.0</td>\n",
       "      <td>3</td>\n",
       "      <td>med</td>\n",
       "    </tr>\n",
       "    <tr>\n",
       "      <th>12</th>\n",
       "      <td>10023</td>\n",
       "      <td>62206</td>\n",
       "      <td>72424.0</td>\n",
       "      <td>3</td>\n",
       "      <td>med</td>\n",
       "    </tr>\n",
       "    <tr>\n",
       "      <th>16</th>\n",
       "      <td>10016</td>\n",
       "      <td>51217</td>\n",
       "      <td>66342.0</td>\n",
       "      <td>3</td>\n",
       "      <td>med</td>\n",
       "    </tr>\n",
       "    <tr>\n",
       "      <th>20</th>\n",
       "      <td>10012</td>\n",
       "      <td>26000</td>\n",
       "      <td>58313.0</td>\n",
       "      <td>3</td>\n",
       "      <td>med</td>\n",
       "    </tr>\n",
       "    <tr>\n",
       "      <th>27</th>\n",
       "      <td>10009</td>\n",
       "      <td>58595</td>\n",
       "      <td>40176.0</td>\n",
       "      <td>3</td>\n",
       "      <td>med</td>\n",
       "    </tr>\n",
       "  </tbody>\n",
       "</table>\n",
       "</div>"
      ],
      "text/plain": [
       "   Zip Code  Population  Avg Income  Gyms Gym Freq\n",
       "10    10028       44987     77565.0     3      med\n",
       "12    10023       62206     72424.0     3      med\n",
       "16    10016       51217     66342.0     3      med\n",
       "20    10012       26000     58313.0     3      med\n",
       "27    10009       58595     40176.0     3      med"
      ]
     },
     "execution_count": 53,
     "metadata": {},
     "output_type": "execute_result"
    }
   ],
   "source": [
    "print(\"Locations we are Analysing:\")\n",
    "df_med"
   ]
  },
  {
   "cell_type": "code",
   "execution_count": 54,
   "metadata": {},
   "outputs": [
    {
     "name": "stdout",
     "output_type": "stream",
     "text": [
      "The Final Points for Med Freq Gyms:\n",
      "   Zip Code  Population  Avg Income  Gyms Gym Freq\n",
      "10    10028       44987     77565.0     3      med\n",
      "12    10023       62206     72424.0     3      med\n",
      "16    10016       51217     66342.0     3      med\n"
     ]
    }
   ],
   "source": [
    "# ISOLATE THE ZIPCODES THAT WE WANT TO USE FOR FURTHER ANALYSIS\n",
    "location_1 = df_med.iloc[0]\n",
    "location_2 = df_med.iloc[1]\n",
    "location_3 = df_med.iloc[2]\n",
    "df_med_final=df_med[:3]\n",
    "print(\"The Final Points for Med Freq Gyms:\")\n",
    "print(df_med_final)"
   ]
  },
  {
   "cell_type": "code",
   "execution_count": 55,
   "metadata": {},
   "outputs": [
    {
     "name": "stdout",
     "output_type": "stream",
     "text": [
      "Med Freq- Location 1 comparison to Location 2\n",
      "Population Difference:  -17219\n",
      "Average Income Difference:  5141.0\n"
     ]
    }
   ],
   "source": [
    "pop_diff = location_1[\"Population\"]-location_2[\"Population\"]\n",
    "income_diff = location_1[\"Avg Income\"]-location_2[\"Avg Income\"]\n",
    "print(\"Med Freq- Location 1 comparison to Location 2\")\n",
    "print(\"Population Difference: \", pop_diff)\n",
    "print(\"Average Income Difference: \", income_diff)"
   ]
  },
  {
   "cell_type": "code",
   "execution_count": 56,
   "metadata": {},
   "outputs": [
    {
     "name": "stdout",
     "output_type": "stream",
     "text": [
      "Med Freq- Location 1 comparison to Location 3\n",
      "Population Difference:  -6230\n",
      "Average Income Difference:  11223.0\n"
     ]
    }
   ],
   "source": [
    "pop_diff = location_1[\"Population\"]-location_3[\"Population\"]\n",
    "income_diff = location_1[\"Avg Income\"]-location_3[\"Avg Income\"]\n",
    "print(\"Med Freq- Location 1 comparison to Location 3\")\n",
    "print(\"Population Difference: \", pop_diff)\n",
    "print(\"Average Income Difference: \", income_diff)"
   ]
  },
  {
   "cell_type": "code",
   "execution_count": 57,
   "metadata": {},
   "outputs": [
    {
     "name": "stdout",
     "output_type": "stream",
     "text": [
      "Med Freq- Location 2 comparison to Location 3\n",
      "Population Difference:  10989\n",
      "Average Income Difference:  6082.0\n"
     ]
    }
   ],
   "source": [
    "pop_diff = location_2[\"Population\"]-location_3[\"Population\"]\n",
    "income_diff = location_2[\"Avg Income\"]-location_3[\"Avg Income\"]\n",
    "print(\"Med Freq- Location 2 comparison to Location 3\")\n",
    "print(\"Population Difference: \", pop_diff)\n",
    "print(\"Average Income Difference: \", income_diff)"
   ]
  },
  {
   "cell_type": "code",
   "execution_count": 58,
   "metadata": {},
   "outputs": [
    {
     "name": "stdout",
     "output_type": "stream",
     "text": [
      "Optimal Location for MEd Freq Dataset:  Zip Code      10023\n",
      "Population    62206\n",
      "Avg Income    72424\n",
      "Gyms              3\n",
      "Gym Freq        med\n",
      "Name: 12, dtype: object\n"
     ]
    }
   ],
   "source": [
    "print(\"Optimal Location for MEd Freq Dataset: \", location_2)"
   ]
  },
  {
   "cell_type": "markdown",
   "metadata": {},
   "source": [
    "#### End of Analysis of Med Freq Dataset"
   ]
  },
  {
   "cell_type": "code",
   "execution_count": 59,
   "metadata": {},
   "outputs": [
    {
     "data": {
      "image/png": "[encoded data removed]",
      "text/plain": [
       "<Figure size 432x288 with 1 Axes>"
      ]
     },
     "metadata": {
      "needs_background": "light"
     },
     "output_type": "display_data"
    }
   ],
   "source": [
    "plt.scatter(df_high['Population'], df_high['Avg Income']) \n",
    "plt.ylabel(\"Avg Income\") \n",
    "plt.xlabel(\"Population\")\n",
    "plt.title(\"Population vs Income (High Gym Freq)\")\n",
    "plt.grid()\n",
    "plt.show()"
   ]
  },
  {
   "cell_type": "code",
   "execution_count": 60,
   "metadata": {},
   "outputs": [
    {
     "name": "stdout",
     "output_type": "stream",
     "text": [
      "Locations we are Analysing:\n"
     ]
    },
    {
     "data": {
      "text/html": [
       "<div>\n",
       "<style scoped>\n",
       "    .dataframe tbody tr th:only-of-type {\n",
       "        vertical-align: middle;\n",
       "    }\n",
       "\n",
       "    .dataframe tbody tr th {\n",
       "        vertical-align: top;\n",
       "    }\n",
       "\n",
       "    .dataframe thead th {\n",
       "        text-align: right;\n",
       "    }\n",
       "</style>\n",
       "<table border=\"1\" class=\"dataframe\">\n",
       "  <thead>\n",
       "    <tr style=\"text-align: right;\">\n",
       "      <th></th>\n",
       "      <th>Zip Code</th>\n",
       "      <th>Population</th>\n",
       "      <th>Avg Income</th>\n",
       "      <th>Gyms</th>\n",
       "      <th>Gym Freq</th>\n",
       "    </tr>\n",
       "  </thead>\n",
       "  <tbody>\n",
       "    <tr>\n",
       "      <th>9</th>\n",
       "      <td>10024</td>\n",
       "      <td>61414</td>\n",
       "      <td>78066.0</td>\n",
       "      <td>7</td>\n",
       "      <td>high</td>\n",
       "    </tr>\n",
       "    <tr>\n",
       "      <th>11</th>\n",
       "      <td>10021</td>\n",
       "      <td>102078</td>\n",
       "      <td>75472.0</td>\n",
       "      <td>4</td>\n",
       "      <td>high</td>\n",
       "    </tr>\n",
       "    <tr>\n",
       "      <th>13</th>\n",
       "      <td>10128</td>\n",
       "      <td>59856</td>\n",
       "      <td>70031.0</td>\n",
       "      <td>5</td>\n",
       "      <td>high</td>\n",
       "    </tr>\n",
       "    <tr>\n",
       "      <th>14</th>\n",
       "      <td>10017</td>\n",
       "      <td>16201</td>\n",
       "      <td>69273.0</td>\n",
       "      <td>4</td>\n",
       "      <td>high</td>\n",
       "    </tr>\n",
       "    <tr>\n",
       "      <th>15</th>\n",
       "      <td>10014</td>\n",
       "      <td>32667</td>\n",
       "      <td>66601.0</td>\n",
       "      <td>5</td>\n",
       "      <td>high</td>\n",
       "    </tr>\n",
       "    <tr>\n",
       "      <th>17</th>\n",
       "      <td>10010</td>\n",
       "      <td>26408</td>\n",
       "      <td>62467.0</td>\n",
       "      <td>7</td>\n",
       "      <td>high</td>\n",
       "    </tr>\n",
       "    <tr>\n",
       "      <th>18</th>\n",
       "      <td>10011</td>\n",
       "      <td>46669</td>\n",
       "      <td>61986.0</td>\n",
       "      <td>8</td>\n",
       "      <td>high</td>\n",
       "    </tr>\n",
       "    <tr>\n",
       "      <th>19</th>\n",
       "      <td>10003</td>\n",
       "      <td>53673</td>\n",
       "      <td>60891.0</td>\n",
       "      <td>6</td>\n",
       "      <td>high</td>\n",
       "    </tr>\n",
       "    <tr>\n",
       "      <th>28</th>\n",
       "      <td>10013</td>\n",
       "      <td>25042</td>\n",
       "      <td>38304.0</td>\n",
       "      <td>4</td>\n",
       "      <td>high</td>\n",
       "    </tr>\n",
       "  </tbody>\n",
       "</table>\n",
       "</div>"
      ],
      "text/plain": [
       "   Zip Code  Population  Avg Income  Gyms Gym Freq\n",
       "9     10024       61414     78066.0     7     high\n",
       "11    10021      102078     75472.0     4     high\n",
       "13    10128       59856     70031.0     5     high\n",
       "14    10017       16201     69273.0     4     high\n",
       "15    10014       32667     66601.0     5     high\n",
       "17    10010       26408     62467.0     7     high\n",
       "18    10011       46669     61986.0     8     high\n",
       "19    10003       53673     60891.0     6     high\n",
       "28    10013       25042     38304.0     4     high"
      ]
     },
     "execution_count": 60,
     "metadata": {},
     "output_type": "execute_result"
    }
   ],
   "source": [
    "print(\"Locations we are Analysing:\")\n",
    "df_high"
   ]
  },
  {
   "cell_type": "code",
   "execution_count": 61,
   "metadata": {},
   "outputs": [
    {
     "name": "stdout",
     "output_type": "stream",
     "text": [
      "The Final Points for high Freq Gyms:\n",
      "   Zip Code  Population  Avg Income  Gyms Gym Freq\n",
      "9     10024       61414     78066.0     7     high\n",
      "11    10021      102078     75472.0     4     high\n",
      "13    10128       59856     70031.0     5     high\n"
     ]
    }
   ],
   "source": [
    "# ISOLATE THE ZIPCODES THAT WE WANT TO USE FOR FURTHER ANALYSIS\n",
    "df_high=df_high[df_high[\"Population\"]>59000]\n",
    "location_1 = df_high.iloc[0]\n",
    "location_2 = df_high.iloc[1]\n",
    "location_3 = df_high.iloc[2]\n",
    "print(\"The Final Points for high Freq Gyms:\")\n",
    "print(df_high)"
   ]
  },
  {
   "cell_type": "code",
   "execution_count": 62,
   "metadata": {},
   "outputs": [
    {
     "name": "stdout",
     "output_type": "stream",
     "text": [
      "High Freq- Location 1 comparison to Location 2\n",
      "Population Difference:  -40664\n",
      "Average Income Difference:  2594.0\n",
      "Total Gyms Difference:  3\n"
     ]
    }
   ],
   "source": [
    "pop_diff = location_1[\"Population\"]-location_2[\"Population\"]\n",
    "income_diff = location_1[\"Avg Income\"]-location_2[\"Avg Income\"]\n",
    "gym_diff = location_1[\"Gyms\"]-location_2[\"Gyms\"]\n",
    "print(\"High Freq- Location 1 comparison to Location 2\")\n",
    "print(\"Population Difference: \", pop_diff)\n",
    "print(\"Average Income Difference: \", income_diff)\n",
    "print(\"Total Gyms Difference: \", gym_diff)"
   ]
  },
  {
   "cell_type": "code",
   "execution_count": 63,
   "metadata": {},
   "outputs": [
    {
     "name": "stdout",
     "output_type": "stream",
     "text": [
      "High Freq- Location 1 comparison to Location 3\n",
      "Population Difference:  1558\n",
      "Average Income Difference:  8035.0\n",
      "Total Gyms Difference:  2\n"
     ]
    }
   ],
   "source": [
    "pop_diff = location_1[\"Population\"]-location_3[\"Population\"]\n",
    "income_diff = location_1[\"Avg Income\"]-location_3[\"Avg Income\"]\n",
    "gym_diff = location_1[\"Gyms\"]-location_3[\"Gyms\"]\n",
    "print(\"High Freq- Location 1 comparison to Location 3\")\n",
    "print(\"Population Difference: \", pop_diff)\n",
    "print(\"Average Income Difference: \", income_diff)\n",
    "print(\"Total Gyms Difference: \", gym_diff)"
   ]
  },
  {
   "cell_type": "code",
   "execution_count": 64,
   "metadata": {},
   "outputs": [
    {
     "name": "stdout",
     "output_type": "stream",
     "text": [
      "High Freq- Location 2 comparison to Location 3\n",
      "Population Difference:  42222\n",
      "Average Income Difference:  5441.0\n",
      "Total Gyms Difference:  -1\n"
     ]
    }
   ],
   "source": [
    "pop_diff = location_2[\"Population\"]-location_3[\"Population\"]\n",
    "income_diff = location_2[\"Avg Income\"]-location_3[\"Avg Income\"]\n",
    "gym_diff = location_2[\"Gyms\"]-location_3[\"Gyms\"]\n",
    "print(\"High Freq- Location 2 comparison to Location 3\")\n",
    "print(\"Population Difference: \", pop_diff)\n",
    "print(\"Average Income Difference: \", income_diff)\n",
    "print(\"Total Gyms Difference: \", gym_diff)"
   ]
  },
  {
   "cell_type": "code",
   "execution_count": 65,
   "metadata": {},
   "outputs": [
    {
     "name": "stdout",
     "output_type": "stream",
     "text": [
      "Optimal Location for High Freq Dataset:  Zip Code       10021\n",
      "Population    102078\n",
      "Avg Income     75472\n",
      "Gyms               4\n",
      "Gym Freq        high\n",
      "Name: 11, dtype: object\n"
     ]
    }
   ],
   "source": [
    "print(\"Optimal Location for High Freq Dataset: \", location_2)"
   ]
  },
  {
   "cell_type": "markdown",
   "metadata": {},
   "source": [
    "#### End of Analysis of High Freq Dataset"
   ]
  }
 ],
 "metadata": {
  "kernelspec": {
   "display_name": "Python 3",
   "language": "python",
   "name": "python3"
  },
  "language_info": {
   "codemirror_mode": {
    "name": "ipython",
    "version": 3
   },
   "file_extension": ".py",
   "mimetype": "text/x-python",
   "name": "python",
   "nbconvert_exporter": "python",
   "pygments_lexer": "ipython3",
   "version": "3.7.3"
  }
 },
 "nbformat": 4,
 "nbformat_minor": 2
}
