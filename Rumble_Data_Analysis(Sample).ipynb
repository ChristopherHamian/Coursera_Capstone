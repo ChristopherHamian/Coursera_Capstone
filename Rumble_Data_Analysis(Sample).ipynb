{
  "nbformat": 4,
  "nbformat_minor": 0,
  "metadata": {
    "kernelspec": {
      "display_name": "Python 3",
      "language": "python",
      "name": "python3"
    },
    "language_info": {
      "codemirror_mode": {
        "name": "ipython",
        "version": 3
      },
      "file_extension": ".py",
      "mimetype": "text/x-python",
      "name": "python",
      "nbconvert_exporter": "python",
      "pygments_lexer": "ipython3",
      "version": "3.7.3"
    },
    "colab": {
      "name": "Rumble_Data_Analysis.ipynb",
      "provenance": [],
      "collapsed_sections": [],
      "include_colab_link": true
    }
  },
  "cells": [
    {
      "cell_type": "markdown",
      "metadata": {
        "id": "view-in-github",
        "colab_type": "text"
      },
      "source": [
        "<a href=\"https://colab.research.google.com/github/ChristopherHamian/Coursera_Capstone/blob/master/Rumble_Data_Analysis(Sample).ipynb\" target=\"_parent\"><img src=\"https://colab.research.google.com/assets/colab-badge.svg\" alt=\"Open In Colab\"/></a>"
      ]
    },
    {
      "cell_type": "code",
      "metadata": {
        "id": "6dtgSTaOXm5D",
        "colab_type": "code",
        "colab": {}
      },
      "source": [
        "#############################################################################################\n",
        "\n",
        "# EXPLORATORY DATA ANALYSIS FOR RUMBLE BOXING DATASET\n",
        "# DIVISION AND SEGMENATION AMONGST CUSTOMERS AND NUMBER OF CLASSES\n",
        "\n",
        "# ******PORTIONS OF CODE AND DATASET ARE EXCLUDED TO PROTECT COMPANY PRIVACY******\n",
        "\n",
        "#############################################################################################"
      ],
      "execution_count": 2,
      "outputs": []
    },
    {
      "cell_type": "code",
      "metadata": {
        "id": "0doxkGupZc7k",
        "colab_type": "code",
        "colab": {}
      },
      "source": [
        "#########################################################\n",
        "# IMPORTS NECESSARY FOR THE SCRIPT           \n",
        "#########################################################\n",
        "from datetime import datetime\n",
        "from datetime import timedelta\n",
        "import pandas as pd\n",
        "import numpy as np\n",
        "import time\n",
        "import statistics\n",
        "import os"
      ],
      "execution_count": 29,
      "outputs": []
    },
    {
      "cell_type": "code",
      "metadata": {
        "id": "Z1RGSVR4Xm5H",
        "colab_type": "code",
        "colab": {}
      },
      "source": [
        "########################################################\n",
        "# UNCOMMENT SECTION BELOW TO USE THE TOTAL DATASET          \n",
        "########################################################\n",
        "from google.colab import files\n",
        "import io\n",
        "uploaded = files.upload()\n",
        "df = pd.read_csv(io.StringIO(uploaded['data.csv'].decode('utf-8'))) \n",
        "paid = 0"
      ],
      "execution_count": null,
      "outputs": []
    },
    {
      "cell_type": "code",
      "metadata": {
        "id": "GpsFRJR9Xm5Q",
        "colab_type": "code",
        "colab": {}
      },
      "source": [
        "#########################################################\n",
        "# DONT NEED TO TOUCH THIS CODE BLOCK         \n",
        "#########################################################\n",
        "pd.options.mode.chained_assignment = None \n",
        "df.sort_values([\"CUSTOMER_ID\",\"CLASS_DATE\"], ascending=[True,True], inplace = True)    ### SORT DATASET BY CUSTOMER_ID AND CLASS_DATE\n",
        "folder = os.getcwd() +'/'   ##### CREATES FOLDER DIRECTORY TO STORE FILES"
      ],
      "execution_count": 5,
      "outputs": []
    },
    {
      "cell_type": "code",
      "metadata": {
        "id": "qRn2CxhZXm5T",
        "colab_type": "code",
        "colab": {}
      },
      "source": [
        "########################################################\n",
        "# UNCOMMENT SECTION BELOW TO USE THE TRAINER FILTER         \n",
        "########################################################\n",
        "\n",
        "data_filter = 'TRAINER'\n",
        "uploaded = files.upload()\n",
        "filter = pd.read_csv(io.StringIO(uploaded['trainers.csv'].decode('utf-8'))) \n",
        "filter=np.array(filter)"
      ],
      "execution_count": null,
      "outputs": []
    },
    {
      "cell_type": "code",
      "metadata": {
        "id": "hxPZC4a4Xm5g",
        "colab_type": "code",
        "colab": {}
      },
      "source": [
        "#########################################################\n",
        "# STORES ALL THE CLASS DATES AND CUSTOMER_IDS IN \n",
        "# SEPARATE ARRAYS (DATE_ARRAY & ID_ARRAY)\n",
        "# DONT NEED TO TOUCH THIS CODE BLOCK\n",
        "#########################################################\n",
        "id_array = df['CUSTOMER_ID'].tolist() \n",
        "date_array=[]   \n",
        "for index,row in df.iterrows():    \n",
        "    temp_str = str(row[\"CLASS_DATE\"])\n",
        "    date_array.append(datetime.strptime(temp_str, '%Y-%m-%d %H:%M').date())     #### CONVERTS DATE FROM STRING TO DATETIME"
      ],
      "execution_count": 9,
      "outputs": []
    },
    {
      "cell_type": "code",
      "metadata": {
        "id": "qAl2E16xXm5k",
        "colab_type": "code",
        "colab": {}
      },
      "source": [
        "#########################################################\n",
        "# CALULCATES THE TOTAL NUMBER OF CUSTOMERS DAILY (CUST_DAY)\n",
        "# CALULATES TOTAL MONTHS THAT REGION HAS BEEN OPEN (TOTAL_MONTHS_OPEN)\n",
        "# DONT NEED TO TOUCH THIS CODE BLOCK\n",
        "#########################################################\n",
        "sorted_dates=date_array.copy()          \n",
        "sorted_dates.sort()                    #### SORTS THE DATES IN ORDER SO THAT WE CAN TOTAL DAILY COUNT (SORTED_DATES)\n",
        "total_months_open = (sorted_dates[len(sorted_dates)-1].month)+(12*(sorted_dates[len(sorted_dates)-1].year-sorted_dates[0].year))-6    #### CALCULATES TOTAL MONTHS REGION HAS BEEN OPEN\n",
        "df[\"CLASS DATE\"] = sorted_dates\n",
        "cust_per_day = df.pivot_table(index=(['CLASS DATE']), aggfunc='size')      ##### SEPARATES THE NUMBER OF CUSTOMERS BY DAY (CUST_PER_DAY)\n",
        "cust_day = []\n",
        "for i in range(len(cust_per_day)):\n",
        "    cust_day.append(cust_per_day[i])             ###### FINAL ARRAY OF TOTAL CUSTOMERS DAILY"
      ],
      "execution_count": 10,
      "outputs": []
    },
    {
      "cell_type": "code",
      "metadata": {
        "id": "Sajg5qdxXm5m",
        "colab_type": "code",
        "colab": {}
      },
      "source": [
        "#########################################################\n",
        "# CALUCLATES MONTHLY-FILTER STATS FOR CSV FILE(LATER)\n",
        "# GENERATES LIST OF NUMBER OF FIRST TIMERS DAILY\n",
        "#########################################################\n",
        "\n",
        "total_avg_days_month = np.zeros((total_months_open,4))   #### TOTAL DAYS BETWEEN EACH CUSTOMER'S GROUP CLASSIFICATION BY MONTH\n",
        "group_count_month = np.zeros((total_months_open,4))      #### TOTAL NUMBER OF CUSTOMERS IN EACH GROUP CLASSIFICATION BY MONTHLY\n",
        "total_group4_monthly_classes = [0] * total_months_open   #### TOTAL NUMBER OF CLASSES FOR PEOPLE WITH 4+ CLASSES BY MONTHLY\n",
        "\n",
        "filter_length= len(filter)                                #### SIZE OF THE CURRENT FILTER FOR INDEXING (# OF TRAINERS OR # OF TIMESLOTS)\n",
        "total_filter_length = filter_length*total_months_open        #### TOTAL SIZE OF THE FILTER BY MONTH, EX. 4 TRAINERS * 4 MONTHS = 16 DIF ROW VALUES (2D ARRAY)\n",
        "total_avg_days_filter = np.zeros((total_filter_length,4))    #### TOTAL DAYS BETWEEN EACH CUSTOMER'S GROUP CLASSIFICATION BY MONTHLY-FILTER (2D ARRAY)\n",
        "group_count_filter = np.zeros((total_filter_length,4))       #### TOTAL NUMBER OF CUSTOMERS IN EACH GROUP CLASSIFICATION BY MONTHLY-FILTER (2D ARRAY)\n",
        "total_group4_filter_classes = [0] * total_filter_length      #### TOTAL NUMBER OF CLASSES FOR PEOPLE WITH 4+ CLASSES BY MONTHLY-FILTER (1D ARRAY)\n",
        "total_filter_percent = [0] * total_filter_length             #### TOTAL NUMBER OF PEOPLE FOR THAT MONTHLY-FILTER *NOT* BY GROUP CLASSIFICATION, PERCENTAGE WILL BE CALCULATED LATER\n",
        "filter_index = 0                                             #### RESETS INDEX OF THE MONTHLY-FILTER\n",
        "\n",
        "date_cust_count = []   ### ARRAY COUNT OF NEW CUSTOMERS EVERYDAY (TO BE CALCULATED LATER)\n",
        "list_of_dates = []    ### ARRAY OF ALL THE DATES FOR CUSTOMERS FIRST CLASS (NO DUPLICATES)\n",
        "i=0     ### SET INDEX TO ZERO\n",
        "\n",
        "#### LOOPS THROUGH ALL CUSTOMERS\n",
        "while(i<len(id_array)-1):  \n",
        "    \n",
        "    list_of_dates.append(date_array[i])\n",
        "    current_cust_id=id_array[i] #### SETS STARTING CUSTOMER_ID, CURRENT_CUST_ID IS COMPARED TO THE NEXT ID IN THE LIST (NEXT_CUST_ID)\n",
        "    current_date = date_array[i] #### SETS STARTING CLASS_DATE ASSOCIATED WITH THAT CUSTOMER\n",
        "    next_cust_id = id_array[i+1] #### SETS NEXT CUSTOMER_ID FOR COMPARISON\n",
        "    next_date = date_array[i+1]  #### SETS NEXT CUSTOMER CLASS_DATE\n",
        "    current_class_count = 1  #### STARTS CLASS COUNT AT 1 \n",
        "    total_date_dif = 0.0    #### SETS TOTAL AVERAGE DAYS TO 0\n",
        "    date_dif = 0.0          #### DIFFERENCE OF EACH AVERAGE\n",
        "    current_year = 2018    #### STARTS CURRENT YEAR TO COMPARE\n",
        "    current_month = 7       #### STARTS CURRENT MONTH TO COMPARE\n",
        "\n",
        "    #####   DETERMINES WHICH FILTER WILL BE USED FOR GENERATING THE MONTHLY STATS, DO NOT NEED TO EDIT\n",
        "    if(data_filter=='TRAINER'):                                    \n",
        "        filter = df[i:i+1].INSTRUCTOR.to_string(index=False)     #### SET FILTER TO TRAINER\n",
        "    else:\n",
        "        filter =  (datetime.strptime(str(df[i:i+1].CLASS_DATE.to_string(index=False)), ' %Y-%m-%d %H:%M').time()).strftime(\" %H:%M:%S  \")    #### SET FILTER TO TIMESLOT\n",
        "    ##########################\n",
        "    \n",
        "    ### IF CUSTOMER ONLY HAS 1 CLASS, THEY WILL NOT GO THROUGH THIS LOOP, current_cust_id IS THE ONLY OCCURRENCE OF THAT CUSTOMER_ID\n",
        "    while (next_cust_id==current_cust_id):    ####   { LOOPS THROUGH ALL CLASSES FOR EACH CUSTOMER\n",
        "        if (current_class_count==1):                ##### IF ITS THE CUSTOMERS FIRST CLASS, SAVE LOCATION, MONTH AND YEAR OF CLASS_DATE\n",
        "                    \n",
        "            for var in range(filter_length):                          #### FINDS THE INDEX OF THE FILTER OF THE CURRENT CUSTOMER\n",
        "                filter_names = np.array(filter[var:var+1])            #### SAVES THAT INDEX TO FILTER_INDEX, USED FOR INDEXING OF THE CUSTOMER CLASSIFICATION\n",
        "                if (filter == filter_names.any()):\n",
        "                    filter_index = var\n",
        "\n",
        "            while (current_year<current_date.year):    ##### STORES YEAR OF CUSTOMER'S FIRST CLASS\n",
        "                current_year+=1\n",
        "                current_month=1                       \n",
        "\n",
        "            while(current_month<current_date.month):   #### STORES MONTH OF CUSTOMER'S FIRST CLASS\n",
        "                current_month+=1                               \n",
        "        ########## END OF IF STATEMENT #########3\n",
        "        \n",
        "        current_class_count+=1                                       ###    CALCULATES TIME BETWEEN CLASSES AND ADDS TO TOTAL, ALSO INCREASES\n",
        "        date_dif = (next_date-current_date)/timedelta(days=1)     #####  CLASS COUNT \n",
        "        total_date_dif =  total_date_dif + date_dif                    ###    }   \n",
        "        current_date = next_date   ####   SETS FIRST DATE(TO COMPARE) TO THE NEXT DATE IN THE LIST\n",
        "        if (i<len(id_array)-2):\n",
        "            i+=1\n",
        "        else:\n",
        "            break\n",
        "        next_cust_id = id_array[i+1]      ##### INCREASES CUSTOMER_ID TO NEXT IN LIST\n",
        "        next_date = date_array[i+1]       ##### INCREASES 2ND DATE TO COMPARE TO NEXT DATE IN LIST\n",
        "        \n",
        "########### LOOP THROUGH CUSTOMERS ENDS HERE, NOW ONTO CLASSIFYING EACH CUSTOMER BY CLASS COUNT\n",
        "\n",
        "    if (current_class_count==1):     \n",
        "                             ##### SETS CURRENT YEAR AND CURRENT MONTH FOR CUSTOMERS WITH 1 CLASS\n",
        "        for var in range(filter_length):\n",
        "                filter_names = np.array(filter[var:var+1])\n",
        "                if (filter == filter_names.any()):\n",
        "                    filter_index = var\n",
        "                    \n",
        "        while (current_year<current_date.year):\n",
        "                current_year+=1\n",
        "                current_month=1\n",
        "            \n",
        "        while(current_month<current_date.month):\n",
        "                current_month+=1\n",
        "                \n",
        "       ########### MONTHLY STATS INDEXING BELOW\n",
        "        \n",
        "        group_count_month[(12*(current_year-2018))+(current_month-7)][0]+=1  #### INCREMENTS TOTAL GROUP COUNT FOR PEOPLE WITH 1 CLASS BY MONTH\n",
        "        \n",
        "        ############ MONTHLY-FILTER STATS INDEXING BELOW\n",
        "        \n",
        "        group_count_filter[((12*(current_year-2018))+(current_month-7))*filter_length+filter_index][0]+=1    ##### INCREMENTS TOTAL GROUP COUNT FOR PEOPLE WITH 1 CLASS BY MONTH-FILTER\n",
        "        total_filter_percent[((12*(current_year-2018))+(current_month-7))*filter_length+filter_index]+=1     ### INCREMENTS TOTAL COUNT OF THAT MONTHLY-FILTER\n",
        "    \n",
        "    else:\n",
        "        if (current_class_count>3):            ### IF CLASS COUNT IS 4+, CUSTOMER WILL BE CLASSIFIED HERE\n",
        "            temp_date_dif = total_date_dif/(current_class_count)    ### AVERAGE DAYS BETWEEN 4+ CLASSES FOR THIS PARTICULAR CUSTOMER\n",
        "            \n",
        "            ########### MONTHLY STATS INDEXING BELOW\n",
        "            \n",
        "            total_avg_days_month[(12*(current_year-2018))+(current_month-7)][3]+=temp_date_dif\n",
        "            group_count_month[(12*(current_year-2018))+(current_month-7)][3]+=1             #### INCREMENT TOTAL GROUP4+ COUNT FOR THAT MONTH\n",
        "            total_group4_monthly_classes[(12*(current_year-2018))+(current_month-7)] += current_class_count     #### ADD NUM OF CLASSES TO THE TOTAL 4+ CLASSES\n",
        "           \n",
        "            ############ MONTHLY-FILTER STATS INDEXING BELOW\n",
        "            \n",
        "            total_avg_days_filter[((12*(current_year-2018))+(current_month-7))*filter_length+filter_index][3]+=temp_date_dif   ### ADD LATEST DATE_DIF TO TOTAL FOR THAT GROUP\n",
        "            group_count_filter[((12*(current_year-2018))+(current_month-7))*filter_length+filter_index][3]+=1             #### INCREMENT TOTAL GROUP4+ COUNT FOR THAT MONTH\n",
        "            total_group4_filter_classes[((12*(current_year-2018))+(current_month-7))*filter_length+filter_index] +=current_class_count  ### INCREMENT TOTAL GROUP4+ COUNT FOR THAT MONTH\n",
        "            total_filter_percent[((12*(current_year-2018))+(current_month-7))*filter_length+filter_index]+=1       ### INCREMENTS TOTAL COUNT OF THAT MONTHLY-FILTE\n",
        "            \n",
        "        else:                               #### IF CLASS COUNT IS 2 OR 3 (CURRENT_CLASS_COUNT), CUSTOMER WILL BE CLASSIFIED HERE\n",
        "            temp_date_dif = total_date_dif/(current_class_count)      ### AVERAGE DAYS BETWEEN 4+ CLASSES FOR THIS PARTICULAR CUSTOMER\n",
        "           \n",
        "            ########### MONTHLY STATS INDEXING BELOW\n",
        "            \n",
        "            total_avg_days_month[(12*(current_year-2018))+(current_month-7)][current_class_count-1]+=temp_date_dif ##ADD LATEST DATE_DIF TO TOTAL\n",
        "            group_count_month[(12*(current_year-2018))+(current_month-7)][current_class_count-1]+=1     #### INCREMENT TOTAL GROUP COUNT FOR THAT MONTH\n",
        "            \n",
        "            ############ MONTHLY-FILTER STATS INDEXING BELOW\n",
        "            \n",
        "            total_avg_days_filter[((12*(current_year-2018))+(current_month-7))*filter_length+filter_index][current_class_count-1]+=temp_date_dif   ### ADD LATEST DATE_DIF TO TOTAL FOR THAT GROUP \n",
        "            group_count_filter[((12*(current_year-2018))+(current_month-7))*filter_length+filter_index][current_class_count-1]+=1          ### INCREMENT TOTAL GROUP COUNT FOR THAT MONTH-FILTER\n",
        "            total_filter_percent[((12*(current_year-2018))+(current_month-7))*filter_length+filter_index]+=1                                      ### INCREMENTS TOTAL COUNT OF THAT MONTHLY-FILTER\n",
        "    ##### CLASS CLASSIFICATION LOOP ENDS, NOW GO TO NEXT CUSTOMER_ID\n",
        "    \n",
        "    if (i<len(id_array)-1):      ##### INDEX WILL INCREASE AS LONG AS WE'RE NOT AT THE END OF THE DATASET\n",
        "        i+=1\n",
        "    else:\n",
        "        break\n",
        "\n",
        "##### END OF THE LOOP THROUGH CUSTOMERS\n",
        "list_of_dates.sort()   #### SORTS LIST OF CUSTOMER'S FIRST DATES\n",
        "index=0               #### SETS INDEX AT ZERO\n",
        "while(index<(len(list_of_dates)-2)):\n",
        "    while (list_of_dates[index]==list_of_dates[index+1]):        ##### TAKES THE COUNT OF EACH UNIQUE CLASS DATE AND STORES IN DATE_CUST_COUNT\n",
        "        index+=1\n",
        "    date_cust_count.append(list_of_dates.count(list_of_dates[index]))\n",
        "    index+=1"
      ],
      "execution_count": 11,
      "outputs": []
    },
    {
      "cell_type": "code",
      "metadata": {
        "id": "J2yC-p-aXm5p",
        "colab_type": "code",
        "colab": {}
      },
      "source": [
        "#########################################################\n",
        "# CALULATES THE MONTHLY COUNT FOR FIRST TIMERS\n",
        "# MONTH_FIRST_TIMER_COUNT: ARRAY COUNT OF MONTHLY FIRST TIMERS\n",
        "# GENERATES TEXT FILE THAT'S USED IN THE PREDICTIVE_MODEL FILE\n",
        "#########################################################\n",
        "index = 0\n",
        "month_first_timers_count=[]\n",
        "\n",
        "while(index<(len(list_of_dates)-1)):\n",
        "    month_count = 0\n",
        "    month_sum=0\n",
        "    while (list_of_dates[index].month==list_of_dates[index+1].month):  \n",
        "        if (index==len(list_of_dates)-2):\n",
        "            break\n",
        "        index+=1\n",
        "        month_sum+=1\n",
        "    month_count = month_count + month_sum \n",
        "\n",
        "    month_first_timers_count.append(month_count)\n",
        "    index+=1\n",
        "month_first_timers_count=np.array(month_first_timers_count)\n",
        "if (paid==1):\n",
        "    np.savetxt('monthly_first_timers(PAID).txt', month_first_timers_count, delimiter =', ') \n",
        "else:\n",
        "    np.savetxt('monthly_first_timers(TOTAL).txt', month_first_timers_count, delimiter =', ') "
      ],
      "execution_count": 12,
      "outputs": []
    },
    {
      "cell_type": "code",
      "metadata": {
        "id": "fBQv6m89Xm5t",
        "colab_type": "code",
        "colab": {}
      },
      "source": [
        "#########################################################\n",
        "# TALLIES ACTUAL MONTHLY COUNT FOR ALL CUSTOMERS\n",
        "# ACTUAL_MONTHLY_COUNT: ARRAY COUNT OF MONTHLY FIRST TIMERS\n",
        "# GENERATES TEXT FILE THAT'S USED IN THE PREDICTIVE_MODEL FILE\n",
        "#########################################################\n",
        "actual_monthly_count=[]\n",
        "index=0\n",
        "while(index<len(sorted_dates)-2):\n",
        "    month_sum=0\n",
        "    while(sorted_dates[index].month==sorted_dates[index+1].month):\n",
        "        month_sum+=1\n",
        "        if (index>=len(sorted_dates)-2):\n",
        "            break\n",
        "        index+=1\n",
        "    actual_monthly_count.append(month_sum)\n",
        "    if (index>=len(sorted_dates)-2):\n",
        "            break\n",
        "    index+=1\n",
        "if (paid==1):\n",
        "    np.savetxt('actual_monthly_count(PAID).txt', actual_monthly_count, delimiter =', ') \n",
        "else:\n",
        "    np.savetxt('actual_monthly_count(TOTAL).txt', actual_monthly_count, delimiter =', ') "
      ],
      "execution_count": 13,
      "outputs": []
    },
    {
      "cell_type": "code",
      "metadata": {
        "id": "RjGb5DJAXm5w",
        "colab_type": "code",
        "colab": {}
      },
      "source": [
        "#########################################################\n",
        "# GENERATES THE PERCENTAGE OF EACH PARTICULAR FILTER \n",
        "# THIS CODE BLOCK IS PART 1\n",
        "# CURRENT_FILTER_SUM: THE SUM OF ALL THE FILTERS FOR THAT PARTICULAR MONTH\n",
        "# TOTAL_FILTER_SUM: ARRAY OF ALL THE MONTHLY-FILTER SUMS, USED TO OBTAIN PERCENTAGES\n",
        "# TOTAL_FILTER_PERCENT: THE TOTAL ARRAY OF ALL THE MONTHLY-FITLER PERCENTAGES\n",
        "# DONT NEED TO EDIT THIS CODE BLOCK\n",
        "#########################################################\n",
        "current_filter_sum = 0 \n",
        "total_filter_sum = []\n",
        "\n",
        "\n",
        "for index in range(1,total_filter_length+1):\n",
        "    if(index%(filter_length+1)==0):\n",
        "        total_filter_sum.append(current_filter_sum)\n",
        "        current_filter_sum = 0\n",
        "    else:\n",
        "        current_filter_sum = current_filter_sum + total_filter_percent[index-1]\n",
        "\n",
        "for x in range(0,len(total_filter_sum)):\n",
        "    for y in range(filter_length):\n",
        "        total_filter_percent[filter_length*x+y] = total_filter_percent[filter_length*x+y]/total_filter_sum[x]"
      ],
      "execution_count": 14,
      "outputs": []
    },
    {
      "cell_type": "code",
      "metadata": {
        "id": "84yn6JTAXm5z",
        "colab_type": "code",
        "colab": {}
      },
      "source": [
        "#########################################################\n",
        "# THIS IS CODE BLOCK PART 2 FOR THE PERCENTAGES\n",
        "# THE LAST/INCOMPLETE MONTH NEEDS TO BE DONE SEPARATELY\n",
        "# DONT NEED TO EDIT THIS CODE BLOCK\n",
        "#########################################################\n",
        "temp_filter_sum=0\n",
        "for i in range(len(total_filter_percent)-filter_length,len(total_filter_percent)):\n",
        "    temp_filter_sum=temp_filter_sum+total_filter_percent[i]\n",
        "\n",
        "for i in range(len(total_filter_percent)-filter_length,len(total_filter_percent)):\n",
        "    total_filter_percent[i] = total_filter_percent[i]/temp_filter_sum #(temp_sum + total_filter_percent[len(total_filter_percent)-1])"
      ],
      "execution_count": 15,
      "outputs": []
    },
    {
      "cell_type": "code",
      "metadata": {
        "id": "dwuP197JXm51",
        "colab_type": "code",
        "colab": {
          "base_uri": "https://localhost:8080/",
          "height": 87
        },
        "outputId": "157c301f-f409-4c3c-a382-354eefecda95"
      },
      "source": [
        "#########################################################\n",
        "# USES TOTALS FROM PREVIOUS CODE BLOCKS TO GENERATE FINAL MONTHLY-FILTER STATS\n",
        "# FILTER_AVG_DAYS: FINAL 2D ARRAY OF AVERAGE DAYS BETWEEN CLASSES FOR EACH GROUP CLASSIFICATION BY MONTHLY-FILTER\n",
        "# TOTAL_GROUP4_FILTER_CLASSES: ARRAY OF FINAL NUMBER OF 4+ CLASSES BY GROUP MONTHLY-FILTER\n",
        "# GROUP_COUNT_FILTER: TOTAL *****PERCENTAGE***** OF THAT GROUP CLASSIFICATION BY MONTHLY-FILTER\n",
        "# IGNORE THE WARNINGS AT THE END, THAT OCCURRS BECAUSE SOME COLUMNS ARE ZERO\n",
        "# DONT NEED TO EDIT THIS CODE BLOCK\n",
        "#########################################################\n",
        "\n",
        "filter_avg_days = np.zeros((total_filter_length,4))     ### CREATE MATRIX FOR MONTHS(30) TO AVERAGE DAYS OF EACH GROUP CLASSIFICATION(4)\n",
        "for a in range(total_filter_length):\n",
        "    for b in range(4):\n",
        "        filter_avg_days[a][b] = total_avg_days_filter[a][b]/(group_count_filter[a][b])   ##### CALULATES AVERAGE DAYS FOR THAT CLASSIFICATION BY DIVIDING\n",
        "                                                                        #### TOTAL AVERAGE DAYS OF THAT GROUP BY TOTAL COUNT OF THAT GROUP\n",
        "        \n",
        "for x in range(total_filter_length):\n",
        "    total_group4_filter_classes[x] = total_group4_filter_classes[x]/group_count_filter[x][3]  ##### CALCULATES AVERAGE # OF 4= CLASSES FOR THAT\n",
        "                                                                                                ### PARTICULAR MONTH\n",
        "total_sum_filter = []\n",
        "for x in range(total_filter_length):\n",
        "    total_temp = 0\n",
        "    for y in range(4):                                   ##### CALCULATES THE SUM OF CUSTOMERS FROM EACH MONTH\n",
        "        total_temp += group_count_filter[x][y]       #### EX. TOTAL_SUM[0] IS THE TOTAL # OF CUSTOMERS OF JAN 2018\n",
        "    total_sum_filter.append(total_temp)                        \n",
        "    \n",
        "for x in range(total_filter_length):\n",
        "    for y in range(4):                    \n",
        "        group_count_filter[x][y] = group_count_filter[x][y]/total_sum_filter[x]      ##### DIVIDES TOTAL SUM BY TOTAL OF EACH GROUP TO GET % OF EACH GROUP\n",
        "                                                                            #####    IN THAT SPECIFIED MONTH"
      ],
      "execution_count": 16,
      "outputs": [
        {
          "output_type": "stream",
          "text": [
            "/usr/local/lib/python3.6/dist-packages/ipykernel_launcher.py:13: RuntimeWarning: invalid value encountered in double_scalars\n",
            "  del sys.path[0]\n",
            "/usr/local/lib/python3.6/dist-packages/ipykernel_launcher.py:17: RuntimeWarning: invalid value encountered in double_scalars\n",
            "/usr/local/lib/python3.6/dist-packages/ipykernel_launcher.py:28: RuntimeWarning: invalid value encountered in double_scalars\n"
          ],
          "name": "stderr"
        }
      ]
    },
    {
      "cell_type": "code",
      "metadata": {
        "id": "OTYZhKR0Xm55",
        "colab_type": "code",
        "colab": {}
      },
      "source": [
        "#########################################################\n",
        "# GENERATES 2 ARRAYS: 1. THE MONTHS/YEAR THAT PH HAS\n",
        "# BEEN OPEN (MONTH_FILTER_LABELS) AND 2. THE NAME OF THE FILTER\n",
        "# FOR THAT PARTICULAR MONTH (FILTER_LABELS)\n",
        "# DONT NEED TO EDIT THIS CODE BLOCK\n",
        "#########################################################\n",
        "date = datetime.strptime('2018-07-10', '%Y-%m-%d')    ### START DATE\n",
        "month_filter_labels = []\n",
        "filter_labels = []\n",
        "month_index=0\n",
        "while (month_index<total_filter_length):\n",
        "    for i in range(filter_length):\n",
        "        month_filter_labels.append((str(date.strftime(\"%B\") + ' ' + str(date.year))))      #### ADDS NEW MONTH ONCE WE'RE AT THE END OF THE FILTER LENGTH (NUMBER OF TRAINERS/TIMESLOTS)\n",
        "        filter_labels.append(la_filter[i])                                          #### ADDS THAT FILTER LABEL FOR VIEWING PURPOSES\n",
        "        month_index+=1\n",
        "    date = (date+timedelta(days=30))    ##### INCREMENTS MONTH"
      ],
      "execution_count": 17,
      "outputs": []
    },
    {
      "cell_type": "code",
      "metadata": {
        "id": "P8Dx-0RdXm59",
        "colab_type": "code",
        "colab": {}
      },
      "source": [
        "#########################################################\n",
        "# GENERATES THE MONTHS/YEAR THAT PH HAS\n",
        "# BEEN OPEN (MONTH_LABELS)\n",
        "# DONT NEED TO EDIT THIS CODE BLOCK\n",
        "#########################################################\n",
        "\n",
        "date = datetime.strptime('2018-7-10', '%Y-%m-%d')    ### START DATE\n",
        "month_labels = []\n",
        "month_index=0\n",
        "for i in range(total_months_open):\n",
        "    month_labels.append((str(date.strftime(\"%B\") + ' ' + str(date.year))))      #### ADDS NEW MONTH ONCE WE'RE AT THE END OF THE FILTER LENGTH (NUMBER OF TRAINERS/TIMESLOTS)\n",
        "    month_index+=1\n",
        "    date = (date+timedelta(days=30))    ##### INCREMENTS MONTH"
      ],
      "execution_count": 18,
      "outputs": []
    },
    {
      "cell_type": "code",
      "metadata": {
        "id": "73FDB7LaXm6C",
        "colab_type": "code",
        "colab": {}
      },
      "source": [
        "#########################################################\n",
        "# USED TO GENERATE 2D LIST FOR CSV FILE\n",
        "# DONT NEED TO EDIT THIS CODE BLOCK\n",
        "#########################################################\n",
        "avg_days_2_classes_filter,avg_days_3_classes_filter,avg_days_4_classes_filter = [],[],[]\n",
        "total_number_1_class_filter,total_number_2_classes_filter,total_number_3_classes_filter,total_number_4_classes_filter = [],[],[],[]\n",
        "for index in range(total_filter_length):\n",
        "    total_number_1_class_filter.append(group_count_filter[index][0])\n",
        "    total_number_2_classes_filter.append(group_count_filter[index][1])                     ####  CREATES CSV FILE OF ALL THE MONTHLY STATISTICS ####\n",
        "    total_number_3_classes_filter.append(group_count_filter[index][2])\n",
        "    total_number_4_classes_filter.append(group_count_filter[index][3])\n",
        "    avg_days_2_classes_filter.append(filter_avg_days[index][1])\n",
        "    avg_days_3_classes_filter.append(filter_avg_days[index][2])\n",
        "    avg_days_4_classes_filter.append(filter_avg_days[index][3])"
      ],
      "execution_count": 19,
      "outputs": []
    },
    {
      "cell_type": "code",
      "metadata": {
        "id": "imAy1GJOXm6F",
        "colab_type": "code",
        "colab": {}
      },
      "source": [
        "#########################################################\n",
        "# GENERATES CSV FILE FOR THE CHOSEN FILTER\n",
        "# DONT NEED TO EDIT THIS CODE BLOCK\n",
        "#########################################################\n",
        "filter_stats = {'Month-Year': month_filter_labels,(data_filter + 'S'):filter_labels,(data_filter + ' Percent'):total_filter_percent,'CUSTOMER GROUP 1%':total_number_1_class_filter, 'CUSTOMER GROUP 2%':total_number_2_classes_filter, \n",
        "                                  'CUSTOMER GROUP 3%':total_number_3_classes_filter,\n",
        "                                  'CUSTOMER GROUP 4+%':total_number_4_classes_filter, 'AVG TIME 2 CLASSES':avg_days_2_classes_filter,\n",
        "                                  'AVG TIME 3 CLASSES':avg_days_3_classes_filter, 'AVG TIME 4+ CLASSES':avg_days_4_classes_filter, \n",
        "             'AVG NUMBER 4+ CLASSES':total_group4_filter_classes}\n",
        "csv_filter_stats = (pd.DataFrame(data=filter_stats).fillna(0))\n",
        "if (paid==1):\n",
        "    csv_filter_stats.to_csv (folder+'stats(' + data_filter +')(PAID).csv', index = None, header=True)\n",
        "else:\n",
        "    csv_filter_stats.to_csv (folder+'stats(' + data_filter +')(TOTAL).csv', index = None, header=True)"
      ],
      "execution_count": 20,
      "outputs": []
    },
    {
      "cell_type": "code",
      "metadata": {
        "id": "54PTwhDGXm6L",
        "colab_type": "code",
        "colab": {
          "base_uri": "https://localhost:8080/",
          "height": 77
        },
        "outputId": "864946b0-a63a-4b54-e1d3-0f34b5524521"
      },
      "source": [
        "csv_filter_stats[:1]"
      ],
      "execution_count": 27,
      "outputs": [
        {
          "output_type": "execute_result",
          "data": {
            "text/html": [
              "<div>\n",
              "<style scoped>\n",
              "    .dataframe tbody tr th:only-of-type {\n",
              "        vertical-align: middle;\n",
              "    }\n",
              "\n",
              "    .dataframe tbody tr th {\n",
              "        vertical-align: top;\n",
              "    }\n",
              "\n",
              "    .dataframe thead th {\n",
              "        text-align: right;\n",
              "    }\n",
              "</style>\n",
              "<table border=\"1\" class=\"dataframe\">\n",
              "  <thead>\n",
              "    <tr style=\"text-align: right;\">\n",
              "      <th></th>\n",
              "      <th>Month-Year</th>\n",
              "      <th>TIMESLOTS</th>\n",
              "      <th>TIMESLOT Percent</th>\n",
              "      <th>CUSTOMER GROUP 1%</th>\n",
              "      <th>CUSTOMER GROUP 2%</th>\n",
              "      <th>CUSTOMER GROUP 3%</th>\n",
              "      <th>CUSTOMER GROUP 4+%</th>\n",
              "      <th>AVG TIME 2 CLASSES</th>\n",
              "      <th>AVG TIME 3 CLASSES</th>\n",
              "      <th>AVG TIME 4+ CLASSES</th>\n",
              "      <th>AVG NUMBER 4+ CLASSES</th>\n",
              "    </tr>\n",
              "  </thead>\n",
              "  <tbody>\n",
              "    <tr>\n",
              "      <th>0</th>\n",
              "      <td>July 2018</td>\n",
              "      <td>[ AJ Perez]</td>\n",
              "      <td>1.0</td>\n",
              "      <td>0.28475</td>\n",
              "      <td>0.219086</td>\n",
              "      <td>0.086223</td>\n",
              "      <td>0.409942</td>\n",
              "      <td>19.034314</td>\n",
              "      <td>30.542112</td>\n",
              "      <td>20.500575</td>\n",
              "      <td>22.929641</td>\n",
              "    </tr>\n",
              "  </tbody>\n",
              "</table>\n",
              "</div>"
            ],
            "text/plain": [
              "  Month-Year    TIMESLOTS  ...  AVG TIME 4+ CLASSES  AVG NUMBER 4+ CLASSES\n",
              "0  July 2018  [ AJ Perez]  ...            20.500575              22.929641\n",
              "\n",
              "[1 rows x 11 columns]"
            ]
          },
          "metadata": {
            "tags": []
          },
          "execution_count": 27
        }
      ]
    },
    {
      "cell_type": "code",
      "metadata": {
        "id": "BTY67cx8Xm6P",
        "colab_type": "code",
        "colab": {}
      },
      "source": [
        "### CALCULATE MONTH PERCENTAGES AND AVERAGE DAYS\n",
        "\n",
        "\n",
        "month_avg_days = np.zeros((total_months_open,4))     ### CREATE MATRIX FOR MONTHS(30) TO AVERAGE DAYS OF EACH GROUP CLASSIFICATION(4)\n",
        "for x in range(total_months_open):\n",
        "    for y in range(4):\n",
        "        month_avg_days[x][y] = total_avg_days_month[x][y]/(group_count_month[x][y])   ##### CALULATES AVERAGE DAYS FOR THAT CLASSIFICATION BY DIVIDING\n",
        "                                                                        #### TOTAL AVERAGE DAYS OF THAT GROUP BY TOTAL COUNT OF THAT GROUP\n",
        "        \n",
        "for x in range(total_months_open):\n",
        "    total_group4_monthly_classes[x] = total_group4_monthly_classes[x]/group_count_month[x][3]  ##### CALCULATES AVERAGE # OF 4= CLASSES FOR THAT\n",
        "                                                                                                ### PARTICULAR MONTH\n",
        "total_sum = []\n",
        "for x in range(total_months_open):\n",
        "    total_temp = 0\n",
        "    for y in range(4):                                   ##### CALCULATES THE SUM OF CUSTOMERS FROM EACH MONTH\n",
        "        total_temp += group_count_month[x][y]       #### EX. TOTAL_SUM[0] IS THE TOTAL # OF CUSTOMERS OF JAN 2017\n",
        "    total_sum.append(total_temp)                        \n",
        "    \n",
        "for x in range(total_months_open):\n",
        "    for y in range(4):                    \n",
        "        group_count_month[x][y] = group_count_month[x][y]/total_sum[x]    ##### DIVIDES TOTAL SUM BY TOTAL OF EACH GROUP TO GET % OF EACH GROUP\n",
        "                                                                            #####    IN THAT SPECIFIED MONTH\n",
        "##### GROUP_COUNT_MONTH IS A MATRIX OF THE PERCENTAGES OF EACH 4 GROUPS BY MONTH\n",
        "##### MONTH_AVG_DAYS IS THE AVERAGE # OF DAYS BETWEEN CLASS FOR EACH GROUP CLASSIFICATION IN THAT SPECIFIED MONTH\n",
        "### TOTAL_GROUP4_MONTHLY_CLASSES IS THE AVERAGE NUMBER OF 4+ CLASSES BY EACH MONTH"
      ],
      "execution_count": 22,
      "outputs": []
    },
    {
      "cell_type": "code",
      "metadata": {
        "id": "FVSXyZJUXm6T",
        "colab_type": "code",
        "colab": {}
      },
      "source": [
        "#########################################################\n",
        "# USED TO GENERATE 2D LIST FOR CSV FILE\n",
        "# GENERATES MONTHLY STATS\n",
        "# DONT NEED TO EDIT THIS CODE BLOCK\n",
        "#########################################################\n",
        "avg_days_2_classes,avg_days_3_classes,avg_days_4_classes = [],[],[]\n",
        "total_number_1_class,total_number_2_classes,total_number_3_classes,total_number_4_classes = [],[],[],[]\n",
        "for index in range(total_months_open):\n",
        "    total_number_1_class.append(group_count_month[index][0])\n",
        "    total_number_2_classes.append(group_count_month[index][1])                     \n",
        "    total_number_3_classes.append(group_count_month[index][2])\n",
        "    total_number_4_classes.append(group_count_month[index][3])\n",
        "    avg_days_2_classes.append(month_avg_days[index][1])\n",
        "    avg_days_3_classes.append(month_avg_days[index][2])\n",
        "    avg_days_4_classes.append(month_avg_days[index][3])"
      ],
      "execution_count": 23,
      "outputs": []
    },
    {
      "cell_type": "code",
      "metadata": {
        "id": "TJfI-SLLXm6X",
        "colab_type": "code",
        "colab": {}
      },
      "source": [
        "#########################################################\n",
        "# GENERATES CSV FILE FOR MONTHS OPEN\n",
        "# DONT NEED TO EDIT THIS CODE BLOCK\n",
        "#########################################################\n",
        "stats = {'MONTH-YEAR':month_labels,'CUSTOMER GROUP 1%':total_number_1_class, 'CUSTOMER GROUP 2%':total_number_2_classes, \n",
        "                                  'CUSTOMER GROUP 3%':total_number_3_classes,\n",
        "                                  'CUSTOMER GROUP 4+%':total_number_4_classes, 'AVG TIME 2 CLASSES':avg_days_2_classes,\n",
        "                                  'AVG TIME 3 CLASSES':avg_days_3_classes, 'AVG TIME 4+ CLASSES':avg_days_4_classes, \n",
        "             'AVG NUMBER 4+ CLASSES':total_group4_monthly_classes}\n",
        "csv_stats = pd.DataFrame(data=stats)\n",
        "if (paid==1):\n",
        "    csv_stats.to_csv (folder+'monthly-stats(PAID).csv', index = None, header=True)\n",
        "else:\n",
        "    csv_stats.to_csv (folder+'monthly-stats(TOTAL).csv', index = None, header=True)"
      ],
      "execution_count": 24,
      "outputs": []
    },
    {
      "cell_type": "code",
      "metadata": {
        "id": "TBfZHoJpXm6Z",
        "colab_type": "code",
        "colab": {
          "base_uri": "https://localhost:8080/",
          "height": 77
        },
        "outputId": "95b8b997-9dca-49bf-dce0-5010f37169e8"
      },
      "source": [
        "csv_stats[:1]"
      ],
      "execution_count": 28,
      "outputs": [
        {
          "output_type": "execute_result",
          "data": {
            "text/html": [
              "<div>\n",
              "<style scoped>\n",
              "    .dataframe tbody tr th:only-of-type {\n",
              "        vertical-align: middle;\n",
              "    }\n",
              "\n",
              "    .dataframe tbody tr th {\n",
              "        vertical-align: top;\n",
              "    }\n",
              "\n",
              "    .dataframe thead th {\n",
              "        text-align: right;\n",
              "    }\n",
              "</style>\n",
              "<table border=\"1\" class=\"dataframe\">\n",
              "  <thead>\n",
              "    <tr style=\"text-align: right;\">\n",
              "      <th></th>\n",
              "      <th>MONTH-YEAR</th>\n",
              "      <th>CUSTOMER GROUP 1%</th>\n",
              "      <th>CUSTOMER GROUP 2%</th>\n",
              "      <th>CUSTOMER GROUP 3%</th>\n",
              "      <th>CUSTOMER GROUP 4+%</th>\n",
              "      <th>AVG TIME 2 CLASSES</th>\n",
              "      <th>AVG TIME 3 CLASSES</th>\n",
              "      <th>AVG TIME 4+ CLASSES</th>\n",
              "      <th>AVG NUMBER 4+ CLASSES</th>\n",
              "    </tr>\n",
              "  </thead>\n",
              "  <tbody>\n",
              "    <tr>\n",
              "      <th>0</th>\n",
              "      <td>July 2018</td>\n",
              "      <td>0.28475</td>\n",
              "      <td>0.219086</td>\n",
              "      <td>0.086223</td>\n",
              "      <td>0.409942</td>\n",
              "      <td>19.034314</td>\n",
              "      <td>30.542112</td>\n",
              "      <td>20.500575</td>\n",
              "      <td>22.929641</td>\n",
              "    </tr>\n",
              "  </tbody>\n",
              "</table>\n",
              "</div>"
            ],
            "text/plain": [
              "  MONTH-YEAR  CUSTOMER GROUP 1%  ...  AVG TIME 4+ CLASSES  AVG NUMBER 4+ CLASSES\n",
              "0  July 2018            0.28475  ...            20.500575              22.929641\n",
              "\n",
              "[1 rows x 9 columns]"
            ]
          },
          "metadata": {
            "tags": []
          },
          "execution_count": 28
        }
      ]
    }
  ]
}