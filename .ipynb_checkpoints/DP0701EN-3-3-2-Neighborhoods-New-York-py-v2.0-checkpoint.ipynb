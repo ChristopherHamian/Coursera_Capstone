{
 "cells": [
  {
   "cell_type": "markdown",
   "metadata": {},
   "source": [
    "<a href=\"https://cognitiveclass.ai\"><img src = \"https://ibm.box.com/shared/static/9gegpsmnsoo25ikkbl4qzlvlyjbgxs5x.png\" width = 400> </a>\n",
    "\n",
    "<h1 align=center><font size = 5>Segmenting and Clustering Neighborhoods in New York City</font></h1>"
   ]
  },
  {
   "cell_type": "markdown",
   "metadata": {},
   "source": [
    "## Introduction\n",
    "\n",
    "In this lab, you will learn how to convert addresses into their equivalent latitude and longitude values. Also, you will use the Foursquare API to explore neighborhoods in New York City. You will use the **explore** function to get the most common venue categories in each neighborhood, and then use this feature to group the neighborhoods into clusters. You will use the *k*-means clustering algorithm to complete this task. Finally, you will use the Folium library to visualize the neighborhoods in New York City and their emerging clusters."
   ]
  },
  {
   "cell_type": "markdown",
   "metadata": {},
   "source": [
    "## Table of Contents\n",
    "\n",
    "<div class=\"alert alert-block alert-info\" style=\"margin-top: 20px\">\n",
    "\n",
    "<font size = 3>\n",
    "\n",
    "1. <a href=\"#item1\">Download and Explore Dataset</a>\n",
    "\n",
    "2. <a href=\"#item2\">Explore Neighborhoods in New York City</a>\n",
    "\n",
    "3. <a href=\"#item3\">Analyze Each Neighborhood</a>\n",
    "\n",
    "4. <a href=\"#item4\">Cluster Neighborhoods</a>\n",
    "\n",
    "5. <a href=\"#item5\">Examine Clusters</a>    \n",
    "</font>\n",
    "</div>"
   ]
  },
  {
   "cell_type": "markdown",
   "metadata": {},
   "source": [
    "Before we get the data and start exploring it, let's download all the dependencies that we will need."
   ]
  },
  {
   "cell_type": "code",
   "execution_count": 116,
   "metadata": {},
   "outputs": [
    {
     "name": "stdout",
     "output_type": "stream",
     "text": [
      "Libraries imported.\n"
     ]
    }
   ],
   "source": [
    "import numpy as np # library to handle data in a vectorized manner\n",
    "\n",
    "import pandas as pd # library for data analsysis\n",
    "pd.set_option('display.max_columns', None)\n",
    "pd.set_option('display.max_rows', None)\n",
    "\n",
    "import json # library to handle JSON files\n",
    "\n",
    "#!conda install -c conda-forge geopy --yes # uncomment this line if you haven't completed the Foursquare API lab\n",
    "from geopy.geocoders import Nominatim # convert an address into latitude and longitude values\n",
    "\n",
    "import requests # library to handle requests\n",
    "from pandas.io.json import json_normalize # tranform JSON file into a pandas dataframe\n",
    "\n",
    "# Matplotlib and associated plotting modules\n",
    "import matplotlib.cm as cm\n",
    "import matplotlib.colors as colors\n",
    "\n",
    "# import k-means from clustering stage\n",
    "from sklearn.cluster import KMeans\n",
    "\n",
    "#!conda install -c conda-forge folium=0.5.0 --yes # uncomment this line if you haven't completed the Foursquare API lab\n",
    "import folium # map rendering library\n",
    "import wget\n",
    "print('Libraries imported.')"
   ]
  },
  {
   "cell_type": "markdown",
   "metadata": {},
   "source": [
    "<a id='item1'></a>"
   ]
  },
  {
   "cell_type": "markdown",
   "metadata": {},
   "source": [
    "## 1. Download and Explore Dataset"
   ]
  },
  {
   "cell_type": "markdown",
   "metadata": {},
   "source": [
    "Neighborhood has a total of 5 boroughs and 306 neighborhoods. In order to segement the neighborhoods and explore them, we will essentially need a dataset that contains the 5 boroughs and the neighborhoods that exist in each borough as well as the the latitude and logitude coordinates of each neighborhood. \n",
    "\n",
    "Luckily, this dataset exists for free on the web. Feel free to try to find this dataset on your own, but here is the link to the dataset: https://geo.nyu.edu/catalog/nyu_2451_34572"
   ]
  },
  {
   "cell_type": "markdown",
   "metadata": {},
   "source": [
    "For your convenience, I downloaded the files and placed it on the server, so you can simply run a `wget` command and access the data. So let's go ahead and do that."
   ]
  },
  {
   "cell_type": "code",
   "execution_count": 117,
   "metadata": {
    "scrolled": true
   },
   "outputs": [],
   "source": [
    "#!wget -q -O 'newyork_data.json' https://cocl.us/new_york_dataset\n",
    "#print('Data downloaded!')"
   ]
  },
  {
   "cell_type": "markdown",
   "metadata": {},
   "source": [
    "#### Load and explore the data"
   ]
  },
  {
   "cell_type": "markdown",
   "metadata": {},
   "source": [
    "Next, let's load the data."
   ]
  },
  {
   "cell_type": "code",
   "execution_count": 118,
   "metadata": {},
   "outputs": [],
   "source": [
    "with open('nyu_2451_34572-geojson.json') as json_data:\n",
    "    newyork_data = json.load(json_data)"
   ]
  },
  {
   "cell_type": "markdown",
   "metadata": {},
   "source": [
    "Let's take a quick look at the data."
   ]
  },
  {
   "cell_type": "code",
   "execution_count": 119,
   "metadata": {},
   "outputs": [],
   "source": [
    "#newyork_data"
   ]
  },
  {
   "cell_type": "markdown",
   "metadata": {},
   "source": [
    "Notice how all the relevant data is in the *features* key, which is basically a list of the neighborhoods. So, let's define a new variable that includes this data."
   ]
  },
  {
   "cell_type": "code",
   "execution_count": 120,
   "metadata": {},
   "outputs": [],
   "source": [
    "neighborhoods_data = newyork_data['features']"
   ]
  },
  {
   "cell_type": "markdown",
   "metadata": {},
   "source": [
    "Let's take a look at the first item in this list."
   ]
  },
  {
   "cell_type": "code",
   "execution_count": 121,
   "metadata": {},
   "outputs": [
    {
     "data": {
      "text/plain": [
       "{'type': 'Feature',\n",
       " 'id': 'nyu_2451_34572.1',\n",
       " 'geometry': {'type': 'Point',\n",
       "  'coordinates': [-73.84720052054902, 40.89470517661]},\n",
       " 'geometry_name': 'geom',\n",
       " 'properties': {'name': 'Wakefield',\n",
       "  'stacked': 1,\n",
       "  'annoline1': 'Wakefield',\n",
       "  'annoline2': None,\n",
       "  'annoline3': None,\n",
       "  'annoangle': 0.0,\n",
       "  'borough': 'Bronx',\n",
       "  'bbox': [-73.84720052054902,\n",
       "   40.89470517661,\n",
       "   -73.84720052054902,\n",
       "   40.89470517661]}}"
      ]
     },
     "execution_count": 121,
     "metadata": {},
     "output_type": "execute_result"
    }
   ],
   "source": [
    "neighborhoods_data[0]"
   ]
  },
  {
   "cell_type": "markdown",
   "metadata": {},
   "source": [
    "#### Tranform the data into a *pandas* dataframe"
   ]
  },
  {
   "cell_type": "markdown",
   "metadata": {},
   "source": [
    "The next task is essentially transforming this data of nested Python dictionaries into a *pandas* dataframe. So let's start by creating an empty dataframe."
   ]
  },
  {
   "cell_type": "code",
   "execution_count": 122,
   "metadata": {},
   "outputs": [],
   "source": [
    "# define the dataframe columns\n",
    "column_names = ['Borough', 'Neighborhood', 'Latitude', 'Longitude'] \n",
    "\n",
    "# instantiate the dataframe\n",
    "neighborhoods = pd.DataFrame(columns=column_names)"
   ]
  },
  {
   "cell_type": "markdown",
   "metadata": {},
   "source": [
    "Take a look at the empty dataframe to confirm that the columns are as intended."
   ]
  },
  {
   "cell_type": "code",
   "execution_count": 123,
   "metadata": {},
   "outputs": [
    {
     "data": {
      "text/html": [
       "<div>\n",
       "<style scoped>\n",
       "    .dataframe tbody tr th:only-of-type {\n",
       "        vertical-align: middle;\n",
       "    }\n",
       "\n",
       "    .dataframe tbody tr th {\n",
       "        vertical-align: top;\n",
       "    }\n",
       "\n",
       "    .dataframe thead th {\n",
       "        text-align: right;\n",
       "    }\n",
       "</style>\n",
       "<table border=\"1\" class=\"dataframe\">\n",
       "  <thead>\n",
       "    <tr style=\"text-align: right;\">\n",
       "      <th></th>\n",
       "      <th>Borough</th>\n",
       "      <th>Neighborhood</th>\n",
       "      <th>Latitude</th>\n",
       "      <th>Longitude</th>\n",
       "    </tr>\n",
       "  </thead>\n",
       "  <tbody>\n",
       "  </tbody>\n",
       "</table>\n",
       "</div>"
      ],
      "text/plain": [
       "Empty DataFrame\n",
       "Columns: [Borough, Neighborhood, Latitude, Longitude]\n",
       "Index: []"
      ]
     },
     "execution_count": 123,
     "metadata": {},
     "output_type": "execute_result"
    }
   ],
   "source": [
    "neighborhoods"
   ]
  },
  {
   "cell_type": "markdown",
   "metadata": {},
   "source": [
    "Then let's loop through the data and fill the dataframe one row at a time."
   ]
  },
  {
   "cell_type": "code",
   "execution_count": 124,
   "metadata": {},
   "outputs": [],
   "source": [
    "for data in neighborhoods_data:\n",
    "    borough = neighborhood_name = data['properties']['borough'] \n",
    "    neighborhood_name = data['properties']['name']\n",
    "        \n",
    "    neighborhood_latlon = data['geometry']['coordinates']\n",
    "    neighborhood_lat = neighborhood_latlon[1]\n",
    "    neighborhood_lon = neighborhood_latlon[0]\n",
    "    \n",
    "    neighborhoods = neighborhoods.append({'Borough': borough,\n",
    "                                          'Neighborhood': neighborhood_name,\n",
    "                                          'Latitude': neighborhood_lat,\n",
    "                                          'Longitude': neighborhood_lon}, ignore_index=True)"
   ]
  },
  {
   "cell_type": "markdown",
   "metadata": {},
   "source": [
    "Quickly examine the resulting dataframe."
   ]
  },
  {
   "cell_type": "code",
   "execution_count": 125,
   "metadata": {
    "scrolled": true
   },
   "outputs": [
    {
     "data": {
      "text/html": [
       "<div>\n",
       "<style scoped>\n",
       "    .dataframe tbody tr th:only-of-type {\n",
       "        vertical-align: middle;\n",
       "    }\n",
       "\n",
       "    .dataframe tbody tr th {\n",
       "        vertical-align: top;\n",
       "    }\n",
       "\n",
       "    .dataframe thead th {\n",
       "        text-align: right;\n",
       "    }\n",
       "</style>\n",
       "<table border=\"1\" class=\"dataframe\">\n",
       "  <thead>\n",
       "    <tr style=\"text-align: right;\">\n",
       "      <th></th>\n",
       "      <th>Borough</th>\n",
       "      <th>Neighborhood</th>\n",
       "      <th>Latitude</th>\n",
       "      <th>Longitude</th>\n",
       "    </tr>\n",
       "  </thead>\n",
       "  <tbody>\n",
       "    <tr>\n",
       "      <th>0</th>\n",
       "      <td>Bronx</td>\n",
       "      <td>Wakefield</td>\n",
       "      <td>40.894705</td>\n",
       "      <td>-73.847201</td>\n",
       "    </tr>\n",
       "    <tr>\n",
       "      <th>1</th>\n",
       "      <td>Bronx</td>\n",
       "      <td>Co-op City</td>\n",
       "      <td>40.874294</td>\n",
       "      <td>-73.829939</td>\n",
       "    </tr>\n",
       "    <tr>\n",
       "      <th>2</th>\n",
       "      <td>Bronx</td>\n",
       "      <td>Eastchester</td>\n",
       "      <td>40.887556</td>\n",
       "      <td>-73.827806</td>\n",
       "    </tr>\n",
       "    <tr>\n",
       "      <th>3</th>\n",
       "      <td>Bronx</td>\n",
       "      <td>Fieldston</td>\n",
       "      <td>40.895437</td>\n",
       "      <td>-73.905643</td>\n",
       "    </tr>\n",
       "    <tr>\n",
       "      <th>4</th>\n",
       "      <td>Bronx</td>\n",
       "      <td>Riverdale</td>\n",
       "      <td>40.890834</td>\n",
       "      <td>-73.912585</td>\n",
       "    </tr>\n",
       "  </tbody>\n",
       "</table>\n",
       "</div>"
      ],
      "text/plain": [
       "  Borough Neighborhood   Latitude  Longitude\n",
       "0   Bronx    Wakefield  40.894705 -73.847201\n",
       "1   Bronx   Co-op City  40.874294 -73.829939\n",
       "2   Bronx  Eastchester  40.887556 -73.827806\n",
       "3   Bronx    Fieldston  40.895437 -73.905643\n",
       "4   Bronx    Riverdale  40.890834 -73.912585"
      ]
     },
     "execution_count": 125,
     "metadata": {},
     "output_type": "execute_result"
    }
   ],
   "source": [
    "neighborhoods.head()"
   ]
  },
  {
   "cell_type": "markdown",
   "metadata": {},
   "source": [
    "And make sure that the dataset has all 5 boroughs and 306 neighborhoods."
   ]
  },
  {
   "cell_type": "code",
   "execution_count": 126,
   "metadata": {},
   "outputs": [
    {
     "name": "stdout",
     "output_type": "stream",
     "text": [
      "The dataframe has 5 boroughs and 306 neighborhoods.\n"
     ]
    }
   ],
   "source": [
    "print('The dataframe has {} boroughs and {} neighborhoods.'.format(\n",
    "        len(neighborhoods['Borough'].unique()),\n",
    "        neighborhoods.shape[0]\n",
    "    )\n",
    ")"
   ]
  },
  {
   "cell_type": "markdown",
   "metadata": {},
   "source": [
    "#### Use geopy library to get the latitude and longitude values of New York City."
   ]
  },
  {
   "cell_type": "markdown",
   "metadata": {},
   "source": [
    "In order to define an instance of the geocoder, we need to define a user_agent. We will name our agent <em>ny_explorer</em>, as shown below."
   ]
  },
  {
   "cell_type": "code",
   "execution_count": 127,
   "metadata": {
    "scrolled": true
   },
   "outputs": [
    {
     "name": "stdout",
     "output_type": "stream",
     "text": [
      "The geograpical coordinate of New York City are 40.7127281, -74.0060152.\n"
     ]
    }
   ],
   "source": [
    "address = 'New York City, NY'\n",
    "\n",
    "geolocator = Nominatim(user_agent=\"ny_explorer\")\n",
    "location = geolocator.geocode(address)\n",
    "latitude = location.latitude\n",
    "longitude = location.longitude\n",
    "print('The geograpical coordinate of New York City are {}, {}.'.format(latitude, longitude))"
   ]
  },
  {
   "cell_type": "markdown",
   "metadata": {},
   "source": [
    "#### Create a map of New York with neighborhoods superimposed on top."
   ]
  },
  {
   "cell_type": "code",
   "execution_count": 128,
   "metadata": {},
   "outputs": [],
   "source": [
    "# create map of New York using latitude and longitude values\n",
    "map_newyork = folium.Map(location=[latitude, longitude], zoom_start=10)\n",
    "\n",
    "# add markers to map\n",
    "for lat, lng, borough, neighborhood in zip(neighborhoods['Latitude'], neighborhoods['Longitude'], neighborhoods['Borough'], neighborhoods['Neighborhood']):\n",
    "    label = '{}, {}'.format(neighborhood, borough)\n",
    "    label = folium.Popup(label, parse_html=True)\n",
    "    folium.CircleMarker(\n",
    "        [lat, lng],\n",
    "        radius=5,\n",
    "        popup=label,\n",
    "        color='blue',\n",
    "        fill=True,\n",
    "        fill_color='#3186cc',\n",
    "        fill_opacity=0.7,\n",
    "        parse_html=False).add_to(map_newyork)  \n",
    "    \n",
    "#map_newyork"
   ]
  },
  {
   "cell_type": "markdown",
   "metadata": {},
   "source": [
    "**Folium** is a great visualization library. Feel free to zoom into the above map, and click on each circle mark to reveal the name of the neighborhood and its respective borough."
   ]
  },
  {
   "cell_type": "markdown",
   "metadata": {},
   "source": [
    "However, for illustration purposes, let's simplify the above map and segment and cluster only the neighborhoods in Manhattan. So let's slice the original dataframe and create a new dataframe of the Manhattan data."
   ]
  },
  {
   "cell_type": "code",
   "execution_count": 129,
   "metadata": {},
   "outputs": [
    {
     "data": {
      "text/html": [
       "<div>\n",
       "<style scoped>\n",
       "    .dataframe tbody tr th:only-of-type {\n",
       "        vertical-align: middle;\n",
       "    }\n",
       "\n",
       "    .dataframe tbody tr th {\n",
       "        vertical-align: top;\n",
       "    }\n",
       "\n",
       "    .dataframe thead th {\n",
       "        text-align: right;\n",
       "    }\n",
       "</style>\n",
       "<table border=\"1\" class=\"dataframe\">\n",
       "  <thead>\n",
       "    <tr style=\"text-align: right;\">\n",
       "      <th></th>\n",
       "      <th>Borough</th>\n",
       "      <th>Neighborhood</th>\n",
       "      <th>Latitude</th>\n",
       "      <th>Longitude</th>\n",
       "    </tr>\n",
       "  </thead>\n",
       "  <tbody>\n",
       "    <tr>\n",
       "      <th>0</th>\n",
       "      <td>Manhattan</td>\n",
       "      <td>Marble Hill</td>\n",
       "      <td>40.876551</td>\n",
       "      <td>-73.910660</td>\n",
       "    </tr>\n",
       "    <tr>\n",
       "      <th>1</th>\n",
       "      <td>Manhattan</td>\n",
       "      <td>Chinatown</td>\n",
       "      <td>40.715618</td>\n",
       "      <td>-73.994279</td>\n",
       "    </tr>\n",
       "    <tr>\n",
       "      <th>2</th>\n",
       "      <td>Manhattan</td>\n",
       "      <td>Washington Heights</td>\n",
       "      <td>40.851903</td>\n",
       "      <td>-73.936900</td>\n",
       "    </tr>\n",
       "    <tr>\n",
       "      <th>3</th>\n",
       "      <td>Manhattan</td>\n",
       "      <td>Inwood</td>\n",
       "      <td>40.867684</td>\n",
       "      <td>-73.921210</td>\n",
       "    </tr>\n",
       "    <tr>\n",
       "      <th>4</th>\n",
       "      <td>Manhattan</td>\n",
       "      <td>Hamilton Heights</td>\n",
       "      <td>40.823604</td>\n",
       "      <td>-73.949688</td>\n",
       "    </tr>\n",
       "  </tbody>\n",
       "</table>\n",
       "</div>"
      ],
      "text/plain": [
       "     Borough        Neighborhood   Latitude  Longitude\n",
       "0  Manhattan         Marble Hill  40.876551 -73.910660\n",
       "1  Manhattan           Chinatown  40.715618 -73.994279\n",
       "2  Manhattan  Washington Heights  40.851903 -73.936900\n",
       "3  Manhattan              Inwood  40.867684 -73.921210\n",
       "4  Manhattan    Hamilton Heights  40.823604 -73.949688"
      ]
     },
     "execution_count": 129,
     "metadata": {},
     "output_type": "execute_result"
    }
   ],
   "source": [
    "manhattan_data = neighborhoods[neighborhoods['Borough'] == 'Manhattan'].reset_index(drop=True)\n",
    "manhattan_data.head()"
   ]
  },
  {
   "cell_type": "markdown",
   "metadata": {},
   "source": [
    "Let's get the geographical coordinates of Manhattan."
   ]
  },
  {
   "cell_type": "code",
   "execution_count": 130,
   "metadata": {},
   "outputs": [
    {
     "name": "stdout",
     "output_type": "stream",
     "text": [
      "The geograpical coordinate of Manhattan are 40.7896239, -73.9598939.\n"
     ]
    }
   ],
   "source": [
    "address = 'Manhattan, NY'\n",
    "\n",
    "geolocator = Nominatim(user_agent=\"ny_explorer\")\n",
    "location = geolocator.geocode(address)\n",
    "latitude = location.latitude\n",
    "longitude = location.longitude\n",
    "print('The geograpical coordinate of Manhattan are {}, {}.'.format(latitude, longitude))"
   ]
  },
  {
   "cell_type": "markdown",
   "metadata": {},
   "source": [
    "As we did with all of New York City, let's visualizat Manhattan the neighborhoods in it."
   ]
  },
  {
   "cell_type": "code",
   "execution_count": 131,
   "metadata": {},
   "outputs": [],
   "source": [
    "# create map of Manhattan using latitude and longitude values\n",
    "map_manhattan = folium.Map(location=[latitude, longitude], zoom_start=11)\n",
    "\n",
    "# add markers to map\n",
    "for lat, lng, label in zip(manhattan_data['Latitude'], manhattan_data['Longitude'], manhattan_data['Neighborhood']):\n",
    "    label = folium.Popup(label, parse_html=True)\n",
    "    folium.CircleMarker(\n",
    "        [lat, lng],\n",
    "        radius=5,\n",
    "        popup=label,\n",
    "        color='blue',\n",
    "        fill=True,\n",
    "        fill_color='#3186cc',\n",
    "        fill_opacity=0.7,\n",
    "        parse_html=False).add_to(map_manhattan)  \n",
    "    \n",
    "#map_manhattan"
   ]
  },
  {
   "cell_type": "markdown",
   "metadata": {},
   "source": [
    "Next, we are going to start utilizing the Foursquare API to explore the neighborhoods and segment them."
   ]
  },
  {
   "cell_type": "markdown",
   "metadata": {},
   "source": [
    "#### Define Foursquare Credentials and Version"
   ]
  },
  {
   "cell_type": "code",
   "execution_count": 132,
   "metadata": {},
   "outputs": [
    {
     "name": "stdout",
     "output_type": "stream",
     "text": [
      "Your credentails:\n",
      "CLIENT_ID: D4EPDDPTBEFL1PWMBLVXKTT2E0CEP1CPMZJP4AKQS4BQUFTS\n"
     ]
    }
   ],
   "source": [
    "CLIENT_ID = 'D4EPDDPTBEFL1PWMBLVXKTT2E0CEP1CPMZJP4AKQS4BQUFTS' # your Foursquare ID\n",
    "CLIENT_SECRET = 'PHO3YOGZCU0XBTYFZD42PGZH2TKQF2SODZTK04HQV3VDISJQ' # your Foursquare Secret\n",
    "VERSION = '20180605' # Foursquare API version\n",
    "LIMIT = 100 # limit of number of venues returned by Foursquare API\n",
    "radius = 500 # define radius\n",
    "print('Your credentails:')\n",
    "print('CLIENT_ID: ' + CLIENT_ID)"
   ]
  },
  {
   "cell_type": "markdown",
   "metadata": {},
   "source": [
    "#### Let's explore the first neighborhood in our dataframe."
   ]
  },
  {
   "cell_type": "markdown",
   "metadata": {},
   "source": [
    "Get the neighborhood's name."
   ]
  },
  {
   "cell_type": "code",
   "execution_count": 133,
   "metadata": {},
   "outputs": [
    {
     "data": {
      "text/plain": [
       "'Marble Hill'"
      ]
     },
     "execution_count": 133,
     "metadata": {},
     "output_type": "execute_result"
    }
   ],
   "source": [
    "manhattan_data.loc[0, 'Neighborhood']"
   ]
  },
  {
   "cell_type": "markdown",
   "metadata": {},
   "source": [
    "Get the neighborhood's latitude and longitude values."
   ]
  },
  {
   "cell_type": "code",
   "execution_count": 134,
   "metadata": {},
   "outputs": [
    {
     "name": "stdout",
     "output_type": "stream",
     "text": [
      "Latitude and longitude values of Marble Hill are 40.87655077879964, -73.91065965862981.\n"
     ]
    }
   ],
   "source": [
    "neighborhood_latitude = manhattan_data.loc[0, 'Latitude'] # neighborhood latitude value\n",
    "neighborhood_longitude = manhattan_data.loc[0, 'Longitude'] # neighborhood longitude value\n",
    "\n",
    "neighborhood_name = manhattan_data.loc[0, 'Neighborhood'] # neighborhood name\n",
    "\n",
    "print('Latitude and longitude values of {} are {}, {}.'.format(neighborhood_name, \n",
    "                                                               neighborhood_latitude, \n",
    "                                                               neighborhood_longitude))"
   ]
  },
  {
   "cell_type": "markdown",
   "metadata": {},
   "source": [
    "#### Now, let's get the top 100 venues that are in Marble Hill within a radius of 500 meters."
   ]
  },
  {
   "cell_type": "markdown",
   "metadata": {},
   "source": [
    "First, let's create the GET request URL. Name your URL **url**."
   ]
  },
  {
   "cell_type": "code",
   "execution_count": 135,
   "metadata": {
    "scrolled": true
   },
   "outputs": [],
   "source": [
    "url = 'https://api.foursquare.com/v2/venues/explore?&client_id={}&client_secret={}&v={}&ll={},{}&radius={}&limit={}'.format(\n",
    "    CLIENT_ID, \n",
    "    CLIENT_SECRET, \n",
    "    VERSION, \n",
    "    neighborhood_latitude, \n",
    "    neighborhood_longitude, \n",
    "    radius, \n",
    "    LIMIT)\n",
    "\n",
    "\n",
    "\n"
   ]
  },
  {
   "cell_type": "markdown",
   "metadata": {},
   "source": [
    "Double-click __here__ for the solution.\n",
    "<!-- The correct answer is:\n",
    "LIMIT = 100 # limit of number of venues returned by Foursquare API\n",
    "-->\n",
    "\n",
    "<!--\n",
    "radius = 500 # define radius\n",
    "-->\n",
    "\n",
    "<!--\n",
    "\\\\ # create URL\n",
    "url = 'https://api.foursquare.com/v2/venues/explore?&client_id={}&client_secret={}&v={}&ll={},{}&radius={}&limit={}'.format(\n",
    "    CLIENT_ID, \n",
    "    CLIENT_SECRET, \n",
    "    VERSION, \n",
    "    neighborhood_latitude, \n",
    "    neighborhood_longitude, \n",
    "    radius, \n",
    "    LIMIT)\n",
    "url # display URL\n",
    "--> "
   ]
  },
  {
   "cell_type": "markdown",
   "metadata": {},
   "source": [
    "Send the GET request and examine the resutls"
   ]
  },
  {
   "cell_type": "code",
   "execution_count": 136,
   "metadata": {},
   "outputs": [],
   "source": [
    "results = requests.get(url).json()\n",
    "#results"
   ]
  },
  {
   "cell_type": "markdown",
   "metadata": {},
   "source": [
    "From the Foursquare lab in the previous module, we know that all the information is in the *items* key. Before we proceed, let's borrow the **get_category_type** function from the Foursquare lab."
   ]
  },
  {
   "cell_type": "code",
   "execution_count": 137,
   "metadata": {},
   "outputs": [],
   "source": [
    "# function that extracts the category of the venue\n",
    "def get_category_type(row):\n",
    "    try:\n",
    "        categories_list = row['categories']\n",
    "    except:\n",
    "        categories_list = row['venue.categories']\n",
    "        \n",
    "    if len(categories_list) == 0:\n",
    "        return None\n",
    "    else:\n",
    "        return categories_list[0]['name']"
   ]
  },
  {
   "cell_type": "code",
   "execution_count": 139,
   "metadata": {},
   "outputs": [
    {
     "ename": "KeyError",
     "evalue": "'groups'",
     "output_type": "error",
     "traceback": [
      "\u001b[0;31m---------------------------------------------------------------------------\u001b[0m",
      "\u001b[0;31mKeyError\u001b[0m                                  Traceback (most recent call last)",
      "\u001b[0;32m<ipython-input-139-cb83b2695d0b>\u001b[0m in \u001b[0;36m<module>\u001b[0;34m\u001b[0m\n\u001b[0;32m----> 1\u001b[0;31m \u001b[0mvenues\u001b[0m \u001b[0;34m=\u001b[0m \u001b[0mresults\u001b[0m\u001b[0;34m[\u001b[0m\u001b[0;34m'response'\u001b[0m\u001b[0;34m]\u001b[0m\u001b[0;34m[\u001b[0m\u001b[0;34m'groups'\u001b[0m\u001b[0;34m]\u001b[0m\u001b[0;34m[\u001b[0m\u001b[0;36m0\u001b[0m\u001b[0;34m]\u001b[0m\u001b[0;34m[\u001b[0m\u001b[0;34m'items'\u001b[0m\u001b[0;34m]\u001b[0m\u001b[0;34m\u001b[0m\u001b[0;34m\u001b[0m\u001b[0m\n\u001b[0m\u001b[1;32m      2\u001b[0m \u001b[0;34m\u001b[0m\u001b[0m\n\u001b[1;32m      3\u001b[0m \u001b[0mnearby_venues\u001b[0m \u001b[0;34m=\u001b[0m \u001b[0mjson_normalize\u001b[0m\u001b[0;34m(\u001b[0m\u001b[0mvenues\u001b[0m\u001b[0;34m)\u001b[0m \u001b[0;31m# flatten JSON\u001b[0m\u001b[0;34m\u001b[0m\u001b[0;34m\u001b[0m\u001b[0m\n",
      "\u001b[0;31mKeyError\u001b[0m: 'groups'"
     ]
    }
   ],
   "source": [
    "venues = results['response']['groups'][0]['items']\n",
    "    \n",
    "nearby_venues = json_normalize(venues) # flatten JSON"
   ]
  },
  {
   "cell_type": "markdown",
   "metadata": {},
   "source": [
    "Now we are ready to clean the json and structure it into a *pandas* dataframe."
   ]
  },
  {
   "cell_type": "code",
   "execution_count": 140,
   "metadata": {},
   "outputs": [
    {
     "data": {
      "text/html": [
       "<div>\n",
       "<style scoped>\n",
       "    .dataframe tbody tr th:only-of-type {\n",
       "        vertical-align: middle;\n",
       "    }\n",
       "\n",
       "    .dataframe tbody tr th {\n",
       "        vertical-align: top;\n",
       "    }\n",
       "\n",
       "    .dataframe thead th {\n",
       "        text-align: right;\n",
       "    }\n",
       "</style>\n",
       "<table border=\"1\" class=\"dataframe\">\n",
       "  <thead>\n",
       "    <tr style=\"text-align: right;\">\n",
       "      <th></th>\n",
       "      <th>name</th>\n",
       "      <th>categories</th>\n",
       "      <th>lat</th>\n",
       "      <th>lng</th>\n",
       "    </tr>\n",
       "  </thead>\n",
       "  <tbody>\n",
       "    <tr>\n",
       "      <th>0</th>\n",
       "      <td>Arturo's</td>\n",
       "      <td>Pizza Place</td>\n",
       "      <td>40.874412</td>\n",
       "      <td>-73.910271</td>\n",
       "    </tr>\n",
       "    <tr>\n",
       "      <th>1</th>\n",
       "      <td>Bikram Yoga</td>\n",
       "      <td>Yoga Studio</td>\n",
       "      <td>40.876844</td>\n",
       "      <td>-73.906204</td>\n",
       "    </tr>\n",
       "    <tr>\n",
       "      <th>2</th>\n",
       "      <td>Tibbett Diner</td>\n",
       "      <td>Diner</td>\n",
       "      <td>40.880404</td>\n",
       "      <td>-73.908937</td>\n",
       "    </tr>\n",
       "    <tr>\n",
       "      <th>3</th>\n",
       "      <td>Starbucks</td>\n",
       "      <td>Coffee Shop</td>\n",
       "      <td>40.877531</td>\n",
       "      <td>-73.905582</td>\n",
       "    </tr>\n",
       "    <tr>\n",
       "      <th>4</th>\n",
       "      <td>Dunkin'</td>\n",
       "      <td>Donut Shop</td>\n",
       "      <td>40.877136</td>\n",
       "      <td>-73.906666</td>\n",
       "    </tr>\n",
       "    <tr>\n",
       "      <th>5</th>\n",
       "      <td>Rite Aid</td>\n",
       "      <td>Pharmacy</td>\n",
       "      <td>40.875467</td>\n",
       "      <td>-73.908906</td>\n",
       "    </tr>\n",
       "    <tr>\n",
       "      <th>6</th>\n",
       "      <td>TCR The Club of Riverdale</td>\n",
       "      <td>Tennis Stadium</td>\n",
       "      <td>40.878628</td>\n",
       "      <td>-73.914568</td>\n",
       "    </tr>\n",
       "    <tr>\n",
       "      <th>7</th>\n",
       "      <td>Land &amp; Sea Restaurant</td>\n",
       "      <td>Seafood Restaurant</td>\n",
       "      <td>40.877885</td>\n",
       "      <td>-73.905873</td>\n",
       "    </tr>\n",
       "    <tr>\n",
       "      <th>8</th>\n",
       "      <td>Starbucks</td>\n",
       "      <td>Coffee Shop</td>\n",
       "      <td>40.873755</td>\n",
       "      <td>-73.908613</td>\n",
       "    </tr>\n",
       "    <tr>\n",
       "      <th>9</th>\n",
       "      <td>Astral Fitness &amp; Wellness Center</td>\n",
       "      <td>Gym</td>\n",
       "      <td>40.876705</td>\n",
       "      <td>-73.906372</td>\n",
       "    </tr>\n",
       "    <tr>\n",
       "      <th>10</th>\n",
       "      <td>Blink Fitness</td>\n",
       "      <td>Gym</td>\n",
       "      <td>40.877271</td>\n",
       "      <td>-73.905595</td>\n",
       "    </tr>\n",
       "    <tr>\n",
       "      <th>11</th>\n",
       "      <td>Subway</td>\n",
       "      <td>Sandwich Place</td>\n",
       "      <td>40.874832</td>\n",
       "      <td>-73.909950</td>\n",
       "    </tr>\n",
       "    <tr>\n",
       "      <th>12</th>\n",
       "      <td>Vitamin Shoppe</td>\n",
       "      <td>Supplement Shop</td>\n",
       "      <td>40.877160</td>\n",
       "      <td>-73.905632</td>\n",
       "    </tr>\n",
       "    <tr>\n",
       "      <th>13</th>\n",
       "      <td>Parrilla Latina</td>\n",
       "      <td>Steakhouse</td>\n",
       "      <td>40.877473</td>\n",
       "      <td>-73.906073</td>\n",
       "    </tr>\n",
       "    <tr>\n",
       "      <th>14</th>\n",
       "      <td>T.J. Maxx</td>\n",
       "      <td>Department Store</td>\n",
       "      <td>40.877232</td>\n",
       "      <td>-73.905042</td>\n",
       "    </tr>\n",
       "    <tr>\n",
       "      <th>15</th>\n",
       "      <td>Boston Market</td>\n",
       "      <td>American Restaurant</td>\n",
       "      <td>40.877430</td>\n",
       "      <td>-73.905412</td>\n",
       "    </tr>\n",
       "    <tr>\n",
       "      <th>16</th>\n",
       "      <td>Subway Sandwiches</td>\n",
       "      <td>Sandwich Place</td>\n",
       "      <td>40.874667</td>\n",
       "      <td>-73.909586</td>\n",
       "    </tr>\n",
       "    <tr>\n",
       "      <th>17</th>\n",
       "      <td>Baskin-Robbins</td>\n",
       "      <td>Ice Cream Shop</td>\n",
       "      <td>40.877149</td>\n",
       "      <td>-73.906658</td>\n",
       "    </tr>\n",
       "    <tr>\n",
       "      <th>18</th>\n",
       "      <td>Lot Less Closeouts</td>\n",
       "      <td>Discount Store</td>\n",
       "      <td>40.878270</td>\n",
       "      <td>-73.905265</td>\n",
       "    </tr>\n",
       "    <tr>\n",
       "      <th>19</th>\n",
       "      <td>GameStop</td>\n",
       "      <td>Video Game Store</td>\n",
       "      <td>40.874267</td>\n",
       "      <td>-73.909342</td>\n",
       "    </tr>\n",
       "    <tr>\n",
       "      <th>20</th>\n",
       "      <td>TD Bank</td>\n",
       "      <td>Bank</td>\n",
       "      <td>40.879496</td>\n",
       "      <td>-73.909286</td>\n",
       "    </tr>\n",
       "    <tr>\n",
       "      <th>21</th>\n",
       "      <td>Subway</td>\n",
       "      <td>Sandwich Place</td>\n",
       "      <td>40.878465</td>\n",
       "      <td>-73.905518</td>\n",
       "    </tr>\n",
       "    <tr>\n",
       "      <th>22</th>\n",
       "      <td>The Children's Place</td>\n",
       "      <td>Kids Store</td>\n",
       "      <td>40.873672</td>\n",
       "      <td>-73.908156</td>\n",
       "    </tr>\n",
       "    <tr>\n",
       "      <th>23</th>\n",
       "      <td>Five Below</td>\n",
       "      <td>Miscellaneous Shop</td>\n",
       "      <td>40.877256</td>\n",
       "      <td>-73.904938</td>\n",
       "    </tr>\n",
       "    <tr>\n",
       "      <th>24</th>\n",
       "      <td>Terrace View Delicatessen</td>\n",
       "      <td>Deli / Bodega</td>\n",
       "      <td>40.875995</td>\n",
       "      <td>-73.913151</td>\n",
       "    </tr>\n",
       "  </tbody>\n",
       "</table>\n",
       "</div>"
      ],
      "text/plain": [
       "                                name           categories        lat  \\\n",
       "0                           Arturo's          Pizza Place  40.874412   \n",
       "1                        Bikram Yoga          Yoga Studio  40.876844   \n",
       "2                      Tibbett Diner                Diner  40.880404   \n",
       "3                          Starbucks          Coffee Shop  40.877531   \n",
       "4                            Dunkin'           Donut Shop  40.877136   \n",
       "5                           Rite Aid             Pharmacy  40.875467   \n",
       "6          TCR The Club of Riverdale       Tennis Stadium  40.878628   \n",
       "7              Land & Sea Restaurant   Seafood Restaurant  40.877885   \n",
       "8                          Starbucks          Coffee Shop  40.873755   \n",
       "9   Astral Fitness & Wellness Center                  Gym  40.876705   \n",
       "10                     Blink Fitness                  Gym  40.877271   \n",
       "11                            Subway       Sandwich Place  40.874832   \n",
       "12                    Vitamin Shoppe      Supplement Shop  40.877160   \n",
       "13                   Parrilla Latina           Steakhouse  40.877473   \n",
       "14                         T.J. Maxx     Department Store  40.877232   \n",
       "15                     Boston Market  American Restaurant  40.877430   \n",
       "16                 Subway Sandwiches       Sandwich Place  40.874667   \n",
       "17                    Baskin-Robbins       Ice Cream Shop  40.877149   \n",
       "18                Lot Less Closeouts       Discount Store  40.878270   \n",
       "19                          GameStop     Video Game Store  40.874267   \n",
       "20                           TD Bank                 Bank  40.879496   \n",
       "21                            Subway       Sandwich Place  40.878465   \n",
       "22              The Children's Place           Kids Store  40.873672   \n",
       "23                        Five Below   Miscellaneous Shop  40.877256   \n",
       "24         Terrace View Delicatessen        Deli / Bodega  40.875995   \n",
       "\n",
       "          lng  \n",
       "0  -73.910271  \n",
       "1  -73.906204  \n",
       "2  -73.908937  \n",
       "3  -73.905582  \n",
       "4  -73.906666  \n",
       "5  -73.908906  \n",
       "6  -73.914568  \n",
       "7  -73.905873  \n",
       "8  -73.908613  \n",
       "9  -73.906372  \n",
       "10 -73.905595  \n",
       "11 -73.909950  \n",
       "12 -73.905632  \n",
       "13 -73.906073  \n",
       "14 -73.905042  \n",
       "15 -73.905412  \n",
       "16 -73.909586  \n",
       "17 -73.906658  \n",
       "18 -73.905265  \n",
       "19 -73.909342  \n",
       "20 -73.909286  \n",
       "21 -73.905518  \n",
       "22 -73.908156  \n",
       "23 -73.904938  \n",
       "24 -73.913151  "
      ]
     },
     "execution_count": 140,
     "metadata": {},
     "output_type": "execute_result"
    }
   ],
   "source": [
    "nearby_venues"
   ]
  },
  {
   "cell_type": "code",
   "execution_count": 141,
   "metadata": {},
   "outputs": [
    {
     "ename": "KeyError",
     "evalue": "\"None of [Index(['venue.name', 'venue.categories', 'venue.location.lat',\\n       'venue.location.lng'],\\n      dtype='object')] are in the [columns]\"",
     "output_type": "error",
     "traceback": [
      "\u001b[0;31m---------------------------------------------------------------------------\u001b[0m",
      "\u001b[0;31mKeyError\u001b[0m                                  Traceback (most recent call last)",
      "\u001b[0;32m<ipython-input-141-8f3e04e3cbb2>\u001b[0m in \u001b[0;36m<module>\u001b[0;34m\u001b[0m\n\u001b[1;32m      3\u001b[0m \u001b[0;31m# filter columns\u001b[0m\u001b[0;34m\u001b[0m\u001b[0;34m\u001b[0m\u001b[0;34m\u001b[0m\u001b[0m\n\u001b[1;32m      4\u001b[0m \u001b[0mfiltered_columns\u001b[0m \u001b[0;34m=\u001b[0m \u001b[0;34m[\u001b[0m\u001b[0;34m'venue.name'\u001b[0m\u001b[0;34m,\u001b[0m \u001b[0;34m'venue.categories'\u001b[0m\u001b[0;34m,\u001b[0m \u001b[0;34m'venue.location.lat'\u001b[0m\u001b[0;34m,\u001b[0m \u001b[0;34m'venue.location.lng'\u001b[0m\u001b[0;34m]\u001b[0m\u001b[0;34m\u001b[0m\u001b[0;34m\u001b[0m\u001b[0m\n\u001b[0;32m----> 5\u001b[0;31m \u001b[0mnearby_venues\u001b[0m \u001b[0;34m=\u001b[0m\u001b[0mnearby_venues\u001b[0m\u001b[0;34m.\u001b[0m\u001b[0mloc\u001b[0m\u001b[0;34m[\u001b[0m\u001b[0;34m:\u001b[0m\u001b[0;34m,\u001b[0m \u001b[0mfiltered_columns\u001b[0m\u001b[0;34m]\u001b[0m\u001b[0;34m\u001b[0m\u001b[0;34m\u001b[0m\u001b[0m\n\u001b[0m\u001b[1;32m      6\u001b[0m \u001b[0;34m\u001b[0m\u001b[0m\n\u001b[1;32m      7\u001b[0m \u001b[0;31m# filter the category for each row\u001b[0m\u001b[0;34m\u001b[0m\u001b[0;34m\u001b[0m\u001b[0;34m\u001b[0m\u001b[0m\n",
      "\u001b[0;32m/Library/Frameworks/Python.framework/Versions/3.7/lib/python3.7/site-packages/pandas/core/indexing.py\u001b[0m in \u001b[0;36m__getitem__\u001b[0;34m(self, key)\u001b[0m\n\u001b[1;32m   1760\u001b[0m                 \u001b[0;32mexcept\u001b[0m \u001b[0;34m(\u001b[0m\u001b[0mKeyError\u001b[0m\u001b[0;34m,\u001b[0m \u001b[0mIndexError\u001b[0m\u001b[0;34m,\u001b[0m \u001b[0mAttributeError\u001b[0m\u001b[0;34m)\u001b[0m\u001b[0;34m:\u001b[0m\u001b[0;34m\u001b[0m\u001b[0;34m\u001b[0m\u001b[0m\n\u001b[1;32m   1761\u001b[0m                     \u001b[0;32mpass\u001b[0m\u001b[0;34m\u001b[0m\u001b[0;34m\u001b[0m\u001b[0m\n\u001b[0;32m-> 1762\u001b[0;31m             \u001b[0;32mreturn\u001b[0m \u001b[0mself\u001b[0m\u001b[0;34m.\u001b[0m\u001b[0m_getitem_tuple\u001b[0m\u001b[0;34m(\u001b[0m\u001b[0mkey\u001b[0m\u001b[0;34m)\u001b[0m\u001b[0;34m\u001b[0m\u001b[0;34m\u001b[0m\u001b[0m\n\u001b[0m\u001b[1;32m   1763\u001b[0m         \u001b[0;32melse\u001b[0m\u001b[0;34m:\u001b[0m\u001b[0;34m\u001b[0m\u001b[0;34m\u001b[0m\u001b[0m\n\u001b[1;32m   1764\u001b[0m             \u001b[0;31m# we by definition only have the 0th axis\u001b[0m\u001b[0;34m\u001b[0m\u001b[0;34m\u001b[0m\u001b[0;34m\u001b[0m\u001b[0m\n",
      "\u001b[0;32m/Library/Frameworks/Python.framework/Versions/3.7/lib/python3.7/site-packages/pandas/core/indexing.py\u001b[0m in \u001b[0;36m_getitem_tuple\u001b[0;34m(self, tup)\u001b[0m\n\u001b[1;32m   1287\u001b[0m                 \u001b[0;32mcontinue\u001b[0m\u001b[0;34m\u001b[0m\u001b[0;34m\u001b[0m\u001b[0m\n\u001b[1;32m   1288\u001b[0m \u001b[0;34m\u001b[0m\u001b[0m\n\u001b[0;32m-> 1289\u001b[0;31m             \u001b[0mretval\u001b[0m \u001b[0;34m=\u001b[0m \u001b[0mgetattr\u001b[0m\u001b[0;34m(\u001b[0m\u001b[0mretval\u001b[0m\u001b[0;34m,\u001b[0m \u001b[0mself\u001b[0m\u001b[0;34m.\u001b[0m\u001b[0mname\u001b[0m\u001b[0;34m)\u001b[0m\u001b[0;34m.\u001b[0m\u001b[0m_getitem_axis\u001b[0m\u001b[0;34m(\u001b[0m\u001b[0mkey\u001b[0m\u001b[0;34m,\u001b[0m \u001b[0maxis\u001b[0m\u001b[0;34m=\u001b[0m\u001b[0mi\u001b[0m\u001b[0;34m)\u001b[0m\u001b[0;34m\u001b[0m\u001b[0;34m\u001b[0m\u001b[0m\n\u001b[0m\u001b[1;32m   1290\u001b[0m \u001b[0;34m\u001b[0m\u001b[0m\n\u001b[1;32m   1291\u001b[0m         \u001b[0;32mreturn\u001b[0m \u001b[0mretval\u001b[0m\u001b[0;34m\u001b[0m\u001b[0;34m\u001b[0m\u001b[0m\n",
      "\u001b[0;32m/Library/Frameworks/Python.framework/Versions/3.7/lib/python3.7/site-packages/pandas/core/indexing.py\u001b[0m in \u001b[0;36m_getitem_axis\u001b[0;34m(self, key, axis)\u001b[0m\n\u001b[1;32m   1952\u001b[0m                     \u001b[0;32mraise\u001b[0m \u001b[0mValueError\u001b[0m\u001b[0;34m(\u001b[0m\u001b[0;34m\"Cannot index with multidimensional key\"\u001b[0m\u001b[0;34m)\u001b[0m\u001b[0;34m\u001b[0m\u001b[0;34m\u001b[0m\u001b[0m\n\u001b[1;32m   1953\u001b[0m \u001b[0;34m\u001b[0m\u001b[0m\n\u001b[0;32m-> 1954\u001b[0;31m                 \u001b[0;32mreturn\u001b[0m \u001b[0mself\u001b[0m\u001b[0;34m.\u001b[0m\u001b[0m_getitem_iterable\u001b[0m\u001b[0;34m(\u001b[0m\u001b[0mkey\u001b[0m\u001b[0;34m,\u001b[0m \u001b[0maxis\u001b[0m\u001b[0;34m=\u001b[0m\u001b[0maxis\u001b[0m\u001b[0;34m)\u001b[0m\u001b[0;34m\u001b[0m\u001b[0;34m\u001b[0m\u001b[0m\n\u001b[0m\u001b[1;32m   1955\u001b[0m \u001b[0;34m\u001b[0m\u001b[0m\n\u001b[1;32m   1956\u001b[0m             \u001b[0;31m# nested tuple slicing\u001b[0m\u001b[0;34m\u001b[0m\u001b[0;34m\u001b[0m\u001b[0;34m\u001b[0m\u001b[0m\n",
      "\u001b[0;32m/Library/Frameworks/Python.framework/Versions/3.7/lib/python3.7/site-packages/pandas/core/indexing.py\u001b[0m in \u001b[0;36m_getitem_iterable\u001b[0;34m(self, key, axis)\u001b[0m\n\u001b[1;32m   1593\u001b[0m         \u001b[0;32melse\u001b[0m\u001b[0;34m:\u001b[0m\u001b[0;34m\u001b[0m\u001b[0;34m\u001b[0m\u001b[0m\n\u001b[1;32m   1594\u001b[0m             \u001b[0;31m# A collection of keys\u001b[0m\u001b[0;34m\u001b[0m\u001b[0;34m\u001b[0m\u001b[0;34m\u001b[0m\u001b[0m\n\u001b[0;32m-> 1595\u001b[0;31m             \u001b[0mkeyarr\u001b[0m\u001b[0;34m,\u001b[0m \u001b[0mindexer\u001b[0m \u001b[0;34m=\u001b[0m \u001b[0mself\u001b[0m\u001b[0;34m.\u001b[0m\u001b[0m_get_listlike_indexer\u001b[0m\u001b[0;34m(\u001b[0m\u001b[0mkey\u001b[0m\u001b[0;34m,\u001b[0m \u001b[0maxis\u001b[0m\u001b[0;34m,\u001b[0m \u001b[0mraise_missing\u001b[0m\u001b[0;34m=\u001b[0m\u001b[0;32mFalse\u001b[0m\u001b[0;34m)\u001b[0m\u001b[0;34m\u001b[0m\u001b[0;34m\u001b[0m\u001b[0m\n\u001b[0m\u001b[1;32m   1596\u001b[0m             return self.obj._reindex_with_indexers(\n\u001b[1;32m   1597\u001b[0m                 \u001b[0;34m{\u001b[0m\u001b[0maxis\u001b[0m\u001b[0;34m:\u001b[0m \u001b[0;34m[\u001b[0m\u001b[0mkeyarr\u001b[0m\u001b[0;34m,\u001b[0m \u001b[0mindexer\u001b[0m\u001b[0;34m]\u001b[0m\u001b[0;34m}\u001b[0m\u001b[0;34m,\u001b[0m \u001b[0mcopy\u001b[0m\u001b[0;34m=\u001b[0m\u001b[0;32mTrue\u001b[0m\u001b[0;34m,\u001b[0m \u001b[0mallow_dups\u001b[0m\u001b[0;34m=\u001b[0m\u001b[0;32mTrue\u001b[0m\u001b[0;34m\u001b[0m\u001b[0;34m\u001b[0m\u001b[0m\n",
      "\u001b[0;32m/Library/Frameworks/Python.framework/Versions/3.7/lib/python3.7/site-packages/pandas/core/indexing.py\u001b[0m in \u001b[0;36m_get_listlike_indexer\u001b[0;34m(self, key, axis, raise_missing)\u001b[0m\n\u001b[1;32m   1551\u001b[0m \u001b[0;34m\u001b[0m\u001b[0m\n\u001b[1;32m   1552\u001b[0m         self._validate_read_indexer(\n\u001b[0;32m-> 1553\u001b[0;31m             \u001b[0mkeyarr\u001b[0m\u001b[0;34m,\u001b[0m \u001b[0mindexer\u001b[0m\u001b[0;34m,\u001b[0m \u001b[0mo\u001b[0m\u001b[0;34m.\u001b[0m\u001b[0m_get_axis_number\u001b[0m\u001b[0;34m(\u001b[0m\u001b[0maxis\u001b[0m\u001b[0;34m)\u001b[0m\u001b[0;34m,\u001b[0m \u001b[0mraise_missing\u001b[0m\u001b[0;34m=\u001b[0m\u001b[0mraise_missing\u001b[0m\u001b[0;34m\u001b[0m\u001b[0;34m\u001b[0m\u001b[0m\n\u001b[0m\u001b[1;32m   1554\u001b[0m         )\n\u001b[1;32m   1555\u001b[0m         \u001b[0;32mreturn\u001b[0m \u001b[0mkeyarr\u001b[0m\u001b[0;34m,\u001b[0m \u001b[0mindexer\u001b[0m\u001b[0;34m\u001b[0m\u001b[0;34m\u001b[0m\u001b[0m\n",
      "\u001b[0;32m/Library/Frameworks/Python.framework/Versions/3.7/lib/python3.7/site-packages/pandas/core/indexing.py\u001b[0m in \u001b[0;36m_validate_read_indexer\u001b[0;34m(self, key, indexer, axis, raise_missing)\u001b[0m\n\u001b[1;32m   1638\u001b[0m             \u001b[0;32mif\u001b[0m \u001b[0mmissing\u001b[0m \u001b[0;34m==\u001b[0m \u001b[0mlen\u001b[0m\u001b[0;34m(\u001b[0m\u001b[0mindexer\u001b[0m\u001b[0;34m)\u001b[0m\u001b[0;34m:\u001b[0m\u001b[0;34m\u001b[0m\u001b[0;34m\u001b[0m\u001b[0m\n\u001b[1;32m   1639\u001b[0m                 \u001b[0maxis_name\u001b[0m \u001b[0;34m=\u001b[0m \u001b[0mself\u001b[0m\u001b[0;34m.\u001b[0m\u001b[0mobj\u001b[0m\u001b[0;34m.\u001b[0m\u001b[0m_get_axis_name\u001b[0m\u001b[0;34m(\u001b[0m\u001b[0maxis\u001b[0m\u001b[0;34m)\u001b[0m\u001b[0;34m\u001b[0m\u001b[0;34m\u001b[0m\u001b[0m\n\u001b[0;32m-> 1640\u001b[0;31m                 \u001b[0;32mraise\u001b[0m \u001b[0mKeyError\u001b[0m\u001b[0;34m(\u001b[0m\u001b[0;34mf\"None of [{key}] are in the [{axis_name}]\"\u001b[0m\u001b[0;34m)\u001b[0m\u001b[0;34m\u001b[0m\u001b[0;34m\u001b[0m\u001b[0m\n\u001b[0m\u001b[1;32m   1641\u001b[0m \u001b[0;34m\u001b[0m\u001b[0m\n\u001b[1;32m   1642\u001b[0m             \u001b[0;31m# We (temporarily) allow for some missing keys with .loc, except in\u001b[0m\u001b[0;34m\u001b[0m\u001b[0;34m\u001b[0m\u001b[0;34m\u001b[0m\u001b[0m\n",
      "\u001b[0;31mKeyError\u001b[0m: \"None of [Index(['venue.name', 'venue.categories', 'venue.location.lat',\\n       'venue.location.lng'],\\n      dtype='object')] are in the [columns]\""
     ]
    }
   ],
   "source": [
    "\n",
    "\n",
    "# filter columns\n",
    "filtered_columns = ['venue.name', 'venue.categories', 'venue.location.lat', 'venue.location.lng']\n",
    "nearby_venues =nearby_venues.loc[:, filtered_columns]\n",
    "\n",
    "# filter the category for each row\n",
    "nearby_venues['venue.categories'] = nearby_venues.apply(get_category_type, axis=1)\n",
    "\n",
    "# clean columns\n",
    "nearby_venues.columns = [col.split(\".\")[-1] for col in nearby_venues.columns]\n",
    "\n",
    "nearby_venues.head()"
   ]
  },
  {
   "cell_type": "markdown",
   "metadata": {},
   "source": [
    "And how many venues were returned by Foursquare?"
   ]
  },
  {
   "cell_type": "code",
   "execution_count": null,
   "metadata": {},
   "outputs": [],
   "source": [
    "print('{} venues were returned by Foursquare.'.format(nearby_venues.shape[0]))"
   ]
  },
  {
   "cell_type": "markdown",
   "metadata": {},
   "source": [
    "<a id='item2'></a>"
   ]
  },
  {
   "cell_type": "markdown",
   "metadata": {},
   "source": [
    "## 2. Explore Neighborhoods in Manhattan"
   ]
  },
  {
   "cell_type": "markdown",
   "metadata": {},
   "source": [
    "#### Let's create a function to repeat the same process to all the neighborhoods in Manhattan"
   ]
  },
  {
   "cell_type": "code",
   "execution_count": null,
   "metadata": {},
   "outputs": [],
   "source": [
    "def getNearbyVenues(names, latitudes, longitudes, radius=500):\n",
    "    \n",
    "    venues_list=[]\n",
    "    for name, lat, lng in zip(names, latitudes, longitudes):\n",
    "        print(name)\n",
    "            \n",
    "        # create the API request URL\n",
    "        url = 'https://api.foursquare.com/v2/venues/explore?&client_id={}&client_secret={}&v={}&ll={},{}&radius={}&limit={}'.format(\n",
    "            CLIENT_ID, \n",
    "            CLIENT_SECRET, \n",
    "            VERSION, \n",
    "            lat, \n",
    "            lng, \n",
    "            radius, \n",
    "            LIMIT)\n",
    "            \n",
    "        # make the GET request\n",
    "        results = requests.get(url).json()[\"response\"]['groups'][0]['items']\n",
    "        \n",
    "        # return only relevant information for each nearby venue\n",
    "        venues_list.append([(\n",
    "            name, \n",
    "            lat, \n",
    "            lng, \n",
    "            v['venue']['name'], \n",
    "            v['venue']['location']['lat'], \n",
    "            v['venue']['location']['lng'],  \n",
    "            v['venue']['categories'][0]['name']) for v in results])\n",
    "\n",
    "    nearby_venues = pd.DataFrame([item for venue_list in venues_list for item in venue_list])\n",
    "    nearby_venues.columns = ['Neighborhood', \n",
    "                  'Neighborhood Latitude', \n",
    "                  'Neighborhood Longitude', \n",
    "                  'Venue', \n",
    "                  'Venue Latitude', \n",
    "                  'Venue Longitude', \n",
    "                  'Venue Category']\n",
    "    \n",
    "    return(nearby_venues)"
   ]
  },
  {
   "cell_type": "markdown",
   "metadata": {},
   "source": [
    "#### Now write the code to run the above function on each neighborhood and create a new dataframe called *manhattan_venues*."
   ]
  },
  {
   "cell_type": "code",
   "execution_count": null,
   "metadata": {
    "scrolled": true
   },
   "outputs": [],
   "source": [
    "# type your answer here\n",
    "\n",
    "manhattan_venues = getNearbyVenues(names=manhattan_data['Neighborhood'],\n",
    "                                   latitudes=manhattan_data['Latitude'],\n",
    "                                   longitudes=manhattan_data['Longitude']\n",
    "                                  )\n",
    "\n"
   ]
  },
  {
   "cell_type": "markdown",
   "metadata": {},
   "source": [
    "Double-click __here__ for the solution.\n",
    "<!-- The correct answer is:\n",
    "manhattan_venues = getNearbyVenues(names=manhattan_data['Neighborhood'],\n",
    "                                   latitudes=manhattan_data['Latitude'],\n",
    "                                   longitudes=manhattan_data['Longitude']\n",
    "                                  )\n",
    "--> "
   ]
  },
  {
   "cell_type": "markdown",
   "metadata": {},
   "source": [
    "#### Let's check the size of the resulting dataframe"
   ]
  },
  {
   "cell_type": "code",
   "execution_count": null,
   "metadata": {},
   "outputs": [],
   "source": [
    "print(manhattan_venues.shape)\n",
    "manhattan_venues.head()"
   ]
  },
  {
   "cell_type": "markdown",
   "metadata": {},
   "source": [
    "Let's check how many venues were returned for each neighborhood"
   ]
  },
  {
   "cell_type": "code",
   "execution_count": null,
   "metadata": {},
   "outputs": [],
   "source": [
    "manhattan_venues.groupby('Neighborhood').count()"
   ]
  },
  {
   "cell_type": "markdown",
   "metadata": {},
   "source": [
    "#### Let's find out how many unique categories can be curated from all the returned venues"
   ]
  },
  {
   "cell_type": "code",
   "execution_count": null,
   "metadata": {},
   "outputs": [],
   "source": [
    "print('There are {} uniques categories.'.format(len(manhattan_venues['Venue Category'].unique())))"
   ]
  },
  {
   "cell_type": "markdown",
   "metadata": {},
   "source": [
    "<a id='item3'></a>"
   ]
  },
  {
   "cell_type": "markdown",
   "metadata": {},
   "source": [
    "## 3. Analyze Each Neighborhood"
   ]
  },
  {
   "cell_type": "code",
   "execution_count": null,
   "metadata": {},
   "outputs": [],
   "source": [
    "# one hot encoding\n",
    "manhattan_onehot = pd.get_dummies(manhattan_venues[['Venue Category']], prefix=\"\", prefix_sep=\"\")\n",
    "\n",
    "# add neighborhood column back to dataframe\n",
    "manhattan_onehot['Neighborhood'] = manhattan_venues['Neighborhood'] \n",
    "\n",
    "# move neighborhood column to the first column\n",
    "fixed_columns = [manhattan_onehot.columns[-1]] + list(manhattan_onehot.columns[:-1])\n",
    "manhattan_onehot = manhattan_onehot[fixed_columns]\n",
    "\n",
    "manhattan_onehot.head()"
   ]
  },
  {
   "cell_type": "markdown",
   "metadata": {},
   "source": [
    "And let's examine the new dataframe size."
   ]
  },
  {
   "cell_type": "code",
   "execution_count": null,
   "metadata": {},
   "outputs": [],
   "source": [
    "manhattan_onehot.shape"
   ]
  },
  {
   "cell_type": "markdown",
   "metadata": {},
   "source": [
    "#### Next, let's group rows by neighborhood and by taking the mean of the frequency of occurrence of each category"
   ]
  },
  {
   "cell_type": "code",
   "execution_count": null,
   "metadata": {},
   "outputs": [],
   "source": [
    "manhattan_grouped = manhattan_onehot.groupby('Neighborhood').mean().reset_index()\n",
    "manhattan_grouped"
   ]
  },
  {
   "cell_type": "code",
   "execution_count": null,
   "metadata": {},
   "outputs": [],
   "source": [
    "manhattan_grouped['Neighborhood'].dtype"
   ]
  },
  {
   "cell_type": "markdown",
   "metadata": {},
   "source": [
    "#### Let's confirm the new size"
   ]
  },
  {
   "cell_type": "code",
   "execution_count": null,
   "metadata": {},
   "outputs": [],
   "source": [
    "manhattan_grouped.shape"
   ]
  },
  {
   "cell_type": "markdown",
   "metadata": {},
   "source": [
    "#### Let's print each neighborhood along with the top 5 most common venues"
   ]
  },
  {
   "cell_type": "code",
   "execution_count": null,
   "metadata": {},
   "outputs": [],
   "source": [
    "num_top_venues = 5\n",
    "\n",
    "for hood in manhattan_grouped['Neighborhood']:\n",
    "    print(\"----\"+hood+\"----\")\n",
    "    temp = manhattan_grouped[manhattan_grouped['Neighborhood'] == hood].T.reset_index()\n",
    "    temp.columns = ['venue','freq']\n",
    "    temp = temp.iloc[1:]\n",
    "    temp['freq'] = temp['freq'].astype(float)\n",
    "    temp = temp.round({'freq': 2})\n",
    "    print(temp.sort_values('freq', ascending=False).reset_index(drop=True).head(num_top_venues))\n",
    "    print('\\n')"
   ]
  },
  {
   "cell_type": "markdown",
   "metadata": {},
   "source": [
    "#### Let's put that into a *pandas* dataframe"
   ]
  },
  {
   "cell_type": "markdown",
   "metadata": {},
   "source": [
    "First, let's write a function to sort the venues in descending order."
   ]
  },
  {
   "cell_type": "code",
   "execution_count": null,
   "metadata": {},
   "outputs": [],
   "source": [
    "def return_most_common_venues(row, num_top_venues):\n",
    "    row_categories = row.iloc[1:]\n",
    "    row_categories_sorted = row_categories.sort_values(ascending=False)\n",
    "    \n",
    "    return row_categories_sorted.index.values[0:num_top_venues]"
   ]
  },
  {
   "cell_type": "markdown",
   "metadata": {},
   "source": [
    "Now let's create the new dataframe and display the top 10 venues for each neighborhood."
   ]
  },
  {
   "cell_type": "code",
   "execution_count": null,
   "metadata": {},
   "outputs": [],
   "source": [
    "num_top_venues = 10\n",
    "\n",
    "indicators = ['st', 'nd', 'rd']\n",
    "\n",
    "# create columns according to number of top venues\n",
    "columns = ['Neighborhood']\n",
    "for ind in np.arange(num_top_venues):\n",
    "    try:\n",
    "        columns.append('{}{} Most Common Venue'.format(ind+1, indicators[ind]))\n",
    "    except:\n",
    "        columns.append('{}th Most Common Venue'.format(ind+1))\n",
    "\n",
    "# create a new dataframe\n",
    "neighborhoods_venues_sorted = pd.DataFrame(columns=columns)\n",
    "neighborhoods_venues_sorted['Neighborhood'] = manhattan_grouped['Neighborhood']\n",
    "\n",
    "for ind in np.arange(manhattan_grouped.shape[0]):\n",
    "    neighborhoods_venues_sorted.iloc[ind, 1:] = return_most_common_venues(manhattan_grouped.iloc[ind, :], num_top_venues)\n",
    "\n",
    "neighborhoods_venues_sorted.head()"
   ]
  },
  {
   "cell_type": "markdown",
   "metadata": {},
   "source": [
    "<a id='item4'></a>"
   ]
  },
  {
   "cell_type": "markdown",
   "metadata": {},
   "source": [
    "## 4. Cluster Neighborhoods"
   ]
  },
  {
   "cell_type": "markdown",
   "metadata": {},
   "source": [
    "Run *k*-means to cluster the neighborhood into 5 clusters."
   ]
  },
  {
   "cell_type": "code",
   "execution_count": null,
   "metadata": {},
   "outputs": [],
   "source": [
    "# set number of clusters\n",
    "kclusters = 5\n",
    "\n",
    "manhattan_grouped_clustering = manhattan_grouped.drop('Neighborhood', 1)\n",
    "\n",
    "# run k-means clustering\n",
    "kmeans = KMeans(n_clusters=kclusters, random_state=0).fit(manhattan_grouped_clustering)\n",
    "\n",
    "# check cluster labels generated for each row in the dataframe\n",
    "kmeans.labels_[0:10] "
   ]
  },
  {
   "cell_type": "markdown",
   "metadata": {},
   "source": [
    "Let's create a new dataframe that includes the cluster as well as the top 10 venues for each neighborhood."
   ]
  },
  {
   "cell_type": "code",
   "execution_count": null,
   "metadata": {},
   "outputs": [],
   "source": [
    "# add clustering labels\n",
    "neighborhoods_venues_sorted.insert(0, 'Cluster Labels', kmeans.labels_)\n",
    "\n",
    "manhattan_merged = manhattan_data\n",
    "\n",
    "# merge toronto_grouped with toronto_data to add latitude/longitude for each neighborhood\n",
    "manhattan_merged = manhattan_merged.join(neighborhoods_venues_sorted.set_index('Neighborhood'), on='Neighborhood')\n",
    "\n",
    "manhattan_merged.head() # check the last columns!"
   ]
  },
  {
   "cell_type": "markdown",
   "metadata": {},
   "source": [
    "Finally, let's visualize the resulting clusters"
   ]
  },
  {
   "cell_type": "code",
   "execution_count": 142,
   "metadata": {},
   "outputs": [
    {
     "data": {
      "text/html": [
       "<div style=\"width:100%;\"><div style=\"position:relative;width:100%;height:0;padding-bottom:60%;\"><span style=\"color:#565656\">Make this Notebook Trusted to load map: File -> Trust Notebook</span><iframe src=\"about:blank\" style=\"position:absolute;width:100%;height:100%;left:0;top:0;border:none !important;\" data-html=PCFET0NUWVBFIGh0bWw+CjxoZWFkPiAgICAKICAgIDxtZXRhIGh0dHAtZXF1aXY9ImNvbnRlbnQtdHlwZSIgY29udGVudD0idGV4dC9odG1sOyBjaGFyc2V0PVVURi04IiAvPgogICAgCiAgICAgICAgPHNjcmlwdD4KICAgICAgICAgICAgTF9OT19UT1VDSCA9IGZhbHNlOwogICAgICAgICAgICBMX0RJU0FCTEVfM0QgPSBmYWxzZTsKICAgICAgICA8L3NjcmlwdD4KICAgIAogICAgPHNjcmlwdCBzcmM9Imh0dHBzOi8vY2RuLmpzZGVsaXZyLm5ldC9ucG0vbGVhZmxldEAxLjYuMC9kaXN0L2xlYWZsZXQuanMiPjwvc2NyaXB0PgogICAgPHNjcmlwdCBzcmM9Imh0dHBzOi8vY29kZS5qcXVlcnkuY29tL2pxdWVyeS0xLjEyLjQubWluLmpzIj48L3NjcmlwdD4KICAgIDxzY3JpcHQgc3JjPSJodHRwczovL21heGNkbi5ib290c3RyYXBjZG4uY29tL2Jvb3RzdHJhcC8zLjIuMC9qcy9ib290c3RyYXAubWluLmpzIj48L3NjcmlwdD4KICAgIDxzY3JpcHQgc3JjPSJodHRwczovL2NkbmpzLmNsb3VkZmxhcmUuY29tL2FqYXgvbGlicy9MZWFmbGV0LmF3ZXNvbWUtbWFya2Vycy8yLjAuMi9sZWFmbGV0LmF3ZXNvbWUtbWFya2Vycy5qcyI+PC9zY3JpcHQ+CiAgICA8bGluayByZWw9InN0eWxlc2hlZXQiIGhyZWY9Imh0dHBzOi8vY2RuLmpzZGVsaXZyLm5ldC9ucG0vbGVhZmxldEAxLjYuMC9kaXN0L2xlYWZsZXQuY3NzIi8+CiAgICA8bGluayByZWw9InN0eWxlc2hlZXQiIGhyZWY9Imh0dHBzOi8vbWF4Y2RuLmJvb3RzdHJhcGNkbi5jb20vYm9vdHN0cmFwLzMuMi4wL2Nzcy9ib290c3RyYXAubWluLmNzcyIvPgogICAgPGxpbmsgcmVsPSJzdHlsZXNoZWV0IiBocmVmPSJodHRwczovL21heGNkbi5ib290c3RyYXBjZG4uY29tL2Jvb3RzdHJhcC8zLjIuMC9jc3MvYm9vdHN0cmFwLXRoZW1lLm1pbi5jc3MiLz4KICAgIDxsaW5rIHJlbD0ic3R5bGVzaGVldCIgaHJlZj0iaHR0cHM6Ly9tYXhjZG4uYm9vdHN0cmFwY2RuLmNvbS9mb250LWF3ZXNvbWUvNC42LjMvY3NzL2ZvbnQtYXdlc29tZS5taW4uY3NzIi8+CiAgICA8bGluayByZWw9InN0eWxlc2hlZXQiIGhyZWY9Imh0dHBzOi8vY2RuanMuY2xvdWRmbGFyZS5jb20vYWpheC9saWJzL0xlYWZsZXQuYXdlc29tZS1tYXJrZXJzLzIuMC4yL2xlYWZsZXQuYXdlc29tZS1tYXJrZXJzLmNzcyIvPgogICAgPGxpbmsgcmVsPSJzdHlsZXNoZWV0IiBocmVmPSJodHRwczovL3Jhd2Nkbi5naXRoYWNrLmNvbS9weXRob24tdmlzdWFsaXphdGlvbi9mb2xpdW0vbWFzdGVyL2ZvbGl1bS90ZW1wbGF0ZXMvbGVhZmxldC5hd2Vzb21lLnJvdGF0ZS5jc3MiLz4KICAgIDxzdHlsZT5odG1sLCBib2R5IHt3aWR0aDogMTAwJTtoZWlnaHQ6IDEwMCU7bWFyZ2luOiAwO3BhZGRpbmc6IDA7fTwvc3R5bGU+CiAgICA8c3R5bGU+I21hcCB7cG9zaXRpb246YWJzb2x1dGU7dG9wOjA7Ym90dG9tOjA7cmlnaHQ6MDtsZWZ0OjA7fTwvc3R5bGU+CiAgICAKICAgICAgICAgICAgPG1ldGEgbmFtZT0idmlld3BvcnQiIGNvbnRlbnQ9IndpZHRoPWRldmljZS13aWR0aCwKICAgICAgICAgICAgICAgIGluaXRpYWwtc2NhbGU9MS4wLCBtYXhpbXVtLXNjYWxlPTEuMCwgdXNlci1zY2FsYWJsZT1ubyIgLz4KICAgICAgICAgICAgPHN0eWxlPgogICAgICAgICAgICAgICAgI21hcF82YWMwMjIwYTY4ZjI0MWM4YWFiZGJkOTNhZjM4M2I4YSB7CiAgICAgICAgICAgICAgICAgICAgcG9zaXRpb246IHJlbGF0aXZlOwogICAgICAgICAgICAgICAgICAgIHdpZHRoOiAxMDAuMCU7CiAgICAgICAgICAgICAgICAgICAgaGVpZ2h0OiAxMDAuMCU7CiAgICAgICAgICAgICAgICAgICAgbGVmdDogMC4wJTsKICAgICAgICAgICAgICAgICAgICB0b3A6IDAuMCU7CiAgICAgICAgICAgICAgICB9CiAgICAgICAgICAgIDwvc3R5bGU+CiAgICAgICAgCjwvaGVhZD4KPGJvZHk+ICAgIAogICAgCiAgICAgICAgICAgIDxkaXYgY2xhc3M9ImZvbGl1bS1tYXAiIGlkPSJtYXBfNmFjMDIyMGE2OGYyNDFjOGFhYmRiZDkzYWYzODNiOGEiID48L2Rpdj4KICAgICAgICAKPC9ib2R5Pgo8c2NyaXB0PiAgICAKICAgIAogICAgICAgICAgICB2YXIgbWFwXzZhYzAyMjBhNjhmMjQxYzhhYWJkYmQ5M2FmMzgzYjhhID0gTC5tYXAoCiAgICAgICAgICAgICAgICAibWFwXzZhYzAyMjBhNjhmMjQxYzhhYWJkYmQ5M2FmMzgzYjhhIiwKICAgICAgICAgICAgICAgIHsKICAgICAgICAgICAgICAgICAgICBjZW50ZXI6IFs0MC43ODk2MjM5LCAtNzMuOTU5ODkzOV0sCiAgICAgICAgICAgICAgICAgICAgY3JzOiBMLkNSUy5FUFNHMzg1NywKICAgICAgICAgICAgICAgICAgICB6b29tOiAxMSwKICAgICAgICAgICAgICAgICAgICB6b29tQ29udHJvbDogdHJ1ZSwKICAgICAgICAgICAgICAgICAgICBwcmVmZXJDYW52YXM6IGZhbHNlLAogICAgICAgICAgICAgICAgfQogICAgICAgICAgICApOwoKICAgICAgICAgICAgCgogICAgICAgIAogICAgCiAgICAgICAgICAgIHZhciB0aWxlX2xheWVyXzk0NDBhMWE1MGE0YzQzZjM4OTE1ZjdiYjE5MWVkZGNlID0gTC50aWxlTGF5ZXIoCiAgICAgICAgICAgICAgICAiaHR0cHM6Ly97c30udGlsZS5vcGVuc3RyZWV0bWFwLm9yZy97en0ve3h9L3t5fS5wbmciLAogICAgICAgICAgICAgICAgeyJhdHRyaWJ1dGlvbiI6ICJEYXRhIGJ5IFx1MDAyNmNvcHk7IFx1MDAzY2EgaHJlZj1cImh0dHA6Ly9vcGVuc3RyZWV0bWFwLm9yZ1wiXHUwMDNlT3BlblN0cmVldE1hcFx1MDAzYy9hXHUwMDNlLCB1bmRlciBcdTAwM2NhIGhyZWY9XCJodHRwOi8vd3d3Lm9wZW5zdHJlZXRtYXAub3JnL2NvcHlyaWdodFwiXHUwMDNlT0RiTFx1MDAzYy9hXHUwMDNlLiIsICJkZXRlY3RSZXRpbmEiOiBmYWxzZSwgIm1heE5hdGl2ZVpvb20iOiAxOCwgIm1heFpvb20iOiAxOCwgIm1pblpvb20iOiAwLCAibm9XcmFwIjogZmFsc2UsICJvcGFjaXR5IjogMSwgInN1YmRvbWFpbnMiOiAiYWJjIiwgInRtcyI6IGZhbHNlfQogICAgICAgICAgICApLmFkZFRvKG1hcF82YWMwMjIwYTY4ZjI0MWM4YWFiZGJkOTNhZjM4M2I4YSk7CiAgICAgICAgCiAgICAKICAgICAgICAgICAgdmFyIGNpcmNsZV9tYXJrZXJfNGViOWFkN2VlNjFlNGY0OTkzYmNjYjFiOGM3NTFmNzMgPSBMLmNpcmNsZU1hcmtlcigKICAgICAgICAgICAgICAgIFs0MC44NzY1NTA3Nzg3OTk2NCwgLTczLjkxMDY1OTY1ODYyOTgxXSwKICAgICAgICAgICAgICAgIHsiYnViYmxpbmdNb3VzZUV2ZW50cyI6IHRydWUsICJjb2xvciI6ICIjZmZiMzYwIiwgImRhc2hBcnJheSI6IG51bGwsICJkYXNoT2Zmc2V0IjogbnVsbCwgImZpbGwiOiB0cnVlLCAiZmlsbENvbG9yIjogIiNmZmIzNjAiLCAiZmlsbE9wYWNpdHkiOiAwLjcsICJmaWxsUnVsZSI6ICJldmVub2RkIiwgImxpbmVDYXAiOiAicm91bmQiLCAibGluZUpvaW4iOiAicm91bmQiLCAib3BhY2l0eSI6IDEuMCwgInJhZGl1cyI6IDUsICJzdHJva2UiOiB0cnVlLCAid2VpZ2h0IjogM30KICAgICAgICAgICAgKS5hZGRUbyhtYXBfNmFjMDIyMGE2OGYyNDFjOGFhYmRiZDkzYWYzODNiOGEpOwogICAgICAgIAogICAgCiAgICAgICAgdmFyIHBvcHVwX2UzNzI4NzlmNDU5MDQ3ZDdiMjcxYTIzMTU4Mzk4NzkzID0gTC5wb3B1cCh7Im1heFdpZHRoIjogIjEwMCUifSk7CgogICAgICAgIAogICAgICAgICAgICB2YXIgaHRtbF9iMDM3MWJlYzI1NTk0YzNhYTAwNTQ3YjQzNGNhMDI4MyA9ICQoYDxkaXYgaWQ9Imh0bWxfYjAzNzFiZWMyNTU5NGMzYWEwMDU0N2I0MzRjYTAyODMiIHN0eWxlPSJ3aWR0aDogMTAwLjAlOyBoZWlnaHQ6IDEwMC4wJTsiPk1hcmJsZSBIaWxsIENsdXN0ZXIgNDwvZGl2PmApWzBdOwogICAgICAgICAgICBwb3B1cF9lMzcyODc5ZjQ1OTA0N2Q3YjI3MWEyMzE1ODM5ODc5My5zZXRDb250ZW50KGh0bWxfYjAzNzFiZWMyNTU5NGMzYWEwMDU0N2I0MzRjYTAyODMpOwogICAgICAgIAoKICAgICAgICBjaXJjbGVfbWFya2VyXzRlYjlhZDdlZTYxZTRmNDk5M2JjY2IxYjhjNzUxZjczLmJpbmRQb3B1cChwb3B1cF9lMzcyODc5ZjQ1OTA0N2Q3YjI3MWEyMzE1ODM5ODc5MykKICAgICAgICA7CgogICAgICAgIAogICAgCiAgICAKICAgICAgICAgICAgdmFyIGNpcmNsZV9tYXJrZXJfMWQwZWI5MmJmYWYxNDdjNThjZjU4YWI5NzdiNWM1YWMgPSBMLmNpcmNsZU1hcmtlcigKICAgICAgICAgICAgICAgIFs0MC43MTU2MTg0MjIzMTQzMiwgLTczLjk5NDI3OTM2MjU1OTc4XSwKICAgICAgICAgICAgICAgIHsiYnViYmxpbmdNb3VzZUV2ZW50cyI6IHRydWUsICJjb2xvciI6ICIjODAwMGZmIiwgImRhc2hBcnJheSI6IG51bGwsICJkYXNoT2Zmc2V0IjogbnVsbCwgImZpbGwiOiB0cnVlLCAiZmlsbENvbG9yIjogIiM4MDAwZmYiLCAiZmlsbE9wYWNpdHkiOiAwLjcsICJmaWxsUnVsZSI6ICJldmVub2RkIiwgImxpbmVDYXAiOiAicm91bmQiLCAibGluZUpvaW4iOiAicm91bmQiLCAib3BhY2l0eSI6IDEuMCwgInJhZGl1cyI6IDUsICJzdHJva2UiOiB0cnVlLCAid2VpZ2h0IjogM30KICAgICAgICAgICAgKS5hZGRUbyhtYXBfNmFjMDIyMGE2OGYyNDFjOGFhYmRiZDkzYWYzODNiOGEpOwogICAgICAgIAogICAgCiAgICAgICAgdmFyIHBvcHVwX2FiNWY0MWNjMWQyNDQxZGU4N2MwOWZjODZlODQ0ODllID0gTC5wb3B1cCh7Im1heFdpZHRoIjogIjEwMCUifSk7CgogICAgICAgIAogICAgICAgICAgICB2YXIgaHRtbF9kMzVjMjhiN2M3MzI0MzI2YTY4MWFjNWI1ODM0NmU3YSA9ICQoYDxkaXYgaWQ9Imh0bWxfZDM1YzI4YjdjNzMyNDMyNmE2ODFhYzViNTgzNDZlN2EiIHN0eWxlPSJ3aWR0aDogMTAwLjAlOyBoZWlnaHQ6IDEwMC4wJTsiPkNoaW5hdG93biBDbHVzdGVyIDE8L2Rpdj5gKVswXTsKICAgICAgICAgICAgcG9wdXBfYWI1ZjQxY2MxZDI0NDFkZTg3YzA5ZmM4NmU4NDQ4OWUuc2V0Q29udGVudChodG1sX2QzNWMyOGI3YzczMjQzMjZhNjgxYWM1YjU4MzQ2ZTdhKTsKICAgICAgICAKCiAgICAgICAgY2lyY2xlX21hcmtlcl8xZDBlYjkyYmZhZjE0N2M1OGNmNThhYjk3N2I1YzVhYy5iaW5kUG9wdXAocG9wdXBfYWI1ZjQxY2MxZDI0NDFkZTg3YzA5ZmM4NmU4NDQ4OWUpCiAgICAgICAgOwoKICAgICAgICAKICAgIAogICAgCiAgICAgICAgICAgIHZhciBjaXJjbGVfbWFya2VyXzY4ODRmNTQ5NzlkYjRhZTBiYmEwOWEwNjAxMzA4MmQyID0gTC5jaXJjbGVNYXJrZXIoCiAgICAgICAgICAgICAgICBbNDAuODUxOTAyNTI1NTUzMDUsIC03My45MzY5MDAyNzk4NTIzNF0sCiAgICAgICAgICAgICAgICB7ImJ1YmJsaW5nTW91c2VFdmVudHMiOiB0cnVlLCAiY29sb3IiOiAiIzAwYjVlYiIsICJkYXNoQXJyYXkiOiBudWxsLCAiZGFzaE9mZnNldCI6IG51bGwsICJmaWxsIjogdHJ1ZSwgImZpbGxDb2xvciI6ICIjMDBiNWViIiwgImZpbGxPcGFjaXR5IjogMC43LCAiZmlsbFJ1bGUiOiAiZXZlbm9kZCIsICJsaW5lQ2FwIjogInJvdW5kIiwgImxpbmVKb2luIjogInJvdW5kIiwgIm9wYWNpdHkiOiAxLjAsICJyYWRpdXMiOiA1LCAic3Ryb2tlIjogdHJ1ZSwgIndlaWdodCI6IDN9CiAgICAgICAgICAgICkuYWRkVG8obWFwXzZhYzAyMjBhNjhmMjQxYzhhYWJkYmQ5M2FmMzgzYjhhKTsKICAgICAgICAKICAgIAogICAgICAgIHZhciBwb3B1cF9iZGFkNTY5Y2QzYmU0MjE4OGY4ZDdlNWUyMzRmMjM0MSA9IEwucG9wdXAoeyJtYXhXaWR0aCI6ICIxMDAlIn0pOwoKICAgICAgICAKICAgICAgICAgICAgdmFyIGh0bWxfMDQ5OTE4ZTZlMjQ2NDEzMGI2Njc2OGJmMTk5OTRiZjkgPSAkKGA8ZGl2IGlkPSJodG1sXzA0OTkxOGU2ZTI0NjQxMzBiNjY3NjhiZjE5OTk0YmY5IiBzdHlsZT0id2lkdGg6IDEwMC4wJTsgaGVpZ2h0OiAxMDAuMCU7Ij5XYXNoaW5ndG9uIEhlaWdodHMgQ2x1c3RlciAyPC9kaXY+YClbMF07CiAgICAgICAgICAgIHBvcHVwX2JkYWQ1NjljZDNiZTQyMTg4ZjhkN2U1ZTIzNGYyMzQxLnNldENvbnRlbnQoaHRtbF8wNDk5MThlNmUyNDY0MTMwYjY2NzY4YmYxOTk5NGJmOSk7CiAgICAgICAgCgogICAgICAgIGNpcmNsZV9tYXJrZXJfNjg4NGY1NDk3OWRiNGFlMGJiYTA5YTA2MDEzMDgyZDIuYmluZFBvcHVwKHBvcHVwX2JkYWQ1NjljZDNiZTQyMTg4ZjhkN2U1ZTIzNGYyMzQxKQogICAgICAgIDsKCiAgICAgICAgCiAgICAKICAgIAogICAgICAgICAgICB2YXIgY2lyY2xlX21hcmtlcl9mNTAxMmE3YTE2NDc0ODY2OWE4MGQ4MTg5Nzk0MjkyZCA9IEwuY2lyY2xlTWFya2VyKAogICAgICAgICAgICAgICAgWzQwLjg2NzY4Mzk2NDQ5OTE1LCAtNzMuOTIxMjEwNDIyMDM4OTddLAogICAgICAgICAgICAgICAgeyJidWJibGluZ01vdXNlRXZlbnRzIjogdHJ1ZSwgImNvbG9yIjogIiMwMGI1ZWIiLCAiZGFzaEFycmF5IjogbnVsbCwgImRhc2hPZmZzZXQiOiBudWxsLCAiZmlsbCI6IHRydWUsICJmaWxsQ29sb3IiOiAiIzAwYjVlYiIsICJmaWxsT3BhY2l0eSI6IDAuNywgImZpbGxSdWxlIjogImV2ZW5vZGQiLCAibGluZUNhcCI6ICJyb3VuZCIsICJsaW5lSm9pbiI6ICJyb3VuZCIsICJvcGFjaXR5IjogMS4wLCAicmFkaXVzIjogNSwgInN0cm9rZSI6IHRydWUsICJ3ZWlnaHQiOiAzfQogICAgICAgICAgICApLmFkZFRvKG1hcF82YWMwMjIwYTY4ZjI0MWM4YWFiZGJkOTNhZjM4M2I4YSk7CiAgICAgICAgCiAgICAKICAgICAgICB2YXIgcG9wdXBfZGIzMDAwZGZjYzBhNDQyY2EwODY2ODdlNDNlOWVhODQgPSBMLnBvcHVwKHsibWF4V2lkdGgiOiAiMTAwJSJ9KTsKCiAgICAgICAgCiAgICAgICAgICAgIHZhciBodG1sX2UxMmFjOTg4ZDJkODQ2ZjE4NjliNGQ5ZTBmZGU1ZDQwID0gJChgPGRpdiBpZD0iaHRtbF9lMTJhYzk4OGQyZDg0NmYxODY5YjRkOWUwZmRlNWQ0MCIgc3R5bGU9IndpZHRoOiAxMDAuMCU7IGhlaWdodDogMTAwLjAlOyI+SW53b29kIENsdXN0ZXIgMjwvZGl2PmApWzBdOwogICAgICAgICAgICBwb3B1cF9kYjMwMDBkZmNjMGE0NDJjYTA4NjY4N2U0M2U5ZWE4NC5zZXRDb250ZW50KGh0bWxfZTEyYWM5ODhkMmQ4NDZmMTg2OWI0ZDllMGZkZTVkNDApOwogICAgICAgIAoKICAgICAgICBjaXJjbGVfbWFya2VyX2Y1MDEyYTdhMTY0NzQ4NjY5YTgwZDgxODk3OTQyOTJkLmJpbmRQb3B1cChwb3B1cF9kYjMwMDBkZmNjMGE0NDJjYTA4NjY4N2U0M2U5ZWE4NCkKICAgICAgICA7CgogICAgICAgIAogICAgCiAgICAKICAgICAgICAgICAgdmFyIGNpcmNsZV9tYXJrZXJfOTg3ZDAwOGI1ZDI2NGQ1ZThiYjI3Y2QwZGU1NjZhMmEgPSBMLmNpcmNsZU1hcmtlcigKICAgICAgICAgICAgICAgIFs0MC44MjM2MDQyODQ4MTE5MzUsIC03My45NDk2ODc5MTg4MzM2Nl0sCiAgICAgICAgICAgICAgICB7ImJ1YmJsaW5nTW91c2VFdmVudHMiOiB0cnVlLCAiY29sb3IiOiAiIzAwYjVlYiIsICJkYXNoQXJyYXkiOiBudWxsLCAiZGFzaE9mZnNldCI6IG51bGwsICJmaWxsIjogdHJ1ZSwgImZpbGxDb2xvciI6ICIjMDBiNWViIiwgImZpbGxPcGFjaXR5IjogMC43LCAiZmlsbFJ1bGUiOiAiZXZlbm9kZCIsICJsaW5lQ2FwIjogInJvdW5kIiwgImxpbmVKb2luIjogInJvdW5kIiwgIm9wYWNpdHkiOiAxLjAsICJyYWRpdXMiOiA1LCAic3Ryb2tlIjogdHJ1ZSwgIndlaWdodCI6IDN9CiAgICAgICAgICAgICkuYWRkVG8obWFwXzZhYzAyMjBhNjhmMjQxYzhhYWJkYmQ5M2FmMzgzYjhhKTsKICAgICAgICAKICAgIAogICAgICAgIHZhciBwb3B1cF9hNDAxYTFjZjljOTU0ZDJkOWVmNDgwNGQxYmM1MjczYSA9IEwucG9wdXAoeyJtYXhXaWR0aCI6ICIxMDAlIn0pOwoKICAgICAgICAKICAgICAgICAgICAgdmFyIGh0bWxfYzM0NGI5NzM5NDMyNGQwNDg2YjE2ZGM2MGIzNmFhZjEgPSAkKGA8ZGl2IGlkPSJodG1sX2MzNDRiOTczOTQzMjRkMDQ4NmIxNmRjNjBiMzZhYWYxIiBzdHlsZT0id2lkdGg6IDEwMC4wJTsgaGVpZ2h0OiAxMDAuMCU7Ij5IYW1pbHRvbiBIZWlnaHRzIENsdXN0ZXIgMjwvZGl2PmApWzBdOwogICAgICAgICAgICBwb3B1cF9hNDAxYTFjZjljOTU0ZDJkOWVmNDgwNGQxYmM1MjczYS5zZXRDb250ZW50KGh0bWxfYzM0NGI5NzM5NDMyNGQwNDg2YjE2ZGM2MGIzNmFhZjEpOwogICAgICAgIAoKICAgICAgICBjaXJjbGVfbWFya2VyXzk4N2QwMDhiNWQyNjRkNWU4YmIyN2NkMGRlNTY2YTJhLmJpbmRQb3B1cChwb3B1cF9hNDAxYTFjZjljOTU0ZDJkOWVmNDgwNGQxYmM1MjczYSkKICAgICAgICA7CgogICAgICAgIAogICAgCiAgICAKICAgICAgICAgICAgdmFyIGNpcmNsZV9tYXJrZXJfM2FlNWU3Y2IxYzQ2NGM0YTk1Mzg0NWJlMGFjMTIxZWMgPSBMLmNpcmNsZU1hcmtlcigKICAgICAgICAgICAgICAgIFs0MC44MTY5MzQ0Mjk0OTc4LCAtNzMuOTU3Mzg1MzkzNTE4OF0sCiAgICAgICAgICAgICAgICB7ImJ1YmJsaW5nTW91c2VFdmVudHMiOiB0cnVlLCAiY29sb3IiOiAiIzAwYjVlYiIsICJkYXNoQXJyYXkiOiBudWxsLCAiZGFzaE9mZnNldCI6IG51bGwsICJmaWxsIjogdHJ1ZSwgImZpbGxDb2xvciI6ICIjMDBiNWViIiwgImZpbGxPcGFjaXR5IjogMC43LCAiZmlsbFJ1bGUiOiAiZXZlbm9kZCIsICJsaW5lQ2FwIjogInJvdW5kIiwgImxpbmVKb2luIjogInJvdW5kIiwgIm9wYWNpdHkiOiAxLjAsICJyYWRpdXMiOiA1LCAic3Ryb2tlIjogdHJ1ZSwgIndlaWdodCI6IDN9CiAgICAgICAgICAgICkuYWRkVG8obWFwXzZhYzAyMjBhNjhmMjQxYzhhYWJkYmQ5M2FmMzgzYjhhKTsKICAgICAgICAKICAgIAogICAgICAgIHZhciBwb3B1cF8wNTBhNzg1YmQ1NGQ0MDQzYWVhM2U0MTc5YjdiOGE2MSA9IEwucG9wdXAoeyJtYXhXaWR0aCI6ICIxMDAlIn0pOwoKICAgICAgICAKICAgICAgICAgICAgdmFyIGh0bWxfZDkxOTVkMTY2OWFjNDJiYjg1NjJmYTkxMDdmZGZlMzggPSAkKGA8ZGl2IGlkPSJodG1sX2Q5MTk1ZDE2NjlhYzQyYmI4NTYyZmE5MTA3ZmRmZTM4IiBzdHlsZT0id2lkdGg6IDEwMC4wJTsgaGVpZ2h0OiAxMDAuMCU7Ij5NYW5oYXR0YW52aWxsZSBDbHVzdGVyIDI8L2Rpdj5gKVswXTsKICAgICAgICAgICAgcG9wdXBfMDUwYTc4NWJkNTRkNDA0M2FlYTNlNDE3OWI3YjhhNjEuc2V0Q29udGVudChodG1sX2Q5MTk1ZDE2NjlhYzQyYmI4NTYyZmE5MTA3ZmRmZTM4KTsKICAgICAgICAKCiAgICAgICAgY2lyY2xlX21hcmtlcl8zYWU1ZTdjYjFjNDY0YzRhOTUzODQ1YmUwYWMxMjFlYy5iaW5kUG9wdXAocG9wdXBfMDUwYTc4NWJkNTRkNDA0M2FlYTNlNDE3OWI3YjhhNjEpCiAgICAgICAgOwoKICAgICAgICAKICAgIAogICAgCiAgICAgICAgICAgIHZhciBjaXJjbGVfbWFya2VyX2YwYzhhZjgyMWI5MjRjMTNiMzAxMTcwNDZiYjlhMGMyID0gTC5jaXJjbGVNYXJrZXIoCiAgICAgICAgICAgICAgICBbNDAuODE1OTc2MDY3NDI0MTQsIC03My45NDMyMTExMjYwMzkwNV0sCiAgICAgICAgICAgICAgICB7ImJ1YmJsaW5nTW91c2VFdmVudHMiOiB0cnVlLCAiY29sb3IiOiAiIzAwYjVlYiIsICJkYXNoQXJyYXkiOiBudWxsLCAiZGFzaE9mZnNldCI6IG51bGwsICJmaWxsIjogdHJ1ZSwgImZpbGxDb2xvciI6ICIjMDBiNWViIiwgImZpbGxPcGFjaXR5IjogMC43LCAiZmlsbFJ1bGUiOiAiZXZlbm9kZCIsICJsaW5lQ2FwIjogInJvdW5kIiwgImxpbmVKb2luIjogInJvdW5kIiwgIm9wYWNpdHkiOiAxLjAsICJyYWRpdXMiOiA1LCAic3Ryb2tlIjogdHJ1ZSwgIndlaWdodCI6IDN9CiAgICAgICAgICAgICkuYWRkVG8obWFwXzZhYzAyMjBhNjhmMjQxYzhhYWJkYmQ5M2FmMzgzYjhhKTsKICAgICAgICAKICAgIAogICAgICAgIHZhciBwb3B1cF8zMmNkNjQwODNlYzQ0YTdlYWFkZmMzMWExNDY0NWNlZiA9IEwucG9wdXAoeyJtYXhXaWR0aCI6ICIxMDAlIn0pOwoKICAgICAgICAKICAgICAgICAgICAgdmFyIGh0bWxfOTE2MWUzNmMwZjUwNGY0NWIwY2Y2OTZhNGU1ZDFiNjEgPSAkKGA8ZGl2IGlkPSJodG1sXzkxNjFlMzZjMGY1MDRmNDViMGNmNjk2YTRlNWQxYjYxIiBzdHlsZT0id2lkdGg6IDEwMC4wJTsgaGVpZ2h0OiAxMDAuMCU7Ij5DZW50cmFsIEhhcmxlbSBDbHVzdGVyIDI8L2Rpdj5gKVswXTsKICAgICAgICAgICAgcG9wdXBfMzJjZDY0MDgzZWM0NGE3ZWFhZGZjMzFhMTQ2NDVjZWYuc2V0Q29udGVudChodG1sXzkxNjFlMzZjMGY1MDRmNDViMGNmNjk2YTRlNWQxYjYxKTsKICAgICAgICAKCiAgICAgICAgY2lyY2xlX21hcmtlcl9mMGM4YWY4MjFiOTI0YzEzYjMwMTE3MDQ2YmI5YTBjMi5iaW5kUG9wdXAocG9wdXBfMzJjZDY0MDgzZWM0NGE3ZWFhZGZjMzFhMTQ2NDVjZWYpCiAgICAgICAgOwoKICAgICAgICAKICAgIAogICAgCiAgICAgICAgICAgIHZhciBjaXJjbGVfbWFya2VyXzQ4MDgxNjViZmMyZjQ5Yzc4NGNiMGQzMTBhYzVlNGE3ID0gTC5jaXJjbGVNYXJrZXIoCiAgICAgICAgICAgICAgICBbNDAuNzkyMjQ5NDY2NjMwMzMsIC03My45NDQxODIyMzE0ODUyNF0sCiAgICAgICAgICAgICAgICB7ImJ1YmJsaW5nTW91c2VFdmVudHMiOiB0cnVlLCAiY29sb3IiOiAiIzAwYjVlYiIsICJkYXNoQXJyYXkiOiBudWxsLCAiZGFzaE9mZnNldCI6IG51bGwsICJmaWxsIjogdHJ1ZSwgImZpbGxDb2xvciI6ICIjMDBiNWViIiwgImZpbGxPcGFjaXR5IjogMC43LCAiZmlsbFJ1bGUiOiAiZXZlbm9kZCIsICJsaW5lQ2FwIjogInJvdW5kIiwgImxpbmVKb2luIjogInJvdW5kIiwgIm9wYWNpdHkiOiAxLjAsICJyYWRpdXMiOiA1LCAic3Ryb2tlIjogdHJ1ZSwgIndlaWdodCI6IDN9CiAgICAgICAgICAgICkuYWRkVG8obWFwXzZhYzAyMjBhNjhmMjQxYzhhYWJkYmQ5M2FmMzgzYjhhKTsKICAgICAgICAKICAgIAogICAgICAgIHZhciBwb3B1cF9jNzExMTE4NmVlOWI0ODIzYWM2OTQ0NGU2NWI4MDU2NiA9IEwucG9wdXAoeyJtYXhXaWR0aCI6ICIxMDAlIn0pOwoKICAgICAgICAKICAgICAgICAgICAgdmFyIGh0bWxfNGNiNGIxOTRmODZhNGMzZWEzZTQzNzc2NDAzMDI4Y2UgPSAkKGA8ZGl2IGlkPSJodG1sXzRjYjRiMTk0Zjg2YTRjM2VhM2U0Mzc3NjQwMzAyOGNlIiBzdHlsZT0id2lkdGg6IDEwMC4wJTsgaGVpZ2h0OiAxMDAuMCU7Ij5FYXN0IEhhcmxlbSBDbHVzdGVyIDI8L2Rpdj5gKVswXTsKICAgICAgICAgICAgcG9wdXBfYzcxMTExODZlZTliNDgyM2FjNjk0NDRlNjViODA1NjYuc2V0Q29udGVudChodG1sXzRjYjRiMTk0Zjg2YTRjM2VhM2U0Mzc3NjQwMzAyOGNlKTsKICAgICAgICAKCiAgICAgICAgY2lyY2xlX21hcmtlcl80ODA4MTY1YmZjMmY0OWM3ODRjYjBkMzEwYWM1ZTRhNy5iaW5kUG9wdXAocG9wdXBfYzcxMTExODZlZTliNDgyM2FjNjk0NDRlNjViODA1NjYpCiAgICAgICAgOwoKICAgICAgICAKICAgIAogICAgCiAgICAgICAgICAgIHZhciBjaXJjbGVfbWFya2VyXzFiM2ZlMGI5ZDM3ZTRiZTY4YmQ2YjVmNmM2MDZlZmQ3ID0gTC5jaXJjbGVNYXJrZXIoCiAgICAgICAgICAgICAgICBbNDAuNzc1NjM4NTczMzAxODA1LCAtNzMuOTYwNTA3NjMxMzVdLAogICAgICAgICAgICAgICAgeyJidWJibGluZ01vdXNlRXZlbnRzIjogdHJ1ZSwgImNvbG9yIjogIiM4MDAwZmYiLCAiZGFzaEFycmF5IjogbnVsbCwgImRhc2hPZmZzZXQiOiBudWxsLCAiZmlsbCI6IHRydWUsICJmaWxsQ29sb3IiOiAiIzgwMDBmZiIsICJmaWxsT3BhY2l0eSI6IDAuNywgImZpbGxSdWxlIjogImV2ZW5vZGQiLCAibGluZUNhcCI6ICJyb3VuZCIsICJsaW5lSm9pbiI6ICJyb3VuZCIsICJvcGFjaXR5IjogMS4wLCAicmFkaXVzIjogNSwgInN0cm9rZSI6IHRydWUsICJ3ZWlnaHQiOiAzfQogICAgICAgICAgICApLmFkZFRvKG1hcF82YWMwMjIwYTY4ZjI0MWM4YWFiZGJkOTNhZjM4M2I4YSk7CiAgICAgICAgCiAgICAKICAgICAgICB2YXIgcG9wdXBfY2RkM2JiM2E0ZTMxNDBhYmEzZDNiMjJhNjgwYzJjMDQgPSBMLnBvcHVwKHsibWF4V2lkdGgiOiAiMTAwJSJ9KTsKCiAgICAgICAgCiAgICAgICAgICAgIHZhciBodG1sXzQ4M2U0NGQwNWMzYjRiNmZhM2JhYjBiNjc2ZTlmZTU4ID0gJChgPGRpdiBpZD0iaHRtbF80ODNlNDRkMDVjM2I0YjZmYTNiYWIwYjY3NmU5ZmU1OCIgc3R5bGU9IndpZHRoOiAxMDAuMCU7IGhlaWdodDogMTAwLjAlOyI+VXBwZXIgRWFzdCBTaWRlIENsdXN0ZXIgMTwvZGl2PmApWzBdOwogICAgICAgICAgICBwb3B1cF9jZGQzYmIzYTRlMzE0MGFiYTNkM2IyMmE2ODBjMmMwNC5zZXRDb250ZW50KGh0bWxfNDgzZTQ0ZDA1YzNiNGI2ZmEzYmFiMGI2NzZlOWZlNTgpOwogICAgICAgIAoKICAgICAgICBjaXJjbGVfbWFya2VyXzFiM2ZlMGI5ZDM3ZTRiZTY4YmQ2YjVmNmM2MDZlZmQ3LmJpbmRQb3B1cChwb3B1cF9jZGQzYmIzYTRlMzE0MGFiYTNkM2IyMmE2ODBjMmMwNCkKICAgICAgICA7CgogICAgICAgIAogICAgCiAgICAKICAgICAgICAgICAgdmFyIGNpcmNsZV9tYXJrZXJfMGQwYzBiY2NhNzUwNGVmYjg2NWQ0NGU5ZDkxNmZmOGYgPSBMLmNpcmNsZU1hcmtlcigKICAgICAgICAgICAgICAgIFs0MC43NzU5Mjk4NDk4ODQ4NzUsIC03My45NDcxMTc4NDQ3MTgyNl0sCiAgICAgICAgICAgICAgICB7ImJ1YmJsaW5nTW91c2VFdmVudHMiOiB0cnVlLCAiY29sb3IiOiAiIzgwMDBmZiIsICJkYXNoQXJyYXkiOiBudWxsLCAiZGFzaE9mZnNldCI6IG51bGwsICJmaWxsIjogdHJ1ZSwgImZpbGxDb2xvciI6ICIjODAwMGZmIiwgImZpbGxPcGFjaXR5IjogMC43LCAiZmlsbFJ1bGUiOiAiZXZlbm9kZCIsICJsaW5lQ2FwIjogInJvdW5kIiwgImxpbmVKb2luIjogInJvdW5kIiwgIm9wYWNpdHkiOiAxLjAsICJyYWRpdXMiOiA1LCAic3Ryb2tlIjogdHJ1ZSwgIndlaWdodCI6IDN9CiAgICAgICAgICAgICkuYWRkVG8obWFwXzZhYzAyMjBhNjhmMjQxYzhhYWJkYmQ5M2FmMzgzYjhhKTsKICAgICAgICAKICAgIAogICAgICAgIHZhciBwb3B1cF9mYTIwZGI2ZTRmMWU0ZGQwOTZhMzkwY2IzM2U5NzlkYyA9IEwucG9wdXAoeyJtYXhXaWR0aCI6ICIxMDAlIn0pOwoKICAgICAgICAKICAgICAgICAgICAgdmFyIGh0bWxfOTM2Mjk1OTUwOGJiNDIzZGE2YTNjZWU4MmU2ODFjZjMgPSAkKGA8ZGl2IGlkPSJodG1sXzkzNjI5NTk1MDhiYjQyM2RhNmEzY2VlODJlNjgxY2YzIiBzdHlsZT0id2lkdGg6IDEwMC4wJTsgaGVpZ2h0OiAxMDAuMCU7Ij5Zb3JrdmlsbGUgQ2x1c3RlciAxPC9kaXY+YClbMF07CiAgICAgICAgICAgIHBvcHVwX2ZhMjBkYjZlNGYxZTRkZDA5NmEzOTBjYjMzZTk3OWRjLnNldENvbnRlbnQoaHRtbF85MzYyOTU5NTA4YmI0MjNkYTZhM2NlZTgyZTY4MWNmMyk7CiAgICAgICAgCgogICAgICAgIGNpcmNsZV9tYXJrZXJfMGQwYzBiY2NhNzUwNGVmYjg2NWQ0NGU5ZDkxNmZmOGYuYmluZFBvcHVwKHBvcHVwX2ZhMjBkYjZlNGYxZTRkZDA5NmEzOTBjYjMzZTk3OWRjKQogICAgICAgIDsKCiAgICAgICAgCiAgICAKICAgIAogICAgICAgICAgICB2YXIgY2lyY2xlX21hcmtlcl8wYWNmY2M1MDIxZDU0ZTEzYTQyY2E4OWVjMjUwYTYyZSA9IEwuY2lyY2xlTWFya2VyKAogICAgICAgICAgICAgICAgWzQwLjc2ODExMjY1ODI4NzMzLCAtNzMuOTU4ODU5Njg4MTM3Nl0sCiAgICAgICAgICAgICAgICB7ImJ1YmJsaW5nTW91c2VFdmVudHMiOiB0cnVlLCAiY29sb3IiOiAiIzgwMDBmZiIsICJkYXNoQXJyYXkiOiBudWxsLCAiZGFzaE9mZnNldCI6IG51bGwsICJmaWxsIjogdHJ1ZSwgImZpbGxDb2xvciI6ICIjODAwMGZmIiwgImZpbGxPcGFjaXR5IjogMC43LCAiZmlsbFJ1bGUiOiAiZXZlbm9kZCIsICJsaW5lQ2FwIjogInJvdW5kIiwgImxpbmVKb2luIjogInJvdW5kIiwgIm9wYWNpdHkiOiAxLjAsICJyYWRpdXMiOiA1LCAic3Ryb2tlIjogdHJ1ZSwgIndlaWdodCI6IDN9CiAgICAgICAgICAgICkuYWRkVG8obWFwXzZhYzAyMjBhNjhmMjQxYzhhYWJkYmQ5M2FmMzgzYjhhKTsKICAgICAgICAKICAgIAogICAgICAgIHZhciBwb3B1cF9lZGM5YjhhY2MxNzY0N2U3YjMzZTQ5ODQ1M2M3NzUxNSA9IEwucG9wdXAoeyJtYXhXaWR0aCI6ICIxMDAlIn0pOwoKICAgICAgICAKICAgICAgICAgICAgdmFyIGh0bWxfNDQ5YTgyNzgwMDNmNDQ3NDk1ODExYzljZWYyMjQ2ODMgPSAkKGA8ZGl2IGlkPSJodG1sXzQ0OWE4Mjc4MDAzZjQ0NzQ5NTgxMWM5Y2VmMjI0NjgzIiBzdHlsZT0id2lkdGg6IDEwMC4wJTsgaGVpZ2h0OiAxMDAuMCU7Ij5MZW5veCBIaWxsIENsdXN0ZXIgMTwvZGl2PmApWzBdOwogICAgICAgICAgICBwb3B1cF9lZGM5YjhhY2MxNzY0N2U3YjMzZTQ5ODQ1M2M3NzUxNS5zZXRDb250ZW50KGh0bWxfNDQ5YTgyNzgwMDNmNDQ3NDk1ODExYzljZWYyMjQ2ODMpOwogICAgICAgIAoKICAgICAgICBjaXJjbGVfbWFya2VyXzBhY2ZjYzUwMjFkNTRlMTNhNDJjYTg5ZWMyNTBhNjJlLmJpbmRQb3B1cChwb3B1cF9lZGM5YjhhY2MxNzY0N2U3YjMzZTQ5ODQ1M2M3NzUxNSkKICAgICAgICA7CgogICAgICAgIAogICAgCiAgICAKICAgICAgICAgICAgdmFyIGNpcmNsZV9tYXJrZXJfNDcxNzA1MzRlMDQ3NDc4Yzg3NTUzMGNjMGY0OGYxODggPSBMLmNpcmNsZU1hcmtlcigKICAgICAgICAgICAgICAgIFs0MC43NjIxNTk2MDU3NjI4MywgLTczLjk0OTE2NzY5MjI3OTUzXSwKICAgICAgICAgICAgICAgIHsiYnViYmxpbmdNb3VzZUV2ZW50cyI6IHRydWUsICJjb2xvciI6ICIjMDBiNWViIiwgImRhc2hBcnJheSI6IG51bGwsICJkYXNoT2Zmc2V0IjogbnVsbCwgImZpbGwiOiB0cnVlLCAiZmlsbENvbG9yIjogIiMwMGI1ZWIiLCAiZmlsbE9wYWNpdHkiOiAwLjcsICJmaWxsUnVsZSI6ICJldmVub2RkIiwgImxpbmVDYXAiOiAicm91bmQiLCAibGluZUpvaW4iOiAicm91bmQiLCAib3BhY2l0eSI6IDEuMCwgInJhZGl1cyI6IDUsICJzdHJva2UiOiB0cnVlLCAid2VpZ2h0IjogM30KICAgICAgICAgICAgKS5hZGRUbyhtYXBfNmFjMDIyMGE2OGYyNDFjOGFhYmRiZDkzYWYzODNiOGEpOwogICAgICAgIAogICAgCiAgICAgICAgdmFyIHBvcHVwXzk1NmNkNGY3YWZhNDQ2ZDViYWY1OGI0MmM3MTkwMTRmID0gTC5wb3B1cCh7Im1heFdpZHRoIjogIjEwMCUifSk7CgogICAgICAgIAogICAgICAgICAgICB2YXIgaHRtbF9iMzc3OTdlYTJiNGU0YzEwOTMyYTg3NTU5OGY2MDRhNiA9ICQoYDxkaXYgaWQ9Imh0bWxfYjM3Nzk3ZWEyYjRlNGMxMDkzMmE4NzU1OThmNjA0YTYiIHN0eWxlPSJ3aWR0aDogMTAwLjAlOyBoZWlnaHQ6IDEwMC4wJTsiPlJvb3NldmVsdCBJc2xhbmQgQ2x1c3RlciAyPC9kaXY+YClbMF07CiAgICAgICAgICAgIHBvcHVwXzk1NmNkNGY3YWZhNDQ2ZDViYWY1OGI0MmM3MTkwMTRmLnNldENvbnRlbnQoaHRtbF9iMzc3OTdlYTJiNGU0YzEwOTMyYTg3NTU5OGY2MDRhNik7CiAgICAgICAgCgogICAgICAgIGNpcmNsZV9tYXJrZXJfNDcxNzA1MzRlMDQ3NDc4Yzg3NTUzMGNjMGY0OGYxODguYmluZFBvcHVwKHBvcHVwXzk1NmNkNGY3YWZhNDQ2ZDViYWY1OGI0MmM3MTkwMTRmKQogICAgICAgIDsKCiAgICAgICAgCiAgICAKICAgIAogICAgICAgICAgICB2YXIgY2lyY2xlX21hcmtlcl85ZDYwMWNlYjA1MzA0ODgxYThkYTg1MjM3ZDE4YjFjMSA9IEwuY2lyY2xlTWFya2VyKAogICAgICAgICAgICAgICAgWzQwLjc4NzY1Nzk5ODUzNDg1NCwgLTczLjk3NzA1OTIzNjMwNjAzXSwKICAgICAgICAgICAgICAgIHsiYnViYmxpbmdNb3VzZUV2ZW50cyI6IHRydWUsICJjb2xvciI6ICIjODAwMGZmIiwgImRhc2hBcnJheSI6IG51bGwsICJkYXNoT2Zmc2V0IjogbnVsbCwgImZpbGwiOiB0cnVlLCAiZmlsbENvbG9yIjogIiM4MDAwZmYiLCAiZmlsbE9wYWNpdHkiOiAwLjcsICJmaWxsUnVsZSI6ICJldmVub2RkIiwgImxpbmVDYXAiOiAicm91bmQiLCAibGluZUpvaW4iOiAicm91bmQiLCAib3BhY2l0eSI6IDEuMCwgInJhZGl1cyI6IDUsICJzdHJva2UiOiB0cnVlLCAid2VpZ2h0IjogM30KICAgICAgICAgICAgKS5hZGRUbyhtYXBfNmFjMDIyMGE2OGYyNDFjOGFhYmRiZDkzYWYzODNiOGEpOwogICAgICAgIAogICAgCiAgICAgICAgdmFyIHBvcHVwX2JmZTY4NGEwZjI4MTQ2ZTBhOTg0YjRmNGU4ODIxMTExID0gTC5wb3B1cCh7Im1heFdpZHRoIjogIjEwMCUifSk7CgogICAgICAgIAogICAgICAgICAgICB2YXIgaHRtbF84YThiZDA4MjZhMmI0NjZlODVmZmVmOWI0NTI5MjZhZiA9ICQoYDxkaXYgaWQ9Imh0bWxfOGE4YmQwODI2YTJiNDY2ZTg1ZmZlZjliNDUyOTI2YWYiIHN0eWxlPSJ3aWR0aDogMTAwLjAlOyBoZWlnaHQ6IDEwMC4wJTsiPlVwcGVyIFdlc3QgU2lkZSBDbHVzdGVyIDE8L2Rpdj5gKVswXTsKICAgICAgICAgICAgcG9wdXBfYmZlNjg0YTBmMjgxNDZlMGE5ODRiNGY0ZTg4MjExMTEuc2V0Q29udGVudChodG1sXzhhOGJkMDgyNmEyYjQ2NmU4NWZmZWY5YjQ1MjkyNmFmKTsKICAgICAgICAKCiAgICAgICAgY2lyY2xlX21hcmtlcl85ZDYwMWNlYjA1MzA0ODgxYThkYTg1MjM3ZDE4YjFjMS5iaW5kUG9wdXAocG9wdXBfYmZlNjg0YTBmMjgxNDZlMGE5ODRiNGY0ZTg4MjExMTEpCiAgICAgICAgOwoKICAgICAgICAKICAgIAogICAgCiAgICAgICAgICAgIHZhciBjaXJjbGVfbWFya2VyXzRmMzQyOTkzYzRlMDQ0ZTc5MWVlZDBmMmY3OTA5MWU5ID0gTC5jaXJjbGVNYXJrZXIoCiAgICAgICAgICAgICAgICBbNDAuNzczNTI4ODg5NDIxNjYsIC03My45ODUzMzc3NzAwMTI2Ml0sCiAgICAgICAgICAgICAgICB7ImJ1YmJsaW5nTW91c2VFdmVudHMiOiB0cnVlLCAiY29sb3IiOiAiI2ZmMDAwMCIsICJkYXNoQXJyYXkiOiBudWxsLCAiZGFzaE9mZnNldCI6IG51bGwsICJmaWxsIjogdHJ1ZSwgImZpbGxDb2xvciI6ICIjZmYwMDAwIiwgImZpbGxPcGFjaXR5IjogMC43LCAiZmlsbFJ1bGUiOiAiZXZlbm9kZCIsICJsaW5lQ2FwIjogInJvdW5kIiwgImxpbmVKb2luIjogInJvdW5kIiwgIm9wYWNpdHkiOiAxLjAsICJyYWRpdXMiOiA1LCAic3Ryb2tlIjogdHJ1ZSwgIndlaWdodCI6IDN9CiAgICAgICAgICAgICkuYWRkVG8obWFwXzZhYzAyMjBhNjhmMjQxYzhhYWJkYmQ5M2FmMzgzYjhhKTsKICAgICAgICAKICAgIAogICAgICAgIHZhciBwb3B1cF84MmQ4YjkyYzhjMzk0OGNiOWMyOTNiMzY2OGRiMmVlNCA9IEwucG9wdXAoeyJtYXhXaWR0aCI6ICIxMDAlIn0pOwoKICAgICAgICAKICAgICAgICAgICAgdmFyIGh0bWxfNGI0OTQ0MjcxNWViNDM4MzlkZjQwNDg5NmEwZGZjYzYgPSAkKGA8ZGl2IGlkPSJodG1sXzRiNDk0NDI3MTVlYjQzODM5ZGY0MDQ4OTZhMGRmY2M2IiBzdHlsZT0id2lkdGg6IDEwMC4wJTsgaGVpZ2h0OiAxMDAuMCU7Ij5MaW5jb2xuIFNxdWFyZSBDbHVzdGVyIDA8L2Rpdj5gKVswXTsKICAgICAgICAgICAgcG9wdXBfODJkOGI5MmM4YzM5NDhjYjljMjkzYjM2NjhkYjJlZTQuc2V0Q29udGVudChodG1sXzRiNDk0NDI3MTVlYjQzODM5ZGY0MDQ4OTZhMGRmY2M2KTsKICAgICAgICAKCiAgICAgICAgY2lyY2xlX21hcmtlcl80ZjM0Mjk5M2M0ZTA0NGU3OTFlZWQwZjJmNzkwOTFlOS5iaW5kUG9wdXAocG9wdXBfODJkOGI5MmM4YzM5NDhjYjljMjkzYjM2NjhkYjJlZTQpCiAgICAgICAgOwoKICAgICAgICAKICAgIAogICAgCiAgICAgICAgICAgIHZhciBjaXJjbGVfbWFya2VyX2FjZWQwYzAwNGQ1YzQxY2NhZjY1N2I4YjYxZDc2YzU2ID0gTC5jaXJjbGVNYXJrZXIoCiAgICAgICAgICAgICAgICBbNDAuNzU5MTAwODkxNDYyMTIsIC03My45OTYxMTkzNjMwOTQ3OV0sCiAgICAgICAgICAgICAgICB7ImJ1YmJsaW5nTW91c2VFdmVudHMiOiB0cnVlLCAiY29sb3IiOiAiIzgwMDBmZiIsICJkYXNoQXJyYXkiOiBudWxsLCAiZGFzaE9mZnNldCI6IG51bGwsICJmaWxsIjogdHJ1ZSwgImZpbGxDb2xvciI6ICIjODAwMGZmIiwgImZpbGxPcGFjaXR5IjogMC43LCAiZmlsbFJ1bGUiOiAiZXZlbm9kZCIsICJsaW5lQ2FwIjogInJvdW5kIiwgImxpbmVKb2luIjogInJvdW5kIiwgIm9wYWNpdHkiOiAxLjAsICJyYWRpdXMiOiA1LCAic3Ryb2tlIjogdHJ1ZSwgIndlaWdodCI6IDN9CiAgICAgICAgICAgICkuYWRkVG8obWFwXzZhYzAyMjBhNjhmMjQxYzhhYWJkYmQ5M2FmMzgzYjhhKTsKICAgICAgICAKICAgIAogICAgICAgIHZhciBwb3B1cF83MzdmODg0NDM5NWY0OThmYWYyZjVjMzJmMWZmNjU5YSA9IEwucG9wdXAoeyJtYXhXaWR0aCI6ICIxMDAlIn0pOwoKICAgICAgICAKICAgICAgICAgICAgdmFyIGh0bWxfMTJhYWYxZjczY2JiNGMzYWI4MDY4MGM5NWU4MWI3NGUgPSAkKGA8ZGl2IGlkPSJodG1sXzEyYWFmMWY3M2NiYjRjM2FiODA2ODBjOTVlODFiNzRlIiBzdHlsZT0id2lkdGg6IDEwMC4wJTsgaGVpZ2h0OiAxMDAuMCU7Ij5DbGludG9uIENsdXN0ZXIgMTwvZGl2PmApWzBdOwogICAgICAgICAgICBwb3B1cF83MzdmODg0NDM5NWY0OThmYWYyZjVjMzJmMWZmNjU5YS5zZXRDb250ZW50KGh0bWxfMTJhYWYxZjczY2JiNGMzYWI4MDY4MGM5NWU4MWI3NGUpOwogICAgICAgIAoKICAgICAgICBjaXJjbGVfbWFya2VyX2FjZWQwYzAwNGQ1YzQxY2NhZjY1N2I4YjYxZDc2YzU2LmJpbmRQb3B1cChwb3B1cF83MzdmODg0NDM5NWY0OThmYWYyZjVjMzJmMWZmNjU5YSkKICAgICAgICA7CgogICAgICAgIAogICAgCiAgICAKICAgICAgICAgICAgdmFyIGNpcmNsZV9tYXJrZXJfYjU1OGMzMzg4NDk4NGYwYzlmMzc0ZDMyODFmMDc3ZWMgPSBMLmNpcmNsZU1hcmtlcigKICAgICAgICAgICAgICAgIFs0MC43NTQ2OTExMDI3MDYyMywgLTczLjk4MTY2ODgyNzMwMzA0XSwKICAgICAgICAgICAgICAgIHsiYnViYmxpbmdNb3VzZUV2ZW50cyI6IHRydWUsICJjb2xvciI6ICIjODAwMGZmIiwgImRhc2hBcnJheSI6IG51bGwsICJkYXNoT2Zmc2V0IjogbnVsbCwgImZpbGwiOiB0cnVlLCAiZmlsbENvbG9yIjogIiM4MDAwZmYiLCAiZmlsbE9wYWNpdHkiOiAwLjcsICJmaWxsUnVsZSI6ICJldmVub2RkIiwgImxpbmVDYXAiOiAicm91bmQiLCAibGluZUpvaW4iOiAicm91bmQiLCAib3BhY2l0eSI6IDEuMCwgInJhZGl1cyI6IDUsICJzdHJva2UiOiB0cnVlLCAid2VpZ2h0IjogM30KICAgICAgICAgICAgKS5hZGRUbyhtYXBfNmFjMDIyMGE2OGYyNDFjOGFhYmRiZDkzYWYzODNiOGEpOwogICAgICAgIAogICAgCiAgICAgICAgdmFyIHBvcHVwX2ZmYWY1ZGNiZTY1ZjQ0NzdiNDdkYWIyMDFiZjk0ODczID0gTC5wb3B1cCh7Im1heFdpZHRoIjogIjEwMCUifSk7CgogICAgICAgIAogICAgICAgICAgICB2YXIgaHRtbF81MDhiZDBlZmUwMDQ0NWFmOWYyNDVlOTE0MjUxMzA2MiA9ICQoYDxkaXYgaWQ9Imh0bWxfNTA4YmQwZWZlMDA0NDVhZjlmMjQ1ZTkxNDI1MTMwNjIiIHN0eWxlPSJ3aWR0aDogMTAwLjAlOyBoZWlnaHQ6IDEwMC4wJTsiPk1pZHRvd24gQ2x1c3RlciAxPC9kaXY+YClbMF07CiAgICAgICAgICAgIHBvcHVwX2ZmYWY1ZGNiZTY1ZjQ0NzdiNDdkYWIyMDFiZjk0ODczLnNldENvbnRlbnQoaHRtbF81MDhiZDBlZmUwMDQ0NWFmOWYyNDVlOTE0MjUxMzA2Mik7CiAgICAgICAgCgogICAgICAgIGNpcmNsZV9tYXJrZXJfYjU1OGMzMzg4NDk4NGYwYzlmMzc0ZDMyODFmMDc3ZWMuYmluZFBvcHVwKHBvcHVwX2ZmYWY1ZGNiZTY1ZjQ0NzdiNDdkYWIyMDFiZjk0ODczKQogICAgICAgIDsKCiAgICAgICAgCiAgICAKICAgIAogICAgICAgICAgICB2YXIgY2lyY2xlX21hcmtlcl8xM2JmZmE1OTQ4MWY0NGJiOWNkZTIwMzQ1MDE5YmU3MSA9IEwuY2lyY2xlTWFya2VyKAogICAgICAgICAgICAgICAgWzQwLjc0ODMwMzA3NzI1MjE3NCwgLTczLjk3ODMzMjA3OTI0MTI3XSwKICAgICAgICAgICAgICAgIHsiYnViYmxpbmdNb3VzZUV2ZW50cyI6IHRydWUsICJjb2xvciI6ICIjMDBiNWViIiwgImRhc2hBcnJheSI6IG51bGwsICJkYXNoT2Zmc2V0IjogbnVsbCwgImZpbGwiOiB0cnVlLCAiZmlsbENvbG9yIjogIiMwMGI1ZWIiLCAiZmlsbE9wYWNpdHkiOiAwLjcsICJmaWxsUnVsZSI6ICJldmVub2RkIiwgImxpbmVDYXAiOiAicm91bmQiLCAibGluZUpvaW4iOiAicm91bmQiLCAib3BhY2l0eSI6IDEuMCwgInJhZGl1cyI6IDUsICJzdHJva2UiOiB0cnVlLCAid2VpZ2h0IjogM30KICAgICAgICAgICAgKS5hZGRUbyhtYXBfNmFjMDIyMGE2OGYyNDFjOGFhYmRiZDkzYWYzODNiOGEpOwogICAgICAgIAogICAgCiAgICAgICAgdmFyIHBvcHVwXzI4ZDQ0ZDA2NDViNjQ3MzFhNjQwNjIzZmJjMTM4MWJkID0gTC5wb3B1cCh7Im1heFdpZHRoIjogIjEwMCUifSk7CgogICAgICAgIAogICAgICAgICAgICB2YXIgaHRtbF9hMDlkNmZhMTM4N2M0MDBmOThmYjM1OGM5YWQ5YTRjYiA9ICQoYDxkaXYgaWQ9Imh0bWxfYTA5ZDZmYTEzODdjNDAwZjk4ZmIzNThjOWFkOWE0Y2IiIHN0eWxlPSJ3aWR0aDogMTAwLjAlOyBoZWlnaHQ6IDEwMC4wJTsiPk11cnJheSBIaWxsIENsdXN0ZXIgMjwvZGl2PmApWzBdOwogICAgICAgICAgICBwb3B1cF8yOGQ0NGQwNjQ1YjY0NzMxYTY0MDYyM2ZiYzEzODFiZC5zZXRDb250ZW50KGh0bWxfYTA5ZDZmYTEzODdjNDAwZjk4ZmIzNThjOWFkOWE0Y2IpOwogICAgICAgIAoKICAgICAgICBjaXJjbGVfbWFya2VyXzEzYmZmYTU5NDgxZjQ0YmI5Y2RlMjAzNDUwMTliZTcxLmJpbmRQb3B1cChwb3B1cF8yOGQ0NGQwNjQ1YjY0NzMxYTY0MDYyM2ZiYzEzODFiZCkKICAgICAgICA7CgogICAgICAgIAogICAgCiAgICAKICAgICAgICAgICAgdmFyIGNpcmNsZV9tYXJrZXJfZTgxYmNlYmM0YTk4NGY1MmIxNDliNjBhMzViNWM0MTAgPSBMLmNpcmNsZU1hcmtlcigKICAgICAgICAgICAgICAgIFs0MC43NDQwMzQ3MDY3NDc5NzUsIC03NC4wMDMxMTYzMzQ3MjgxM10sCiAgICAgICAgICAgICAgICB7ImJ1YmJsaW5nTW91c2VFdmVudHMiOiB0cnVlLCAiY29sb3IiOiAiIzgwMDBmZiIsICJkYXNoQXJyYXkiOiBudWxsLCAiZGFzaE9mZnNldCI6IG51bGwsICJmaWxsIjogdHJ1ZSwgImZpbGxDb2xvciI6ICIjODAwMGZmIiwgImZpbGxPcGFjaXR5IjogMC43LCAiZmlsbFJ1bGUiOiAiZXZlbm9kZCIsICJsaW5lQ2FwIjogInJvdW5kIiwgImxpbmVKb2luIjogInJvdW5kIiwgIm9wYWNpdHkiOiAxLjAsICJyYWRpdXMiOiA1LCAic3Ryb2tlIjogdHJ1ZSwgIndlaWdodCI6IDN9CiAgICAgICAgICAgICkuYWRkVG8obWFwXzZhYzAyMjBhNjhmMjQxYzhhYWJkYmQ5M2FmMzgzYjhhKTsKICAgICAgICAKICAgIAogICAgICAgIHZhciBwb3B1cF84YTMwMGY5ZDA0Njc0YTg3ODhiZDY2YzExMGY1MThlMyA9IEwucG9wdXAoeyJtYXhXaWR0aCI6ICIxMDAlIn0pOwoKICAgICAgICAKICAgICAgICAgICAgdmFyIGh0bWxfNTViYTA1ZmUzMDg0NDVjMDgzYWU3OWUyYjEyYzQzMTggPSAkKGA8ZGl2IGlkPSJodG1sXzU1YmEwNWZlMzA4NDQ1YzA4M2FlNzllMmIxMmM0MzE4IiBzdHlsZT0id2lkdGg6IDEwMC4wJTsgaGVpZ2h0OiAxMDAuMCU7Ij5DaGVsc2VhIENsdXN0ZXIgMTwvZGl2PmApWzBdOwogICAgICAgICAgICBwb3B1cF84YTMwMGY5ZDA0Njc0YTg3ODhiZDY2YzExMGY1MThlMy5zZXRDb250ZW50KGh0bWxfNTViYTA1ZmUzMDg0NDVjMDgzYWU3OWUyYjEyYzQzMTgpOwogICAgICAgIAoKICAgICAgICBjaXJjbGVfbWFya2VyX2U4MWJjZWJjNGE5ODRmNTJiMTQ5YjYwYTM1YjVjNDEwLmJpbmRQb3B1cChwb3B1cF84YTMwMGY5ZDA0Njc0YTg3ODhiZDY2YzExMGY1MThlMykKICAgICAgICA7CgogICAgICAgIAogICAgCiAgICAKICAgICAgICAgICAgdmFyIGNpcmNsZV9tYXJrZXJfNDkxM2QwZmE3OTk1NGQyZDgzZjE1MjZlYWZhOGMzNTAgPSBMLmNpcmNsZU1hcmtlcigKICAgICAgICAgICAgICAgIFs0MC43MjY5MzI4ODUzNjEyOCwgLTczLjk5OTkxNDAyOTQ1OTAyXSwKICAgICAgICAgICAgICAgIHsiYnViYmxpbmdNb3VzZUV2ZW50cyI6IHRydWUsICJjb2xvciI6ICIjODAwMGZmIiwgImRhc2hBcnJheSI6IG51bGwsICJkYXNoT2Zmc2V0IjogbnVsbCwgImZpbGwiOiB0cnVlLCAiZmlsbENvbG9yIjogIiM4MDAwZmYiLCAiZmlsbE9wYWNpdHkiOiAwLjcsICJmaWxsUnVsZSI6ICJldmVub2RkIiwgImxpbmVDYXAiOiAicm91bmQiLCAibGluZUpvaW4iOiAicm91bmQiLCAib3BhY2l0eSI6IDEuMCwgInJhZGl1cyI6IDUsICJzdHJva2UiOiB0cnVlLCAid2VpZ2h0IjogM30KICAgICAgICAgICAgKS5hZGRUbyhtYXBfNmFjMDIyMGE2OGYyNDFjOGFhYmRiZDkzYWYzODNiOGEpOwogICAgICAgIAogICAgCiAgICAgICAgdmFyIHBvcHVwX2VkZTNkM2M3NGU5YzRiZGE5NDRkNTQ1NjNhOWIwMDYyID0gTC5wb3B1cCh7Im1heFdpZHRoIjogIjEwMCUifSk7CgogICAgICAgIAogICAgICAgICAgICB2YXIgaHRtbF82NGRlOWE2MGE5NzE0OWY2OGFhMDI4YzA3MTRmYjFiNiA9ICQoYDxkaXYgaWQ9Imh0bWxfNjRkZTlhNjBhOTcxNDlmNjhhYTAyOGMwNzE0ZmIxYjYiIHN0eWxlPSJ3aWR0aDogMTAwLjAlOyBoZWlnaHQ6IDEwMC4wJTsiPkdyZWVud2ljaCBWaWxsYWdlIENsdXN0ZXIgMTwvZGl2PmApWzBdOwogICAgICAgICAgICBwb3B1cF9lZGUzZDNjNzRlOWM0YmRhOTQ0ZDU0NTYzYTliMDA2Mi5zZXRDb250ZW50KGh0bWxfNjRkZTlhNjBhOTcxNDlmNjhhYTAyOGMwNzE0ZmIxYjYpOwogICAgICAgIAoKICAgICAgICBjaXJjbGVfbWFya2VyXzQ5MTNkMGZhNzk5NTRkMmQ4M2YxNTI2ZWFmYThjMzUwLmJpbmRQb3B1cChwb3B1cF9lZGUzZDNjNzRlOWM0YmRhOTQ0ZDU0NTYzYTliMDA2MikKICAgICAgICA7CgogICAgICAgIAogICAgCiAgICAKICAgICAgICAgICAgdmFyIGNpcmNsZV9tYXJrZXJfOTVmMzU0ZDUyNGY0NDY0Y2EyN2ZjNjdjYmM4YTRmY2QgPSBMLmNpcmNsZU1hcmtlcigKICAgICAgICAgICAgICAgIFs0MC43Mjc4NDY3NzcyNzAyNDQsIC03My45ODIyMjYxNjUwNjQxNl0sCiAgICAgICAgICAgICAgICB7ImJ1YmJsaW5nTW91c2VFdmVudHMiOiB0cnVlLCAiY29sb3IiOiAiIzgwMDBmZiIsICJkYXNoQXJyYXkiOiBudWxsLCAiZGFzaE9mZnNldCI6IG51bGwsICJmaWxsIjogdHJ1ZSwgImZpbGxDb2xvciI6ICIjODAwMGZmIiwgImZpbGxPcGFjaXR5IjogMC43LCAiZmlsbFJ1bGUiOiAiZXZlbm9kZCIsICJsaW5lQ2FwIjogInJvdW5kIiwgImxpbmVKb2luIjogInJvdW5kIiwgIm9wYWNpdHkiOiAxLjAsICJyYWRpdXMiOiA1LCAic3Ryb2tlIjogdHJ1ZSwgIndlaWdodCI6IDN9CiAgICAgICAgICAgICkuYWRkVG8obWFwXzZhYzAyMjBhNjhmMjQxYzhhYWJkYmQ5M2FmMzgzYjhhKTsKICAgICAgICAKICAgIAogICAgICAgIHZhciBwb3B1cF81YzFkOTI2YmRlODQ0YjcyYTFhZTQ2NDEyN2RmOGViZCA9IEwucG9wdXAoeyJtYXhXaWR0aCI6ICIxMDAlIn0pOwoKICAgICAgICAKICAgICAgICAgICAgdmFyIGh0bWxfODdjY2VhMjY1YzdiNDlhZjk5MDI3OGMwYjkxZTE4YTEgPSAkKGA8ZGl2IGlkPSJodG1sXzg3Y2NlYTI2NWM3YjQ5YWY5OTAyNzhjMGI5MWUxOGExIiBzdHlsZT0id2lkdGg6IDEwMC4wJTsgaGVpZ2h0OiAxMDAuMCU7Ij5FYXN0IFZpbGxhZ2UgQ2x1c3RlciAxPC9kaXY+YClbMF07CiAgICAgICAgICAgIHBvcHVwXzVjMWQ5MjZiZGU4NDRiNzJhMWFlNDY0MTI3ZGY4ZWJkLnNldENvbnRlbnQoaHRtbF84N2NjZWEyNjVjN2I0OWFmOTkwMjc4YzBiOTFlMThhMSk7CiAgICAgICAgCgogICAgICAgIGNpcmNsZV9tYXJrZXJfOTVmMzU0ZDUyNGY0NDY0Y2EyN2ZjNjdjYmM4YTRmY2QuYmluZFBvcHVwKHBvcHVwXzVjMWQ5MjZiZGU4NDRiNzJhMWFlNDY0MTI3ZGY4ZWJkKQogICAgICAgIDsKCiAgICAgICAgCiAgICAKICAgIAogICAgICAgICAgICB2YXIgY2lyY2xlX21hcmtlcl84NDYzZTViZmFkYmM0N2Y4YTU3MmNhNjBmOWIxM2ZmYiA9IEwuY2lyY2xlTWFya2VyKAogICAgICAgICAgICAgICAgWzQwLjcxNzgwNjc0ODkyNzY1LCAtNzMuOTgwODkwMzE5OTkyOTFdLAogICAgICAgICAgICAgICAgeyJidWJibGluZ01vdXNlRXZlbnRzIjogdHJ1ZSwgImNvbG9yIjogIiNmZmIzNjAiLCAiZGFzaEFycmF5IjogbnVsbCwgImRhc2hPZmZzZXQiOiBudWxsLCAiZmlsbCI6IHRydWUsICJmaWxsQ29sb3IiOiAiI2ZmYjM2MCIsICJmaWxsT3BhY2l0eSI6IDAuNywgImZpbGxSdWxlIjogImV2ZW5vZGQiLCAibGluZUNhcCI6ICJyb3VuZCIsICJsaW5lSm9pbiI6ICJyb3VuZCIsICJvcGFjaXR5IjogMS4wLCAicmFkaXVzIjogNSwgInN0cm9rZSI6IHRydWUsICJ3ZWlnaHQiOiAzfQogICAgICAgICAgICApLmFkZFRvKG1hcF82YWMwMjIwYTY4ZjI0MWM4YWFiZGJkOTNhZjM4M2I4YSk7CiAgICAgICAgCiAgICAKICAgICAgICB2YXIgcG9wdXBfZjkwMzJkMGUzNjMxNGE0ZmFhZDhjM2RhZjg0MzJiMWEgPSBMLnBvcHVwKHsibWF4V2lkdGgiOiAiMTAwJSJ9KTsKCiAgICAgICAgCiAgICAgICAgICAgIHZhciBodG1sXzVkMWNkNzZiZWE4ODQxMmFhMDEzZjZhYmJjMWY3NDgxID0gJChgPGRpdiBpZD0iaHRtbF81ZDFjZDc2YmVhODg0MTJhYTAxM2Y2YWJiYzFmNzQ4MSIgc3R5bGU9IndpZHRoOiAxMDAuMCU7IGhlaWdodDogMTAwLjAlOyI+TG93ZXIgRWFzdCBTaWRlIENsdXN0ZXIgNDwvZGl2PmApWzBdOwogICAgICAgICAgICBwb3B1cF9mOTAzMmQwZTM2MzE0YTRmYWFkOGMzZGFmODQzMmIxYS5zZXRDb250ZW50KGh0bWxfNWQxY2Q3NmJlYTg4NDEyYWEwMTNmNmFiYmMxZjc0ODEpOwogICAgICAgIAoKICAgICAgICBjaXJjbGVfbWFya2VyXzg0NjNlNWJmYWRiYzQ3ZjhhNTcyY2E2MGY5YjEzZmZiLmJpbmRQb3B1cChwb3B1cF9mOTAzMmQwZTM2MzE0YTRmYWFkOGMzZGFmODQzMmIxYSkKICAgICAgICA7CgogICAgICAgIAogICAgCiAgICAKICAgICAgICAgICAgdmFyIGNpcmNsZV9tYXJrZXJfYThjZmExZDNlNmUyNDFjN2E2ODk2M2JjNjc0ZTU2OTEgPSBMLmNpcmNsZU1hcmtlcigKICAgICAgICAgICAgICAgIFs0MC43MjE1MjE5Njc0NDMyMTYsIC03NC4wMTA2ODMyODU1OTA4N10sCiAgICAgICAgICAgICAgICB7ImJ1YmJsaW5nTW91c2VFdmVudHMiOiB0cnVlLCAiY29sb3IiOiAiIzgwMDBmZiIsICJkYXNoQXJyYXkiOiBudWxsLCAiZGFzaE9mZnNldCI6IG51bGwsICJmaWxsIjogdHJ1ZSwgImZpbGxDb2xvciI6ICIjODAwMGZmIiwgImZpbGxPcGFjaXR5IjogMC43LCAiZmlsbFJ1bGUiOiAiZXZlbm9kZCIsICJsaW5lQ2FwIjogInJvdW5kIiwgImxpbmVKb2luIjogInJvdW5kIiwgIm9wYWNpdHkiOiAxLjAsICJyYWRpdXMiOiA1LCAic3Ryb2tlIjogdHJ1ZSwgIndlaWdodCI6IDN9CiAgICAgICAgICAgICkuYWRkVG8obWFwXzZhYzAyMjBhNjhmMjQxYzhhYWJkYmQ5M2FmMzgzYjhhKTsKICAgICAgICAKICAgIAogICAgICAgIHZhciBwb3B1cF8yZmE3MTJjYTk4MDk0YTkzOGMwMjczNzg2YTE3OTEyMiA9IEwucG9wdXAoeyJtYXhXaWR0aCI6ICIxMDAlIn0pOwoKICAgICAgICAKICAgICAgICAgICAgdmFyIGh0bWxfZmQxMzIxOTY1NzQ5NDU0YzhkMTQ1MzBmNjIyMmEwZDIgPSAkKGA8ZGl2IGlkPSJodG1sX2ZkMTMyMTk2NTc0OTQ1NGM4ZDE0NTMwZjYyMjJhMGQyIiBzdHlsZT0id2lkdGg6IDEwMC4wJTsgaGVpZ2h0OiAxMDAuMCU7Ij5UcmliZWNhIENsdXN0ZXIgMTwvZGl2PmApWzBdOwogICAgICAgICAgICBwb3B1cF8yZmE3MTJjYTk4MDk0YTkzOGMwMjczNzg2YTE3OTEyMi5zZXRDb250ZW50KGh0bWxfZmQxMzIxOTY1NzQ5NDU0YzhkMTQ1MzBmNjIyMmEwZDIpOwogICAgICAgIAoKICAgICAgICBjaXJjbGVfbWFya2VyX2E4Y2ZhMWQzZTZlMjQxYzdhNjg5NjNiYzY3NGU1NjkxLmJpbmRQb3B1cChwb3B1cF8yZmE3MTJjYTk4MDk0YTkzOGMwMjczNzg2YTE3OTEyMikKICAgICAgICA7CgogICAgICAgIAogICAgCiAgICAKICAgICAgICAgICAgdmFyIGNpcmNsZV9tYXJrZXJfMWIwMzkyMzY1MmI1NDIyNGE3Njg0ZDI2YzFmMmI2ODUgPSBMLmNpcmNsZU1hcmtlcigKICAgICAgICAgICAgICAgIFs0MC43MTkzMjM3OTM5NTkwNywgLTczLjk5NzMwNDY3MjA4MDczXSwKICAgICAgICAgICAgICAgIHsiYnViYmxpbmdNb3VzZUV2ZW50cyI6IHRydWUsICJjb2xvciI6ICIjODAwMGZmIiwgImRhc2hBcnJheSI6IG51bGwsICJkYXNoT2Zmc2V0IjogbnVsbCwgImZpbGwiOiB0cnVlLCAiZmlsbENvbG9yIjogIiM4MDAwZmYiLCAiZmlsbE9wYWNpdHkiOiAwLjcsICJmaWxsUnVsZSI6ICJldmVub2RkIiwgImxpbmVDYXAiOiAicm91bmQiLCAibGluZUpvaW4iOiAicm91bmQiLCAib3BhY2l0eSI6IDEuMCwgInJhZGl1cyI6IDUsICJzdHJva2UiOiB0cnVlLCAid2VpZ2h0IjogM30KICAgICAgICAgICAgKS5hZGRUbyhtYXBfNmFjMDIyMGE2OGYyNDFjOGFhYmRiZDkzYWYzODNiOGEpOwogICAgICAgIAogICAgCiAgICAgICAgdmFyIHBvcHVwXzNmNjQ3OTc2ZTQ4MDQ1YWFhYjZlMTczNWJhMDUwNTc4ID0gTC5wb3B1cCh7Im1heFdpZHRoIjogIjEwMCUifSk7CgogICAgICAgIAogICAgICAgICAgICB2YXIgaHRtbF9jMzhiYTU5OTVjMmM0MDNmYjAxOTM1M2ViMDk0Y2JkNSA9ICQoYDxkaXYgaWQ9Imh0bWxfYzM4YmE1OTk1YzJjNDAzZmIwMTkzNTNlYjA5NGNiZDUiIHN0eWxlPSJ3aWR0aDogMTAwLjAlOyBoZWlnaHQ6IDEwMC4wJTsiPkxpdHRsZSBJdGFseSBDbHVzdGVyIDE8L2Rpdj5gKVswXTsKICAgICAgICAgICAgcG9wdXBfM2Y2NDc5NzZlNDgwNDVhYWFiNmUxNzM1YmEwNTA1Nzguc2V0Q29udGVudChodG1sX2MzOGJhNTk5NWMyYzQwM2ZiMDE5MzUzZWIwOTRjYmQ1KTsKICAgICAgICAKCiAgICAgICAgY2lyY2xlX21hcmtlcl8xYjAzOTIzNjUyYjU0MjI0YTc2ODRkMjZjMWYyYjY4NS5iaW5kUG9wdXAocG9wdXBfM2Y2NDc5NzZlNDgwNDVhYWFiNmUxNzM1YmEwNTA1NzgpCiAgICAgICAgOwoKICAgICAgICAKICAgIAogICAgCiAgICAgICAgICAgIHZhciBjaXJjbGVfbWFya2VyX2VlZjJhOThlNmEwYjQzOTk5ODBiN2Y2NDAxNTMyYzQwID0gTC5jaXJjbGVNYXJrZXIoCiAgICAgICAgICAgICAgICBbNDAuNzIyMTgzODQxMzE3OTQsIC03NC4wMDA2NTY2Njk1OTc1OV0sCiAgICAgICAgICAgICAgICB7ImJ1YmJsaW5nTW91c2VFdmVudHMiOiB0cnVlLCAiY29sb3IiOiAiIzgwMDBmZiIsICJkYXNoQXJyYXkiOiBudWxsLCAiZGFzaE9mZnNldCI6IG51bGwsICJmaWxsIjogdHJ1ZSwgImZpbGxDb2xvciI6ICIjODAwMGZmIiwgImZpbGxPcGFjaXR5IjogMC43LCAiZmlsbFJ1bGUiOiAiZXZlbm9kZCIsICJsaW5lQ2FwIjogInJvdW5kIiwgImxpbmVKb2luIjogInJvdW5kIiwgIm9wYWNpdHkiOiAxLjAsICJyYWRpdXMiOiA1LCAic3Ryb2tlIjogdHJ1ZSwgIndlaWdodCI6IDN9CiAgICAgICAgICAgICkuYWRkVG8obWFwXzZhYzAyMjBhNjhmMjQxYzhhYWJkYmQ5M2FmMzgzYjhhKTsKICAgICAgICAKICAgIAogICAgICAgIHZhciBwb3B1cF9kODlkYThhZTkwZmE0YTFlOTY4ZTAzZDcyYWEzZDdhZSA9IEwucG9wdXAoeyJtYXhXaWR0aCI6ICIxMDAlIn0pOwoKICAgICAgICAKICAgICAgICAgICAgdmFyIGh0bWxfNTBjMDA2YmNhMWFmNGFmNWExYTRlYjU5M2MzOTVmNTAgPSAkKGA8ZGl2IGlkPSJodG1sXzUwYzAwNmJjYTFhZjRhZjVhMWE0ZWI1OTNjMzk1ZjUwIiBzdHlsZT0id2lkdGg6IDEwMC4wJTsgaGVpZ2h0OiAxMDAuMCU7Ij5Tb2hvIENsdXN0ZXIgMTwvZGl2PmApWzBdOwogICAgICAgICAgICBwb3B1cF9kODlkYThhZTkwZmE0YTFlOTY4ZTAzZDcyYWEzZDdhZS5zZXRDb250ZW50KGh0bWxfNTBjMDA2YmNhMWFmNGFmNWExYTRlYjU5M2MzOTVmNTApOwogICAgICAgIAoKICAgICAgICBjaXJjbGVfbWFya2VyX2VlZjJhOThlNmEwYjQzOTk5ODBiN2Y2NDAxNTMyYzQwLmJpbmRQb3B1cChwb3B1cF9kODlkYThhZTkwZmE0YTFlOTY4ZTAzZDcyYWEzZDdhZSkKICAgICAgICA7CgogICAgICAgIAogICAgCiAgICAKICAgICAgICAgICAgdmFyIGNpcmNsZV9tYXJrZXJfZjBjYjdkZjhkMDc3NDM3MDhiNGQxODJiZTIzM2IzNjAgPSBMLmNpcmNsZU1hcmtlcigKICAgICAgICAgICAgICAgIFs0MC43MzQ0MzM5MzU3MjQzNCwgLTc0LjAwNjE3OTk4MTI2ODEyXSwKICAgICAgICAgICAgICAgIHsiYnViYmxpbmdNb3VzZUV2ZW50cyI6IHRydWUsICJjb2xvciI6ICIjODAwMGZmIiwgImRhc2hBcnJheSI6IG51bGwsICJkYXNoT2Zmc2V0IjogbnVsbCwgImZpbGwiOiB0cnVlLCAiZmlsbENvbG9yIjogIiM4MDAwZmYiLCAiZmlsbE9wYWNpdHkiOiAwLjcsICJmaWxsUnVsZSI6ICJldmVub2RkIiwgImxpbmVDYXAiOiAicm91bmQiLCAibGluZUpvaW4iOiAicm91bmQiLCAib3BhY2l0eSI6IDEuMCwgInJhZGl1cyI6IDUsICJzdHJva2UiOiB0cnVlLCAid2VpZ2h0IjogM30KICAgICAgICAgICAgKS5hZGRUbyhtYXBfNmFjMDIyMGE2OGYyNDFjOGFhYmRiZDkzYWYzODNiOGEpOwogICAgICAgIAogICAgCiAgICAgICAgdmFyIHBvcHVwXzViNzczZjI1ZDRiNjRkYzlhYzFjYWJjYzU5OThlODI1ID0gTC5wb3B1cCh7Im1heFdpZHRoIjogIjEwMCUifSk7CgogICAgICAgIAogICAgICAgICAgICB2YXIgaHRtbF9kZjc0NDFiZWQ1MzQ0NjU0OTM2ZTI2Zjk2Y2VhM2E1MSA9ICQoYDxkaXYgaWQ9Imh0bWxfZGY3NDQxYmVkNTM0NDY1NDkzNmUyNmY5NmNlYTNhNTEiIHN0eWxlPSJ3aWR0aDogMTAwLjAlOyBoZWlnaHQ6IDEwMC4wJTsiPldlc3QgVmlsbGFnZSBDbHVzdGVyIDE8L2Rpdj5gKVswXTsKICAgICAgICAgICAgcG9wdXBfNWI3NzNmMjVkNGI2NGRjOWFjMWNhYmNjNTk5OGU4MjUuc2V0Q29udGVudChodG1sX2RmNzQ0MWJlZDUzNDQ2NTQ5MzZlMjZmOTZjZWEzYTUxKTsKICAgICAgICAKCiAgICAgICAgY2lyY2xlX21hcmtlcl9mMGNiN2RmOGQwNzc0MzcwOGI0ZDE4MmJlMjMzYjM2MC5iaW5kUG9wdXAocG9wdXBfNWI3NzNmMjVkNGI2NGRjOWFjMWNhYmNjNTk5OGU4MjUpCiAgICAgICAgOwoKICAgICAgICAKICAgIAogICAgCiAgICAgICAgICAgIHZhciBjaXJjbGVfbWFya2VyXzllZGM4OGY5NmI4NDQ4NjA4ZGEzYmE3NGM2ZDFhOTQzID0gTC5jaXJjbGVNYXJrZXIoCiAgICAgICAgICAgICAgICBbNDAuNzk3MzA3MDQxNzAyODY1LCAtNzMuOTY0Mjg2MTc3NDA2NTVdLAogICAgICAgICAgICAgICAgeyJidWJibGluZ01vdXNlRXZlbnRzIjogdHJ1ZSwgImNvbG9yIjogIiM4MDAwZmYiLCAiZGFzaEFycmF5IjogbnVsbCwgImRhc2hPZmZzZXQiOiBudWxsLCAiZmlsbCI6IHRydWUsICJmaWxsQ29sb3IiOiAiIzgwMDBmZiIsICJmaWxsT3BhY2l0eSI6IDAuNywgImZpbGxSdWxlIjogImV2ZW5vZGQiLCAibGluZUNhcCI6ICJyb3VuZCIsICJsaW5lSm9pbiI6ICJyb3VuZCIsICJvcGFjaXR5IjogMS4wLCAicmFkaXVzIjogNSwgInN0cm9rZSI6IHRydWUsICJ3ZWlnaHQiOiAzfQogICAgICAgICAgICApLmFkZFRvKG1hcF82YWMwMjIwYTY4ZjI0MWM4YWFiZGJkOTNhZjM4M2I4YSk7CiAgICAgICAgCiAgICAKICAgICAgICB2YXIgcG9wdXBfYzZiNTM4NzBkZWMzNDViNzhhZGM0Y2UxNWUyM2EyMGMgPSBMLnBvcHVwKHsibWF4V2lkdGgiOiAiMTAwJSJ9KTsKCiAgICAgICAgCiAgICAgICAgICAgIHZhciBodG1sXzE1MTU4NjMyYzNiMzQzZWJhZDA4NTYxNGE4ZWZiZmMyID0gJChgPGRpdiBpZD0iaHRtbF8xNTE1ODYzMmMzYjM0M2ViYWQwODU2MTRhOGVmYmZjMiIgc3R5bGU9IndpZHRoOiAxMDAuMCU7IGhlaWdodDogMTAwLjAlOyI+TWFuaGF0dGFuIFZhbGxleSBDbHVzdGVyIDE8L2Rpdj5gKVswXTsKICAgICAgICAgICAgcG9wdXBfYzZiNTM4NzBkZWMzNDViNzhhZGM0Y2UxNWUyM2EyMGMuc2V0Q29udGVudChodG1sXzE1MTU4NjMyYzNiMzQzZWJhZDA4NTYxNGE4ZWZiZmMyKTsKICAgICAgICAKCiAgICAgICAgY2lyY2xlX21hcmtlcl85ZWRjODhmOTZiODQ0ODYwOGRhM2JhNzRjNmQxYTk0My5iaW5kUG9wdXAocG9wdXBfYzZiNTM4NzBkZWMzNDViNzhhZGM0Y2UxNWUyM2EyMGMpCiAgICAgICAgOwoKICAgICAgICAKICAgIAogICAgCiAgICAgICAgICAgIHZhciBjaXJjbGVfbWFya2VyX2Q0NTM3MDM1OWIzMzQyYjU4YWQ1ZjNlOWJjM2VkYjU3ID0gTC5jaXJjbGVNYXJrZXIoCiAgICAgICAgICAgICAgICBbNDAuODA3OTk5NzM4MTY1ODI2LCAtNzMuOTYzODk2Mjc5MDUzMzJdLAogICAgICAgICAgICAgICAgeyJidWJibGluZ01vdXNlRXZlbnRzIjogdHJ1ZSwgImNvbG9yIjogIiMwMGI1ZWIiLCAiZGFzaEFycmF5IjogbnVsbCwgImRhc2hPZmZzZXQiOiBudWxsLCAiZmlsbCI6IHRydWUsICJmaWxsQ29sb3IiOiAiIzAwYjVlYiIsICJmaWxsT3BhY2l0eSI6IDAuNywgImZpbGxSdWxlIjogImV2ZW5vZGQiLCAibGluZUNhcCI6ICJyb3VuZCIsICJsaW5lSm9pbiI6ICJyb3VuZCIsICJvcGFjaXR5IjogMS4wLCAicmFkaXVzIjogNSwgInN0cm9rZSI6IHRydWUsICJ3ZWlnaHQiOiAzfQogICAgICAgICAgICApLmFkZFRvKG1hcF82YWMwMjIwYTY4ZjI0MWM4YWFiZGJkOTNhZjM4M2I4YSk7CiAgICAgICAgCiAgICAKICAgICAgICB2YXIgcG9wdXBfNzliYTMwZjZlYmVmNDBjOGFmYmZmYzc3Mjg0MmVkNGUgPSBMLnBvcHVwKHsibWF4V2lkdGgiOiAiMTAwJSJ9KTsKCiAgICAgICAgCiAgICAgICAgICAgIHZhciBodG1sX2EzM2E1ZjE5ODczYTQ1NDk4ODFhYzM3NmJkZjEzMDNkID0gJChgPGRpdiBpZD0iaHRtbF9hMzNhNWYxOTg3M2E0NTQ5ODgxYWMzNzZiZGYxMzAzZCIgc3R5bGU9IndpZHRoOiAxMDAuMCU7IGhlaWdodDogMTAwLjAlOyI+TW9ybmluZ3NpZGUgSGVpZ2h0cyBDbHVzdGVyIDI8L2Rpdj5gKVswXTsKICAgICAgICAgICAgcG9wdXBfNzliYTMwZjZlYmVmNDBjOGFmYmZmYzc3Mjg0MmVkNGUuc2V0Q29udGVudChodG1sX2EzM2E1ZjE5ODczYTQ1NDk4ODFhYzM3NmJkZjEzMDNkKTsKICAgICAgICAKCiAgICAgICAgY2lyY2xlX21hcmtlcl9kNDUzNzAzNTliMzM0MmI1OGFkNWYzZTliYzNlZGI1Ny5iaW5kUG9wdXAocG9wdXBfNzliYTMwZjZlYmVmNDBjOGFmYmZmYzc3Mjg0MmVkNGUpCiAgICAgICAgOwoKICAgICAgICAKICAgIAogICAgCiAgICAgICAgICAgIHZhciBjaXJjbGVfbWFya2VyX2ZjMzMyODk0OTcxMjQ3YzBhN2U2M2JiZDhlZGJiZmQwID0gTC5jaXJjbGVNYXJrZXIoCiAgICAgICAgICAgICAgICBbNDAuNzM3MjA5ODMyNzE1LCAtNzMuOTgxMzc1OTQ4MzM1NDFdLAogICAgICAgICAgICAgICAgeyJidWJibGluZ01vdXNlRXZlbnRzIjogdHJ1ZSwgImNvbG9yIjogIiM4MDAwZmYiLCAiZGFzaEFycmF5IjogbnVsbCwgImRhc2hPZmZzZXQiOiBudWxsLCAiZmlsbCI6IHRydWUsICJmaWxsQ29sb3IiOiAiIzgwMDBmZiIsICJmaWxsT3BhY2l0eSI6IDAuNywgImZpbGxSdWxlIjogImV2ZW5vZGQiLCAibGluZUNhcCI6ICJyb3VuZCIsICJsaW5lSm9pbiI6ICJyb3VuZCIsICJvcGFjaXR5IjogMS4wLCAicmFkaXVzIjogNSwgInN0cm9rZSI6IHRydWUsICJ3ZWlnaHQiOiAzfQogICAgICAgICAgICApLmFkZFRvKG1hcF82YWMwMjIwYTY4ZjI0MWM4YWFiZGJkOTNhZjM4M2I4YSk7CiAgICAgICAgCiAgICAKICAgICAgICB2YXIgcG9wdXBfY2RjZDkxM2FhNWRmNDMwM2E2NTY5MWVkYmY1MWRlOTUgPSBMLnBvcHVwKHsibWF4V2lkdGgiOiAiMTAwJSJ9KTsKCiAgICAgICAgCiAgICAgICAgICAgIHZhciBodG1sXzcwNTRkNzk0NWZlMjRjNzJiZjdkYmFmZGE4ZDk4OWI1ID0gJChgPGRpdiBpZD0iaHRtbF83MDU0ZDc5NDVmZTI0YzcyYmY3ZGJhZmRhOGQ5ODliNSIgc3R5bGU9IndpZHRoOiAxMDAuMCU7IGhlaWdodDogMTAwLjAlOyI+R3JhbWVyY3kgQ2x1c3RlciAxPC9kaXY+YClbMF07CiAgICAgICAgICAgIHBvcHVwX2NkY2Q5MTNhYTVkZjQzMDNhNjU2OTFlZGJmNTFkZTk1LnNldENvbnRlbnQoaHRtbF83MDU0ZDc5NDVmZTI0YzcyYmY3ZGJhZmRhOGQ5ODliNSk7CiAgICAgICAgCgogICAgICAgIGNpcmNsZV9tYXJrZXJfZmMzMzI4OTQ5NzEyNDdjMGE3ZTYzYmJkOGVkYmJmZDAuYmluZFBvcHVwKHBvcHVwX2NkY2Q5MTNhYTVkZjQzMDNhNjU2OTFlZGJmNTFkZTk1KQogICAgICAgIDsKCiAgICAgICAgCiAgICAKICAgIAogICAgICAgICAgICB2YXIgY2lyY2xlX21hcmtlcl9jNzc4MzA4M2JkZTY0ZTdmODBjNGQ0NzZhMjVkODFiYyA9IEwuY2lyY2xlTWFya2VyKAogICAgICAgICAgICAgICAgWzQwLjcxMTkzMTk4Mzk0NTY1LCAtNzQuMDE2ODY5MzA1MDg2MTddLAogICAgICAgICAgICAgICAgeyJidWJibGluZ01vdXNlRXZlbnRzIjogdHJ1ZSwgImNvbG9yIjogIiMwMGI1ZWIiLCAiZGFzaEFycmF5IjogbnVsbCwgImRhc2hPZmZzZXQiOiBudWxsLCAiZmlsbCI6IHRydWUsICJmaWxsQ29sb3IiOiAiIzAwYjVlYiIsICJmaWxsT3BhY2l0eSI6IDAuNywgImZpbGxSdWxlIjogImV2ZW5vZGQiLCAibGluZUNhcCI6ICJyb3VuZCIsICJsaW5lSm9pbiI6ICJyb3VuZCIsICJvcGFjaXR5IjogMS4wLCAicmFkaXVzIjogNSwgInN0cm9rZSI6IHRydWUsICJ3ZWlnaHQiOiAzfQogICAgICAgICAgICApLmFkZFRvKG1hcF82YWMwMjIwYTY4ZjI0MWM4YWFiZGJkOTNhZjM4M2I4YSk7CiAgICAgICAgCiAgICAKICAgICAgICB2YXIgcG9wdXBfYzZlODE5Mzg3ZTliNDYzNDgyNGU1ZmMzYTY4NTI4MGQgPSBMLnBvcHVwKHsibWF4V2lkdGgiOiAiMTAwJSJ9KTsKCiAgICAgICAgCiAgICAgICAgICAgIHZhciBodG1sXzQ0Y2E5NDY5Y2ZjODQzMWU4ZjkzNmY2YzdmM2ZiMGUxID0gJChgPGRpdiBpZD0iaHRtbF80NGNhOTQ2OWNmYzg0MzFlOGY5MzZmNmM3ZjNmYjBlMSIgc3R5bGU9IndpZHRoOiAxMDAuMCU7IGhlaWdodDogMTAwLjAlOyI+QmF0dGVyeSBQYXJrIENpdHkgQ2x1c3RlciAyPC9kaXY+YClbMF07CiAgICAgICAgICAgIHBvcHVwX2M2ZTgxOTM4N2U5YjQ2MzQ4MjRlNWZjM2E2ODUyODBkLnNldENvbnRlbnQoaHRtbF80NGNhOTQ2OWNmYzg0MzFlOGY5MzZmNmM3ZjNmYjBlMSk7CiAgICAgICAgCgogICAgICAgIGNpcmNsZV9tYXJrZXJfYzc3ODMwODNiZGU2NGU3ZjgwYzRkNDc2YTI1ZDgxYmMuYmluZFBvcHVwKHBvcHVwX2M2ZTgxOTM4N2U5YjQ2MzQ4MjRlNWZjM2E2ODUyODBkKQogICAgICAgIDsKCiAgICAgICAgCiAgICAKICAgIAogICAgICAgICAgICB2YXIgY2lyY2xlX21hcmtlcl81NWEyMGYxMDJmYjU0MWEwOTRlMzBmY2JiMzhjNmNjNSA9IEwuY2lyY2xlTWFya2VyKAogICAgICAgICAgICAgICAgWzQwLjcwNzEwNzEwNzI3MDQ4LCAtNzQuMDEwNjY1NDQ1MjEyN10sCiAgICAgICAgICAgICAgICB7ImJ1YmJsaW5nTW91c2VFdmVudHMiOiB0cnVlLCAiY29sb3IiOiAiIzgwMDBmZiIsICJkYXNoQXJyYXkiOiBudWxsLCAiZGFzaE9mZnNldCI6IG51bGwsICJmaWxsIjogdHJ1ZSwgImZpbGxDb2xvciI6ICIjODAwMGZmIiwgImZpbGxPcGFjaXR5IjogMC43LCAiZmlsbFJ1bGUiOiAiZXZlbm9kZCIsICJsaW5lQ2FwIjogInJvdW5kIiwgImxpbmVKb2luIjogInJvdW5kIiwgIm9wYWNpdHkiOiAxLjAsICJyYWRpdXMiOiA1LCAic3Ryb2tlIjogdHJ1ZSwgIndlaWdodCI6IDN9CiAgICAgICAgICAgICkuYWRkVG8obWFwXzZhYzAyMjBhNjhmMjQxYzhhYWJkYmQ5M2FmMzgzYjhhKTsKICAgICAgICAKICAgIAogICAgICAgIHZhciBwb3B1cF85NDE4ZmZkMDljODc0N2VkODg5YWI1Zjk1NWFkYTM2OCA9IEwucG9wdXAoeyJtYXhXaWR0aCI6ICIxMDAlIn0pOwoKICAgICAgICAKICAgICAgICAgICAgdmFyIGh0bWxfMGU3OGI2MzE1NTY1NGZmZGI2M2FlN2RkY2I4ZTk2YjkgPSAkKGA8ZGl2IGlkPSJodG1sXzBlNzhiNjMxNTU2NTRmZmRiNjNhZTdkZGNiOGU5NmI5IiBzdHlsZT0id2lkdGg6IDEwMC4wJTsgaGVpZ2h0OiAxMDAuMCU7Ij5GaW5hbmNpYWwgRGlzdHJpY3QgQ2x1c3RlciAxPC9kaXY+YClbMF07CiAgICAgICAgICAgIHBvcHVwXzk0MThmZmQwOWM4NzQ3ZWQ4ODlhYjVmOTU1YWRhMzY4LnNldENvbnRlbnQoaHRtbF8wZTc4YjYzMTU1NjU0ZmZkYjYzYWU3ZGRjYjhlOTZiOSk7CiAgICAgICAgCgogICAgICAgIGNpcmNsZV9tYXJrZXJfNTVhMjBmMTAyZmI1NDFhMDk0ZTMwZmNiYjM4YzZjYzUuYmluZFBvcHVwKHBvcHVwXzk0MThmZmQwOWM4NzQ3ZWQ4ODlhYjVmOTU1YWRhMzY4KQogICAgICAgIDsKCiAgICAgICAgCiAgICAKICAgIAogICAgICAgICAgICB2YXIgY2lyY2xlX21hcmtlcl9iZDA1NjkwZTZiNzg0Y2QzOTA2YzA1N2YyODQ3MWM5YSA9IEwuY2lyY2xlTWFya2VyKAogICAgICAgICAgICAgICAgWzQwLjc4MjY4MjU2NzEyNTcsIC03My45NTMyNTY0NjgzNzExMl0sCiAgICAgICAgICAgICAgICB7ImJ1YmJsaW5nTW91c2VFdmVudHMiOiB0cnVlLCAiY29sb3IiOiAiIzgwMDBmZiIsICJkYXNoQXJyYXkiOiBudWxsLCAiZGFzaE9mZnNldCI6IG51bGwsICJmaWxsIjogdHJ1ZSwgImZpbGxDb2xvciI6ICIjODAwMGZmIiwgImZpbGxPcGFjaXR5IjogMC43LCAiZmlsbFJ1bGUiOiAiZXZlbm9kZCIsICJsaW5lQ2FwIjogInJvdW5kIiwgImxpbmVKb2luIjogInJvdW5kIiwgIm9wYWNpdHkiOiAxLjAsICJyYWRpdXMiOiA1LCAic3Ryb2tlIjogdHJ1ZSwgIndlaWdodCI6IDN9CiAgICAgICAgICAgICkuYWRkVG8obWFwXzZhYzAyMjBhNjhmMjQxYzhhYWJkYmQ5M2FmMzgzYjhhKTsKICAgICAgICAKICAgIAogICAgICAgIHZhciBwb3B1cF81YTQ5YmE4MjhmZDE0Y2YwOTM4MDEwMjhlNDAyZjdkZCA9IEwucG9wdXAoeyJtYXhXaWR0aCI6ICIxMDAlIn0pOwoKICAgICAgICAKICAgICAgICAgICAgdmFyIGh0bWxfMDhiMWM0NmUzMWEwNDdkNzg5YTlmNDg5NzMzZTVlMmYgPSAkKGA8ZGl2IGlkPSJodG1sXzA4YjFjNDZlMzFhMDQ3ZDc4OWE5ZjQ4OTczM2U1ZTJmIiBzdHlsZT0id2lkdGg6IDEwMC4wJTsgaGVpZ2h0OiAxMDAuMCU7Ij5DYXJuZWdpZSBIaWxsIENsdXN0ZXIgMTwvZGl2PmApWzBdOwogICAgICAgICAgICBwb3B1cF81YTQ5YmE4MjhmZDE0Y2YwOTM4MDEwMjhlNDAyZjdkZC5zZXRDb250ZW50KGh0bWxfMDhiMWM0NmUzMWEwNDdkNzg5YTlmNDg5NzMzZTVlMmYpOwogICAgICAgIAoKICAgICAgICBjaXJjbGVfbWFya2VyX2JkMDU2OTBlNmI3ODRjZDM5MDZjMDU3ZjI4NDcxYzlhLmJpbmRQb3B1cChwb3B1cF81YTQ5YmE4MjhmZDE0Y2YwOTM4MDEwMjhlNDAyZjdkZCkKICAgICAgICA7CgogICAgICAgIAogICAgCiAgICAKICAgICAgICAgICAgdmFyIGNpcmNsZV9tYXJrZXJfYjZkODQ4NDE0YmI3NDhlNTgxZjFhNGEwODZmZGQxZmIgPSBMLmNpcmNsZU1hcmtlcigKICAgICAgICAgICAgICAgIFs0MC43MjMyNTkwMTg4NTc2OCwgLTczLjk4ODQzMzY4MDIzNTk3XSwKICAgICAgICAgICAgICAgIHsiYnViYmxpbmdNb3VzZUV2ZW50cyI6IHRydWUsICJjb2xvciI6ICIjODAwMGZmIiwgImRhc2hBcnJheSI6IG51bGwsICJkYXNoT2Zmc2V0IjogbnVsbCwgImZpbGwiOiB0cnVlLCAiZmlsbENvbG9yIjogIiM4MDAwZmYiLCAiZmlsbE9wYWNpdHkiOiAwLjcsICJmaWxsUnVsZSI6ICJldmVub2RkIiwgImxpbmVDYXAiOiAicm91bmQiLCAibGluZUpvaW4iOiAicm91bmQiLCAib3BhY2l0eSI6IDEuMCwgInJhZGl1cyI6IDUsICJzdHJva2UiOiB0cnVlLCAid2VpZ2h0IjogM30KICAgICAgICAgICAgKS5hZGRUbyhtYXBfNmFjMDIyMGE2OGYyNDFjOGFhYmRiZDkzYWYzODNiOGEpOwogICAgICAgIAogICAgCiAgICAgICAgdmFyIHBvcHVwX2Y4YmEwMmU1ZGQxMDRmY2I5MjA5MDVlYjIwN2VmNzIwID0gTC5wb3B1cCh7Im1heFdpZHRoIjogIjEwMCUifSk7CgogICAgICAgIAogICAgICAgICAgICB2YXIgaHRtbF8xMDFiNDc2NWMwNzA0Nzc4ODMxMDQzMDExMmMwZDY3OSA9ICQoYDxkaXYgaWQ9Imh0bWxfMTAxYjQ3NjVjMDcwNDc3ODgzMTA0MzAxMTJjMGQ2NzkiIHN0eWxlPSJ3aWR0aDogMTAwLjAlOyBoZWlnaHQ6IDEwMC4wJTsiPk5vaG8gQ2x1c3RlciAxPC9kaXY+YClbMF07CiAgICAgICAgICAgIHBvcHVwX2Y4YmEwMmU1ZGQxMDRmY2I5MjA5MDVlYjIwN2VmNzIwLnNldENvbnRlbnQoaHRtbF8xMDFiNDc2NWMwNzA0Nzc4ODMxMDQzMDExMmMwZDY3OSk7CiAgICAgICAgCgogICAgICAgIGNpcmNsZV9tYXJrZXJfYjZkODQ4NDE0YmI3NDhlNTgxZjFhNGEwODZmZGQxZmIuYmluZFBvcHVwKHBvcHVwX2Y4YmEwMmU1ZGQxMDRmY2I5MjA5MDVlYjIwN2VmNzIwKQogICAgICAgIDsKCiAgICAgICAgCiAgICAKICAgIAogICAgICAgICAgICB2YXIgY2lyY2xlX21hcmtlcl8wOThhMGNjYmVmMGU0ODNmOWUyOGQxMDg4MGIwMzhlMyA9IEwuY2lyY2xlTWFya2VyKAogICAgICAgICAgICAgICAgWzQwLjcxNTIyODkyMDQ2MjgyLCAtNzQuMDA1NDE1Mjk4NzMzNTVdLAogICAgICAgICAgICAgICAgeyJidWJibGluZ01vdXNlRXZlbnRzIjogdHJ1ZSwgImNvbG9yIjogIiM4MDAwZmYiLCAiZGFzaEFycmF5IjogbnVsbCwgImRhc2hPZmZzZXQiOiBudWxsLCAiZmlsbCI6IHRydWUsICJmaWxsQ29sb3IiOiAiIzgwMDBmZiIsICJmaWxsT3BhY2l0eSI6IDAuNywgImZpbGxSdWxlIjogImV2ZW5vZGQiLCAibGluZUNhcCI6ICJyb3VuZCIsICJsaW5lSm9pbiI6ICJyb3VuZCIsICJvcGFjaXR5IjogMS4wLCAicmFkaXVzIjogNSwgInN0cm9rZSI6IHRydWUsICJ3ZWlnaHQiOiAzfQogICAgICAgICAgICApLmFkZFRvKG1hcF82YWMwMjIwYTY4ZjI0MWM4YWFiZGJkOTNhZjM4M2I4YSk7CiAgICAgICAgCiAgICAKICAgICAgICB2YXIgcG9wdXBfNWYzYWY1ZWY0ODJjNGJkZTk5NTUzZThmYTQ3ZWVhYzAgPSBMLnBvcHVwKHsibWF4V2lkdGgiOiAiMTAwJSJ9KTsKCiAgICAgICAgCiAgICAgICAgICAgIHZhciBodG1sX2I2N2FiYzg1MmE4ODRiMjI5NWY5YjA1NzA0YzI2MDA3ID0gJChgPGRpdiBpZD0iaHRtbF9iNjdhYmM4NTJhODg0YjIyOTVmOWIwNTcwNGMyNjAwNyIgc3R5bGU9IndpZHRoOiAxMDAuMCU7IGhlaWdodDogMTAwLjAlOyI+Q2l2aWMgQ2VudGVyIENsdXN0ZXIgMTwvZGl2PmApWzBdOwogICAgICAgICAgICBwb3B1cF81ZjNhZjVlZjQ4MmM0YmRlOTk1NTNlOGZhNDdlZWFjMC5zZXRDb250ZW50KGh0bWxfYjY3YWJjODUyYTg4NGIyMjk1ZjliMDU3MDRjMjYwMDcpOwogICAgICAgIAoKICAgICAgICBjaXJjbGVfbWFya2VyXzA5OGEwY2NiZWYwZTQ4M2Y5ZTI4ZDEwODgwYjAzOGUzLmJpbmRQb3B1cChwb3B1cF81ZjNhZjVlZjQ4MmM0YmRlOTk1NTNlOGZhNDdlZWFjMCkKICAgICAgICA7CgogICAgICAgIAogICAgCiAgICAKICAgICAgICAgICAgdmFyIGNpcmNsZV9tYXJrZXJfNDRiNmEzNDg5MTQwNGNjMDhlZjlhMzQ1NmE4MzkzZDQgPSBMLmNpcmNsZU1hcmtlcigKICAgICAgICAgICAgICAgIFs0MC43NDg1MDk2NjQzMTIyLCAtNzMuOTg4NzEzMTMyODUyNDddLAogICAgICAgICAgICAgICAgeyJidWJibGluZ01vdXNlRXZlbnRzIjogdHJ1ZSwgImNvbG9yIjogIiM4MDAwZmYiLCAiZGFzaEFycmF5IjogbnVsbCwgImRhc2hPZmZzZXQiOiBudWxsLCAiZmlsbCI6IHRydWUsICJmaWxsQ29sb3IiOiAiIzgwMDBmZiIsICJmaWxsT3BhY2l0eSI6IDAuNywgImZpbGxSdWxlIjogImV2ZW5vZGQiLCAibGluZUNhcCI6ICJyb3VuZCIsICJsaW5lSm9pbiI6ICJyb3VuZCIsICJvcGFjaXR5IjogMS4wLCAicmFkaXVzIjogNSwgInN0cm9rZSI6IHRydWUsICJ3ZWlnaHQiOiAzfQogICAgICAgICAgICApLmFkZFRvKG1hcF82YWMwMjIwYTY4ZjI0MWM4YWFiZGJkOTNhZjM4M2I4YSk7CiAgICAgICAgCiAgICAKICAgICAgICB2YXIgcG9wdXBfYzE2MGU3ZDhjNTk4NGQyZmI1MzQ0MjU1ZGFkNWY5M2MgPSBMLnBvcHVwKHsibWF4V2lkdGgiOiAiMTAwJSJ9KTsKCiAgICAgICAgCiAgICAgICAgICAgIHZhciBodG1sXzNlMGJiODRjYTdlMTRjZmI5YWQzMDY5YzMxMTJmNmZhID0gJChgPGRpdiBpZD0iaHRtbF8zZTBiYjg0Y2E3ZTE0Y2ZiOWFkMzA2OWMzMTEyZjZmYSIgc3R5bGU9IndpZHRoOiAxMDAuMCU7IGhlaWdodDogMTAwLjAlOyI+TWlkdG93biBTb3V0aCBDbHVzdGVyIDE8L2Rpdj5gKVswXTsKICAgICAgICAgICAgcG9wdXBfYzE2MGU3ZDhjNTk4NGQyZmI1MzQ0MjU1ZGFkNWY5M2Muc2V0Q29udGVudChodG1sXzNlMGJiODRjYTdlMTRjZmI5YWQzMDY5YzMxMTJmNmZhKTsKICAgICAgICAKCiAgICAgICAgY2lyY2xlX21hcmtlcl80NGI2YTM0ODkxNDA0Y2MwOGVmOWEzNDU2YTgzOTNkNC5iaW5kUG9wdXAocG9wdXBfYzE2MGU3ZDhjNTk4NGQyZmI1MzQ0MjU1ZGFkNWY5M2MpCiAgICAgICAgOwoKICAgICAgICAKICAgIAogICAgCiAgICAgICAgICAgIHZhciBjaXJjbGVfbWFya2VyX2E1MzEyODJiMWE2ODQ1MjZiOWMyNmRhZWExZGFhOWE3ID0gTC5jaXJjbGVNYXJrZXIoCiAgICAgICAgICAgICAgICBbNDAuNzYwMjgwMzMxMzEzNzQsIC03My45NjM1NTYxNDA5NDMwM10sCiAgICAgICAgICAgICAgICB7ImJ1YmJsaW5nTW91c2VFdmVudHMiOiB0cnVlLCAiY29sb3IiOiAiIzgwMDBmZiIsICJkYXNoQXJyYXkiOiBudWxsLCAiZGFzaE9mZnNldCI6IG51bGwsICJmaWxsIjogdHJ1ZSwgImZpbGxDb2xvciI6ICIjODAwMGZmIiwgImZpbGxPcGFjaXR5IjogMC43LCAiZmlsbFJ1bGUiOiAiZXZlbm9kZCIsICJsaW5lQ2FwIjogInJvdW5kIiwgImxpbmVKb2luIjogInJvdW5kIiwgIm9wYWNpdHkiOiAxLjAsICJyYWRpdXMiOiA1LCAic3Ryb2tlIjogdHJ1ZSwgIndlaWdodCI6IDN9CiAgICAgICAgICAgICkuYWRkVG8obWFwXzZhYzAyMjBhNjhmMjQxYzhhYWJkYmQ5M2FmMzgzYjhhKTsKICAgICAgICAKICAgIAogICAgICAgIHZhciBwb3B1cF83NmEzOGQ4OWM2NzU0YTUxYTUwMjIwNmMzZjJiODIzYSA9IEwucG9wdXAoeyJtYXhXaWR0aCI6ICIxMDAlIn0pOwoKICAgICAgICAKICAgICAgICAgICAgdmFyIGh0bWxfODllMGIwYTQ1NGU1NDUyZmJjOWEwYjM2Y2E5Nzg4ZjYgPSAkKGA8ZGl2IGlkPSJodG1sXzg5ZTBiMGE0NTRlNTQ1MmZiYzlhMGIzNmNhOTc4OGY2IiBzdHlsZT0id2lkdGg6IDEwMC4wJTsgaGVpZ2h0OiAxMDAuMCU7Ij5TdXR0b24gUGxhY2UgQ2x1c3RlciAxPC9kaXY+YClbMF07CiAgICAgICAgICAgIHBvcHVwXzc2YTM4ZDg5YzY3NTRhNTFhNTAyMjA2YzNmMmI4MjNhLnNldENvbnRlbnQoaHRtbF84OWUwYjBhNDU0ZTU0NTJmYmM5YTBiMzZjYTk3ODhmNik7CiAgICAgICAgCgogICAgICAgIGNpcmNsZV9tYXJrZXJfYTUzMTI4MmIxYTY4NDUyNmI5YzI2ZGFlYTFkYWE5YTcuYmluZFBvcHVwKHBvcHVwXzc2YTM4ZDg5YzY3NTRhNTFhNTAyMjA2YzNmMmI4MjNhKQogICAgICAgIDsKCiAgICAgICAgCiAgICAKICAgIAogICAgICAgICAgICB2YXIgY2lyY2xlX21hcmtlcl9kZGM3MGNiYTQ4OGE0OTU1OWZmMDFkNTQ2ZjU3ODYxYiA9IEwuY2lyY2xlTWFya2VyKAogICAgICAgICAgICAgICAgWzQwLjc1MjA0MjM2OTUwNzIyLCAtNzMuOTY3NzA4MjQ1ODE4MzRdLAogICAgICAgICAgICAgICAgeyJidWJibGluZ01vdXNlRXZlbnRzIjogdHJ1ZSwgImNvbG9yIjogIiMwMGI1ZWIiLCAiZGFzaEFycmF5IjogbnVsbCwgImRhc2hPZmZzZXQiOiBudWxsLCAiZmlsbCI6IHRydWUsICJmaWxsQ29sb3IiOiAiIzAwYjVlYiIsICJmaWxsT3BhY2l0eSI6IDAuNywgImZpbGxSdWxlIjogImV2ZW5vZGQiLCAibGluZUNhcCI6ICJyb3VuZCIsICJsaW5lSm9pbiI6ICJyb3VuZCIsICJvcGFjaXR5IjogMS4wLCAicmFkaXVzIjogNSwgInN0cm9rZSI6IHRydWUsICJ3ZWlnaHQiOiAzfQogICAgICAgICAgICApLmFkZFRvKG1hcF82YWMwMjIwYTY4ZjI0MWM4YWFiZGJkOTNhZjM4M2I4YSk7CiAgICAgICAgCiAgICAKICAgICAgICB2YXIgcG9wdXBfZTY1MTg2OWRmZGY2NDdkMDhkNzJmMTNhOGMyZTdlOGIgPSBMLnBvcHVwKHsibWF4V2lkdGgiOiAiMTAwJSJ9KTsKCiAgICAgICAgCiAgICAgICAgICAgIHZhciBodG1sXzNhYWM3MzE5NmMzOTRkNjQ5MDgxMDljOTZhYTMzNjllID0gJChgPGRpdiBpZD0iaHRtbF8zYWFjNzMxOTZjMzk0ZDY0OTA4MTA5Yzk2YWEzMzY5ZSIgc3R5bGU9IndpZHRoOiAxMDAuMCU7IGhlaWdodDogMTAwLjAlOyI+VHVydGxlIEJheSBDbHVzdGVyIDI8L2Rpdj5gKVswXTsKICAgICAgICAgICAgcG9wdXBfZTY1MTg2OWRmZGY2NDdkMDhkNzJmMTNhOGMyZTdlOGIuc2V0Q29udGVudChodG1sXzNhYWM3MzE5NmMzOTRkNjQ5MDgxMDljOTZhYTMzNjllKTsKICAgICAgICAKCiAgICAgICAgY2lyY2xlX21hcmtlcl9kZGM3MGNiYTQ4OGE0OTU1OWZmMDFkNTQ2ZjU3ODYxYi5iaW5kUG9wdXAocG9wdXBfZTY1MTg2OWRmZGY2NDdkMDhkNzJmMTNhOGMyZTdlOGIpCiAgICAgICAgOwoKICAgICAgICAKICAgIAogICAgCiAgICAgICAgICAgIHZhciBjaXJjbGVfbWFya2VyXzQ2NDI3OTcwNGZkZDQ0MjliZGE5YjY2MzIwZDQwM2NkID0gTC5jaXJjbGVNYXJrZXIoCiAgICAgICAgICAgICAgICBbNDAuNzQ2OTE3NDEwNzQwMTk1LCAtNzMuOTcxMjE5Mjg3MjIyNjVdLAogICAgICAgICAgICAgICAgeyJidWJibGluZ01vdXNlRXZlbnRzIjogdHJ1ZSwgImNvbG9yIjogIiMwMGI1ZWIiLCAiZGFzaEFycmF5IjogbnVsbCwgImRhc2hPZmZzZXQiOiBudWxsLCAiZmlsbCI6IHRydWUsICJmaWxsQ29sb3IiOiAiIzAwYjVlYiIsICJmaWxsT3BhY2l0eSI6IDAuNywgImZpbGxSdWxlIjogImV2ZW5vZGQiLCAibGluZUNhcCI6ICJyb3VuZCIsICJsaW5lSm9pbiI6ICJyb3VuZCIsICJvcGFjaXR5IjogMS4wLCAicmFkaXVzIjogNSwgInN0cm9rZSI6IHRydWUsICJ3ZWlnaHQiOiAzfQogICAgICAgICAgICApLmFkZFRvKG1hcF82YWMwMjIwYTY4ZjI0MWM4YWFiZGJkOTNhZjM4M2I4YSk7CiAgICAgICAgCiAgICAKICAgICAgICB2YXIgcG9wdXBfZjY4ZDZmMWUyMmM2NGJiZDg0NTZlYTc3ZGMxZThlOTUgPSBMLnBvcHVwKHsibWF4V2lkdGgiOiAiMTAwJSJ9KTsKCiAgICAgICAgCiAgICAgICAgICAgIHZhciBodG1sX2JiODE1OTdkMDEwMTQ1ZWFhY2I3N2I5NTcyMWM5NWJlID0gJChgPGRpdiBpZD0iaHRtbF9iYjgxNTk3ZDAxMDE0NWVhYWNiNzdiOTU3MjFjOTViZSIgc3R5bGU9IndpZHRoOiAxMDAuMCU7IGhlaWdodDogMTAwLjAlOyI+VHVkb3IgQ2l0eSBDbHVzdGVyIDI8L2Rpdj5gKVswXTsKICAgICAgICAgICAgcG9wdXBfZjY4ZDZmMWUyMmM2NGJiZDg0NTZlYTc3ZGMxZThlOTUuc2V0Q29udGVudChodG1sX2JiODE1OTdkMDEwMTQ1ZWFhY2I3N2I5NTcyMWM5NWJlKTsKICAgICAgICAKCiAgICAgICAgY2lyY2xlX21hcmtlcl80NjQyNzk3MDRmZGQ0NDI5YmRhOWI2NjMyMGQ0MDNjZC5iaW5kUG9wdXAocG9wdXBfZjY4ZDZmMWUyMmM2NGJiZDg0NTZlYTc3ZGMxZThlOTUpCiAgICAgICAgOwoKICAgICAgICAKICAgIAogICAgCiAgICAgICAgICAgIHZhciBjaXJjbGVfbWFya2VyX2RhN2M2MTVhYWEwZDRmOGViN2FhNDQ4OWJiYjgxZWFjID0gTC5jaXJjbGVNYXJrZXIoCiAgICAgICAgICAgICAgICBbNDAuNzMwOTk5NTU0NzcwNjEsIC03My45NzQwNTE3MDQ2OTIwM10sCiAgICAgICAgICAgICAgICB7ImJ1YmJsaW5nTW91c2VFdmVudHMiOiB0cnVlLCAiY29sb3IiOiAiIzgwZmZiNCIsICJkYXNoQXJyYXkiOiBudWxsLCAiZGFzaE9mZnNldCI6IG51bGwsICJmaWxsIjogdHJ1ZSwgImZpbGxDb2xvciI6ICIjODBmZmI0IiwgImZpbGxPcGFjaXR5IjogMC43LCAiZmlsbFJ1bGUiOiAiZXZlbm9kZCIsICJsaW5lQ2FwIjogInJvdW5kIiwgImxpbmVKb2luIjogInJvdW5kIiwgIm9wYWNpdHkiOiAxLjAsICJyYWRpdXMiOiA1LCAic3Ryb2tlIjogdHJ1ZSwgIndlaWdodCI6IDN9CiAgICAgICAgICAgICkuYWRkVG8obWFwXzZhYzAyMjBhNjhmMjQxYzhhYWJkYmQ5M2FmMzgzYjhhKTsKICAgICAgICAKICAgIAogICAgICAgIHZhciBwb3B1cF8wYTdmMjM0Yzk4NjE0ZDE0YjUxMTkxNjNkN2E0YjUxMSA9IEwucG9wdXAoeyJtYXhXaWR0aCI6ICIxMDAlIn0pOwoKICAgICAgICAKICAgICAgICAgICAgdmFyIGh0bWxfYjhhOWMzZTJjMTIzNDMxOTgyYmY0YzM2YWM3YjJlZDYgPSAkKGA8ZGl2IGlkPSJodG1sX2I4YTljM2UyYzEyMzQzMTk4MmJmNGMzNmFjN2IyZWQ2IiBzdHlsZT0id2lkdGg6IDEwMC4wJTsgaGVpZ2h0OiAxMDAuMCU7Ij5TdHV5dmVzYW50IFRvd24gQ2x1c3RlciAzPC9kaXY+YClbMF07CiAgICAgICAgICAgIHBvcHVwXzBhN2YyMzRjOTg2MTRkMTRiNTExOTE2M2Q3YTRiNTExLnNldENvbnRlbnQoaHRtbF9iOGE5YzNlMmMxMjM0MzE5ODJiZjRjMzZhYzdiMmVkNik7CiAgICAgICAgCgogICAgICAgIGNpcmNsZV9tYXJrZXJfZGE3YzYxNWFhYTBkNGY4ZWI3YWE0NDg5YmJiODFlYWMuYmluZFBvcHVwKHBvcHVwXzBhN2YyMzRjOTg2MTRkMTRiNTExOTE2M2Q3YTRiNTExKQogICAgICAgIDsKCiAgICAgICAgCiAgICAKICAgIAogICAgICAgICAgICB2YXIgY2lyY2xlX21hcmtlcl9iMjIxYzQyZmNmODk0ZTc5YmQyZGE0YTUzYjI4MjlkNCA9IEwuY2lyY2xlTWFya2VyKAogICAgICAgICAgICAgICAgWzQwLjczOTY3MzA0NzYzODQyNiwgLTczLjk5MDk0NzEwNTI4MjZdLAogICAgICAgICAgICAgICAgeyJidWJibGluZ01vdXNlRXZlbnRzIjogdHJ1ZSwgImNvbG9yIjogIiM4MDAwZmYiLCAiZGFzaEFycmF5IjogbnVsbCwgImRhc2hPZmZzZXQiOiBudWxsLCAiZmlsbCI6IHRydWUsICJmaWxsQ29sb3IiOiAiIzgwMDBmZiIsICJmaWxsT3BhY2l0eSI6IDAuNywgImZpbGxSdWxlIjogImV2ZW5vZGQiLCAibGluZUNhcCI6ICJyb3VuZCIsICJsaW5lSm9pbiI6ICJyb3VuZCIsICJvcGFjaXR5IjogMS4wLCAicmFkaXVzIjogNSwgInN0cm9rZSI6IHRydWUsICJ3ZWlnaHQiOiAzfQogICAgICAgICAgICApLmFkZFRvKG1hcF82YWMwMjIwYTY4ZjI0MWM4YWFiZGJkOTNhZjM4M2I4YSk7CiAgICAgICAgCiAgICAKICAgICAgICB2YXIgcG9wdXBfM2IwYTU2ODE3MjU3NDRmODkxZjdkNDZhZDYzYTA3YzYgPSBMLnBvcHVwKHsibWF4V2lkdGgiOiAiMTAwJSJ9KTsKCiAgICAgICAgCiAgICAgICAgICAgIHZhciBodG1sXzA4ZDBhMDI3MWIwNTQxMDBhNjlhNzc4MDkzYmMyNWM2ID0gJChgPGRpdiBpZD0iaHRtbF8wOGQwYTAyNzFiMDU0MTAwYTY5YTc3ODA5M2JjMjVjNiIgc3R5bGU9IndpZHRoOiAxMDAuMCU7IGhlaWdodDogMTAwLjAlOyI+RmxhdGlyb24gQ2x1c3RlciAxPC9kaXY+YClbMF07CiAgICAgICAgICAgIHBvcHVwXzNiMGE1NjgxNzI1NzQ0Zjg5MWY3ZDQ2YWQ2M2EwN2M2LnNldENvbnRlbnQoaHRtbF8wOGQwYTAyNzFiMDU0MTAwYTY5YTc3ODA5M2JjMjVjNik7CiAgICAgICAgCgogICAgICAgIGNpcmNsZV9tYXJrZXJfYjIyMWM0MmZjZjg5NGU3OWJkMmRhNGE1M2IyODI5ZDQuYmluZFBvcHVwKHBvcHVwXzNiMGE1NjgxNzI1NzQ0Zjg5MWY3ZDQ2YWQ2M2EwN2M2KQogICAgICAgIDsKCiAgICAgICAgCiAgICAKICAgIAogICAgICAgICAgICB2YXIgY2lyY2xlX21hcmtlcl9lNzgwOTdlMjZjNjc0NjNmODk4OGRjZDkxNmNhODhlYSA9IEwuY2lyY2xlTWFya2VyKAogICAgICAgICAgICAgICAgWzQwLjc1NjY1ODA4MjI3NTE5LCAtNzQuMDAwMTExMzYyMDI2MzddLAogICAgICAgICAgICAgICAgeyJidWJibGluZ01vdXNlRXZlbnRzIjogdHJ1ZSwgImNvbG9yIjogIiMwMGI1ZWIiLCAiZGFzaEFycmF5IjogbnVsbCwgImRhc2hPZmZzZXQiOiBudWxsLCAiZmlsbCI6IHRydWUsICJmaWxsQ29sb3IiOiAiIzAwYjVlYiIsICJmaWxsT3BhY2l0eSI6IDAuNywgImZpbGxSdWxlIjogImV2ZW5vZGQiLCAibGluZUNhcCI6ICJyb3VuZCIsICJsaW5lSm9pbiI6ICJyb3VuZCIsICJvcGFjaXR5IjogMS4wLCAicmFkaXVzIjogNSwgInN0cm9rZSI6IHRydWUsICJ3ZWlnaHQiOiAzfQogICAgICAgICAgICApLmFkZFRvKG1hcF82YWMwMjIwYTY4ZjI0MWM4YWFiZGJkOTNhZjM4M2I4YSk7CiAgICAgICAgCiAgICAKICAgICAgICB2YXIgcG9wdXBfNTQyZDlhNTY1N2VkNDJmZGJkMjNiNTMyNjA0YzU0MTUgPSBMLnBvcHVwKHsibWF4V2lkdGgiOiAiMTAwJSJ9KTsKCiAgICAgICAgCiAgICAgICAgICAgIHZhciBodG1sXzQxZDA5ODI4MzlmYTQyMWViYmNiNzdhOTcxODA1NTMyID0gJChgPGRpdiBpZD0iaHRtbF80MWQwOTgyODM5ZmE0MjFlYmJjYjc3YTk3MTgwNTUzMiIgc3R5bGU9IndpZHRoOiAxMDAuMCU7IGhlaWdodDogMTAwLjAlOyI+SHVkc29uIFlhcmRzIENsdXN0ZXIgMjwvZGl2PmApWzBdOwogICAgICAgICAgICBwb3B1cF81NDJkOWE1NjU3ZWQ0MmZkYmQyM2I1MzI2MDRjNTQxNS5zZXRDb250ZW50KGh0bWxfNDFkMDk4MjgzOWZhNDIxZWJiY2I3N2E5NzE4MDU1MzIpOwogICAgICAgIAoKICAgICAgICBjaXJjbGVfbWFya2VyX2U3ODA5N2UyNmM2NzQ2M2Y4OTg4ZGNkOTE2Y2E4OGVhLmJpbmRQb3B1cChwb3B1cF81NDJkOWE1NjU3ZWQ0MmZkYmQyM2I1MzI2MDRjNTQxNSkKICAgICAgICA7CgogICAgICAgIAogICAgCjwvc2NyaXB0Pg== onload=\"this.contentDocument.open();this.contentDocument.write(atob(this.getAttribute('data-html')));this.contentDocument.close();\" allowfullscreen webkitallowfullscreen mozallowfullscreen></iframe></div></div>"
      ],
      "text/plain": [
       "<folium.folium.Map at 0x11db4f940>"
      ]
     },
     "execution_count": 142,
     "metadata": {},
     "output_type": "execute_result"
    }
   ],
   "source": [
    "# create map\n",
    "map_clusters = folium.Map(location=[latitude, longitude], zoom_start=11)\n",
    "\n",
    "# set color scheme for the clusters\n",
    "x = np.arange(kclusters)\n",
    "ys = [i + x + (i*x)**2 for i in range(kclusters)]\n",
    "colors_array = cm.rainbow(np.linspace(0, 1, len(ys)))\n",
    "rainbow = [colors.rgb2hex(i) for i in colors_array]\n",
    "\n",
    "# add markers to the map\n",
    "markers_colors = []\n",
    "for lat, lon, poi, cluster in zip(manhattan_merged['Latitude'], manhattan_merged['Longitude'], manhattan_merged['Neighborhood'], manhattan_merged['Cluster Labels']):\n",
    "    label = folium.Popup(str(poi) + ' Cluster ' + str(cluster), parse_html=True)\n",
    "    folium.CircleMarker(\n",
    "        [lat, lon],\n",
    "        radius=5,\n",
    "        popup=label,\n",
    "        color=rainbow[cluster-1],\n",
    "        fill=True,\n",
    "        fill_color=rainbow[cluster-1],\n",
    "        fill_opacity=0.7).add_to(map_clusters)\n",
    "       \n",
    "map_clusters"
   ]
  },
  {
   "cell_type": "markdown",
   "metadata": {},
   "source": [
    "<a id='item5'></a>"
   ]
  },
  {
   "cell_type": "markdown",
   "metadata": {},
   "source": [
    "## 5. Examine Clusters"
   ]
  },
  {
   "cell_type": "markdown",
   "metadata": {},
   "source": [
    "Now, you can examine each cluster and determine the discriminating venue categories that distinguish each cluster. Based on the defining categories, you can then assign a name to each cluster. I will leave this exercise to you."
   ]
  },
  {
   "cell_type": "markdown",
   "metadata": {},
   "source": [
    "#### Cluster 1"
   ]
  },
  {
   "cell_type": "code",
   "execution_count": 143,
   "metadata": {},
   "outputs": [
    {
     "data": {
      "text/html": [
       "<div>\n",
       "<style scoped>\n",
       "    .dataframe tbody tr th:only-of-type {\n",
       "        vertical-align: middle;\n",
       "    }\n",
       "\n",
       "    .dataframe tbody tr th {\n",
       "        vertical-align: top;\n",
       "    }\n",
       "\n",
       "    .dataframe thead th {\n",
       "        text-align: right;\n",
       "    }\n",
       "</style>\n",
       "<table border=\"1\" class=\"dataframe\">\n",
       "  <thead>\n",
       "    <tr style=\"text-align: right;\">\n",
       "      <th></th>\n",
       "      <th>Neighborhood</th>\n",
       "      <th>1st Most Common Venue</th>\n",
       "      <th>2nd Most Common Venue</th>\n",
       "      <th>3rd Most Common Venue</th>\n",
       "      <th>4th Most Common Venue</th>\n",
       "      <th>5th Most Common Venue</th>\n",
       "      <th>6th Most Common Venue</th>\n",
       "      <th>7th Most Common Venue</th>\n",
       "      <th>8th Most Common Venue</th>\n",
       "      <th>9th Most Common Venue</th>\n",
       "      <th>10th Most Common Venue</th>\n",
       "    </tr>\n",
       "  </thead>\n",
       "  <tbody>\n",
       "    <tr>\n",
       "      <th>13</th>\n",
       "      <td>Lincoln Square</td>\n",
       "      <td>Theater</td>\n",
       "      <td>Concert Hall</td>\n",
       "      <td>Plaza</td>\n",
       "      <td>Park</td>\n",
       "      <td>Opera House</td>\n",
       "      <td>Performing Arts Venue</td>\n",
       "      <td>Indie Movie Theater</td>\n",
       "      <td>American Restaurant</td>\n",
       "      <td>Gym / Fitness Center</td>\n",
       "      <td>Café</td>\n",
       "    </tr>\n",
       "  </tbody>\n",
       "</table>\n",
       "</div>"
      ],
      "text/plain": [
       "      Neighborhood 1st Most Common Venue 2nd Most Common Venue  \\\n",
       "13  Lincoln Square               Theater          Concert Hall   \n",
       "\n",
       "   3rd Most Common Venue 4th Most Common Venue 5th Most Common Venue  \\\n",
       "13                 Plaza                  Park           Opera House   \n",
       "\n",
       "    6th Most Common Venue 7th Most Common Venue 8th Most Common Venue  \\\n",
       "13  Performing Arts Venue   Indie Movie Theater   American Restaurant   \n",
       "\n",
       "   9th Most Common Venue 10th Most Common Venue  \n",
       "13  Gym / Fitness Center                   Café  "
      ]
     },
     "execution_count": 143,
     "metadata": {},
     "output_type": "execute_result"
    }
   ],
   "source": [
    "manhattan_merged.loc[manhattan_merged['Cluster Labels'] == 0, manhattan_merged.columns[[1] + list(range(5, manhattan_merged.shape[1]))]]"
   ]
  },
  {
   "cell_type": "markdown",
   "metadata": {},
   "source": [
    "#### Cluster 2"
   ]
  },
  {
   "cell_type": "code",
   "execution_count": 144,
   "metadata": {},
   "outputs": [
    {
     "data": {
      "text/html": [
       "<div>\n",
       "<style scoped>\n",
       "    .dataframe tbody tr th:only-of-type {\n",
       "        vertical-align: middle;\n",
       "    }\n",
       "\n",
       "    .dataframe tbody tr th {\n",
       "        vertical-align: top;\n",
       "    }\n",
       "\n",
       "    .dataframe thead th {\n",
       "        text-align: right;\n",
       "    }\n",
       "</style>\n",
       "<table border=\"1\" class=\"dataframe\">\n",
       "  <thead>\n",
       "    <tr style=\"text-align: right;\">\n",
       "      <th></th>\n",
       "      <th>Neighborhood</th>\n",
       "      <th>1st Most Common Venue</th>\n",
       "      <th>2nd Most Common Venue</th>\n",
       "      <th>3rd Most Common Venue</th>\n",
       "      <th>4th Most Common Venue</th>\n",
       "      <th>5th Most Common Venue</th>\n",
       "      <th>6th Most Common Venue</th>\n",
       "      <th>7th Most Common Venue</th>\n",
       "      <th>8th Most Common Venue</th>\n",
       "      <th>9th Most Common Venue</th>\n",
       "      <th>10th Most Common Venue</th>\n",
       "    </tr>\n",
       "  </thead>\n",
       "  <tbody>\n",
       "    <tr>\n",
       "      <th>1</th>\n",
       "      <td>Chinatown</td>\n",
       "      <td>Chinese Restaurant</td>\n",
       "      <td>Bubble Tea Shop</td>\n",
       "      <td>Salon / Barbershop</td>\n",
       "      <td>Dim Sum Restaurant</td>\n",
       "      <td>Noodle House</td>\n",
       "      <td>Hotpot Restaurant</td>\n",
       "      <td>Boutique</td>\n",
       "      <td>Spa</td>\n",
       "      <td>Vietnamese Restaurant</td>\n",
       "      <td>Bar</td>\n",
       "    </tr>\n",
       "    <tr>\n",
       "      <th>8</th>\n",
       "      <td>Upper East Side</td>\n",
       "      <td>Art Gallery</td>\n",
       "      <td>Italian Restaurant</td>\n",
       "      <td>Cosmetics Shop</td>\n",
       "      <td>Hotel</td>\n",
       "      <td>Boutique</td>\n",
       "      <td>Bridal Shop</td>\n",
       "      <td>Burrito Place</td>\n",
       "      <td>Spa</td>\n",
       "      <td>Snack Place</td>\n",
       "      <td>Shoe Store</td>\n",
       "    </tr>\n",
       "    <tr>\n",
       "      <th>9</th>\n",
       "      <td>Yorkville</td>\n",
       "      <td>Italian Restaurant</td>\n",
       "      <td>Sushi Restaurant</td>\n",
       "      <td>Pizza Place</td>\n",
       "      <td>Coffee Shop</td>\n",
       "      <td>Gym</td>\n",
       "      <td>Wine Shop</td>\n",
       "      <td>Playground</td>\n",
       "      <td>Café</td>\n",
       "      <td>Liquor Store</td>\n",
       "      <td>Gourmet Shop</td>\n",
       "    </tr>\n",
       "    <tr>\n",
       "      <th>10</th>\n",
       "      <td>Lenox Hill</td>\n",
       "      <td>Coffee Shop</td>\n",
       "      <td>Pizza Place</td>\n",
       "      <td>Salon / Barbershop</td>\n",
       "      <td>Salad Place</td>\n",
       "      <td>Gift Shop</td>\n",
       "      <td>Turkish Restaurant</td>\n",
       "      <td>Chinese Restaurant</td>\n",
       "      <td>Wine Shop</td>\n",
       "      <td>Gym</td>\n",
       "      <td>French Restaurant</td>\n",
       "    </tr>\n",
       "    <tr>\n",
       "      <th>12</th>\n",
       "      <td>Upper West Side</td>\n",
       "      <td>Italian Restaurant</td>\n",
       "      <td>American Restaurant</td>\n",
       "      <td>Southern / Soul Food Restaurant</td>\n",
       "      <td>Bakery</td>\n",
       "      <td>Bar</td>\n",
       "      <td>Gym / Fitness Center</td>\n",
       "      <td>Greek Restaurant</td>\n",
       "      <td>Mediterranean Restaurant</td>\n",
       "      <td>Bookstore</td>\n",
       "      <td>Movie Theater</td>\n",
       "    </tr>\n",
       "    <tr>\n",
       "      <th>14</th>\n",
       "      <td>Clinton</td>\n",
       "      <td>Theater</td>\n",
       "      <td>Coffee Shop</td>\n",
       "      <td>Hotel</td>\n",
       "      <td>Gym / Fitness Center</td>\n",
       "      <td>Restaurant</td>\n",
       "      <td>Sandwich Place</td>\n",
       "      <td>Wine Shop</td>\n",
       "      <td>Pizza Place</td>\n",
       "      <td>Lounge</td>\n",
       "      <td>Cocktail Bar</td>\n",
       "    </tr>\n",
       "    <tr>\n",
       "      <th>15</th>\n",
       "      <td>Midtown</td>\n",
       "      <td>Hotel</td>\n",
       "      <td>Bakery</td>\n",
       "      <td>Café</td>\n",
       "      <td>Coffee Shop</td>\n",
       "      <td>Tailor Shop</td>\n",
       "      <td>Bookstore</td>\n",
       "      <td>Sporting Goods Shop</td>\n",
       "      <td>Spa</td>\n",
       "      <td>Clothing Store</td>\n",
       "      <td>Sushi Restaurant</td>\n",
       "    </tr>\n",
       "    <tr>\n",
       "      <th>17</th>\n",
       "      <td>Chelsea</td>\n",
       "      <td>Ice Cream Shop</td>\n",
       "      <td>Theater</td>\n",
       "      <td>Coffee Shop</td>\n",
       "      <td>Nightclub</td>\n",
       "      <td>Middle Eastern Restaurant</td>\n",
       "      <td>French Restaurant</td>\n",
       "      <td>New American Restaurant</td>\n",
       "      <td>Fish Market</td>\n",
       "      <td>Market</td>\n",
       "      <td>Pizza Place</td>\n",
       "    </tr>\n",
       "    <tr>\n",
       "      <th>18</th>\n",
       "      <td>Greenwich Village</td>\n",
       "      <td>Italian Restaurant</td>\n",
       "      <td>Clothing Store</td>\n",
       "      <td>Café</td>\n",
       "      <td>Sushi Restaurant</td>\n",
       "      <td>French Restaurant</td>\n",
       "      <td>Sandwich Place</td>\n",
       "      <td>Electronics Store</td>\n",
       "      <td>Bubble Tea Shop</td>\n",
       "      <td>Burger Joint</td>\n",
       "      <td>Chinese Restaurant</td>\n",
       "    </tr>\n",
       "    <tr>\n",
       "      <th>19</th>\n",
       "      <td>East Village</td>\n",
       "      <td>Bar</td>\n",
       "      <td>Mexican Restaurant</td>\n",
       "      <td>Cocktail Bar</td>\n",
       "      <td>Pizza Place</td>\n",
       "      <td>Wine Bar</td>\n",
       "      <td>Ice Cream Shop</td>\n",
       "      <td>Bagel Shop</td>\n",
       "      <td>Filipino Restaurant</td>\n",
       "      <td>Dessert Shop</td>\n",
       "      <td>Coffee Shop</td>\n",
       "    </tr>\n",
       "    <tr>\n",
       "      <th>21</th>\n",
       "      <td>Tribeca</td>\n",
       "      <td>Spa</td>\n",
       "      <td>Boutique</td>\n",
       "      <td>Greek Restaurant</td>\n",
       "      <td>American Restaurant</td>\n",
       "      <td>Wine Shop</td>\n",
       "      <td>Skate Park</td>\n",
       "      <td>Playground</td>\n",
       "      <td>Park</td>\n",
       "      <td>Harbor / Marina</td>\n",
       "      <td>Salad Place</td>\n",
       "    </tr>\n",
       "    <tr>\n",
       "      <th>22</th>\n",
       "      <td>Little Italy</td>\n",
       "      <td>Bakery</td>\n",
       "      <td>Italian Restaurant</td>\n",
       "      <td>Café</td>\n",
       "      <td>Cocktail Bar</td>\n",
       "      <td>Bubble Tea Shop</td>\n",
       "      <td>Pizza Place</td>\n",
       "      <td>Ice Cream Shop</td>\n",
       "      <td>Sandwich Place</td>\n",
       "      <td>Salon / Barbershop</td>\n",
       "      <td>Mediterranean Restaurant</td>\n",
       "    </tr>\n",
       "    <tr>\n",
       "      <th>23</th>\n",
       "      <td>Soho</td>\n",
       "      <td>Italian Restaurant</td>\n",
       "      <td>Mediterranean Restaurant</td>\n",
       "      <td>Bakery</td>\n",
       "      <td>Dessert Shop</td>\n",
       "      <td>Clothing Store</td>\n",
       "      <td>Salon / Barbershop</td>\n",
       "      <td>Sporting Goods Shop</td>\n",
       "      <td>Miscellaneous Shop</td>\n",
       "      <td>Pizza Place</td>\n",
       "      <td>Mexican Restaurant</td>\n",
       "    </tr>\n",
       "    <tr>\n",
       "      <th>24</th>\n",
       "      <td>West Village</td>\n",
       "      <td>Italian Restaurant</td>\n",
       "      <td>Cosmetics Shop</td>\n",
       "      <td>Coffee Shop</td>\n",
       "      <td>Cocktail Bar</td>\n",
       "      <td>American Restaurant</td>\n",
       "      <td>Wine Bar</td>\n",
       "      <td>Chinese Restaurant</td>\n",
       "      <td>Gastropub</td>\n",
       "      <td>French Restaurant</td>\n",
       "      <td>Gourmet Shop</td>\n",
       "    </tr>\n",
       "    <tr>\n",
       "      <th>25</th>\n",
       "      <td>Manhattan Valley</td>\n",
       "      <td>Italian Restaurant</td>\n",
       "      <td>Hostel</td>\n",
       "      <td>Coffee Shop</td>\n",
       "      <td>Mexican Restaurant</td>\n",
       "      <td>Korean Restaurant</td>\n",
       "      <td>Bar</td>\n",
       "      <td>Bike Shop</td>\n",
       "      <td>Vietnamese Restaurant</td>\n",
       "      <td>Flower Shop</td>\n",
       "      <td>Fish Market</td>\n",
       "    </tr>\n",
       "    <tr>\n",
       "      <th>27</th>\n",
       "      <td>Gramercy</td>\n",
       "      <td>Thai Restaurant</td>\n",
       "      <td>Coffee Shop</td>\n",
       "      <td>Bagel Shop</td>\n",
       "      <td>Thrift / Vintage Store</td>\n",
       "      <td>Diner</td>\n",
       "      <td>Wine Shop</td>\n",
       "      <td>Spa</td>\n",
       "      <td>Pizza Place</td>\n",
       "      <td>Bar</td>\n",
       "      <td>Yoga Studio</td>\n",
       "    </tr>\n",
       "    <tr>\n",
       "      <th>29</th>\n",
       "      <td>Financial District</td>\n",
       "      <td>Coffee Shop</td>\n",
       "      <td>Bar</td>\n",
       "      <td>Event Space</td>\n",
       "      <td>Pizza Place</td>\n",
       "      <td>Steakhouse</td>\n",
       "      <td>Mexican Restaurant</td>\n",
       "      <td>American Restaurant</td>\n",
       "      <td>Monument / Landmark</td>\n",
       "      <td>Gym / Fitness Center</td>\n",
       "      <td>Italian Restaurant</td>\n",
       "    </tr>\n",
       "    <tr>\n",
       "      <th>30</th>\n",
       "      <td>Carnegie Hill</td>\n",
       "      <td>Café</td>\n",
       "      <td>Italian Restaurant</td>\n",
       "      <td>Gym / Fitness Center</td>\n",
       "      <td>Coffee Shop</td>\n",
       "      <td>Bar</td>\n",
       "      <td>Sushi Restaurant</td>\n",
       "      <td>Gym</td>\n",
       "      <td>Pizza Place</td>\n",
       "      <td>Wine Bar</td>\n",
       "      <td>Concert Hall</td>\n",
       "    </tr>\n",
       "    <tr>\n",
       "      <th>31</th>\n",
       "      <td>Noho</td>\n",
       "      <td>Italian Restaurant</td>\n",
       "      <td>Wine Shop</td>\n",
       "      <td>Grocery Store</td>\n",
       "      <td>Coffee Shop</td>\n",
       "      <td>Rock Club</td>\n",
       "      <td>Ice Cream Shop</td>\n",
       "      <td>Mexican Restaurant</td>\n",
       "      <td>French Restaurant</td>\n",
       "      <td>Boutique</td>\n",
       "      <td>Southern / Soul Food Restaurant</td>\n",
       "    </tr>\n",
       "    <tr>\n",
       "      <th>32</th>\n",
       "      <td>Civic Center</td>\n",
       "      <td>Gym / Fitness Center</td>\n",
       "      <td>French Restaurant</td>\n",
       "      <td>Martial Arts Dojo</td>\n",
       "      <td>Plaza</td>\n",
       "      <td>Coffee Shop</td>\n",
       "      <td>Spa</td>\n",
       "      <td>Sushi Restaurant</td>\n",
       "      <td>Gym</td>\n",
       "      <td>Massage Studio</td>\n",
       "      <td>Steakhouse</td>\n",
       "    </tr>\n",
       "    <tr>\n",
       "      <th>33</th>\n",
       "      <td>Midtown South</td>\n",
       "      <td>Korean Restaurant</td>\n",
       "      <td>Hotel</td>\n",
       "      <td>Fried Chicken Joint</td>\n",
       "      <td>Lingerie Store</td>\n",
       "      <td>Dessert Shop</td>\n",
       "      <td>Cosmetics Shop</td>\n",
       "      <td>Coffee Shop</td>\n",
       "      <td>Scenic Lookout</td>\n",
       "      <td>Cocktail Bar</td>\n",
       "      <td>Snack Place</td>\n",
       "    </tr>\n",
       "    <tr>\n",
       "      <th>34</th>\n",
       "      <td>Sutton Place</td>\n",
       "      <td>Gym</td>\n",
       "      <td>Gym / Fitness Center</td>\n",
       "      <td>Juice Bar</td>\n",
       "      <td>Yoga Studio</td>\n",
       "      <td>Pizza Place</td>\n",
       "      <td>Beer Garden</td>\n",
       "      <td>Coffee Shop</td>\n",
       "      <td>Furniture / Home Store</td>\n",
       "      <td>Grocery Store</td>\n",
       "      <td>Italian Restaurant</td>\n",
       "    </tr>\n",
       "    <tr>\n",
       "      <th>38</th>\n",
       "      <td>Flatiron</td>\n",
       "      <td>Japanese Restaurant</td>\n",
       "      <td>Yoga Studio</td>\n",
       "      <td>Toy / Game Store</td>\n",
       "      <td>Sporting Goods Shop</td>\n",
       "      <td>Café</td>\n",
       "      <td>Coffee Shop</td>\n",
       "      <td>Dessert Shop</td>\n",
       "      <td>New American Restaurant</td>\n",
       "      <td>Spa</td>\n",
       "      <td>Sandwich Place</td>\n",
       "    </tr>\n",
       "  </tbody>\n",
       "</table>\n",
       "</div>"
      ],
      "text/plain": [
       "          Neighborhood 1st Most Common Venue     2nd Most Common Venue  \\\n",
       "1            Chinatown    Chinese Restaurant           Bubble Tea Shop   \n",
       "8      Upper East Side           Art Gallery        Italian Restaurant   \n",
       "9            Yorkville    Italian Restaurant          Sushi Restaurant   \n",
       "10          Lenox Hill           Coffee Shop               Pizza Place   \n",
       "12     Upper West Side    Italian Restaurant       American Restaurant   \n",
       "14             Clinton               Theater               Coffee Shop   \n",
       "15             Midtown                 Hotel                    Bakery   \n",
       "17             Chelsea        Ice Cream Shop                   Theater   \n",
       "18   Greenwich Village    Italian Restaurant            Clothing Store   \n",
       "19        East Village                   Bar        Mexican Restaurant   \n",
       "21             Tribeca                   Spa                  Boutique   \n",
       "22        Little Italy                Bakery        Italian Restaurant   \n",
       "23                Soho    Italian Restaurant  Mediterranean Restaurant   \n",
       "24        West Village    Italian Restaurant            Cosmetics Shop   \n",
       "25    Manhattan Valley    Italian Restaurant                    Hostel   \n",
       "27            Gramercy       Thai Restaurant               Coffee Shop   \n",
       "29  Financial District           Coffee Shop                       Bar   \n",
       "30       Carnegie Hill                  Café        Italian Restaurant   \n",
       "31                Noho    Italian Restaurant                 Wine Shop   \n",
       "32        Civic Center  Gym / Fitness Center         French Restaurant   \n",
       "33       Midtown South     Korean Restaurant                     Hotel   \n",
       "34        Sutton Place                   Gym      Gym / Fitness Center   \n",
       "38            Flatiron   Japanese Restaurant               Yoga Studio   \n",
       "\n",
       "              3rd Most Common Venue   4th Most Common Venue  \\\n",
       "1                Salon / Barbershop      Dim Sum Restaurant   \n",
       "8                    Cosmetics Shop                   Hotel   \n",
       "9                       Pizza Place             Coffee Shop   \n",
       "10               Salon / Barbershop             Salad Place   \n",
       "12  Southern / Soul Food Restaurant                  Bakery   \n",
       "14                            Hotel    Gym / Fitness Center   \n",
       "15                             Café             Coffee Shop   \n",
       "17                      Coffee Shop               Nightclub   \n",
       "18                             Café        Sushi Restaurant   \n",
       "19                     Cocktail Bar             Pizza Place   \n",
       "21                 Greek Restaurant     American Restaurant   \n",
       "22                             Café            Cocktail Bar   \n",
       "23                           Bakery            Dessert Shop   \n",
       "24                      Coffee Shop            Cocktail Bar   \n",
       "25                      Coffee Shop      Mexican Restaurant   \n",
       "27                       Bagel Shop  Thrift / Vintage Store   \n",
       "29                      Event Space             Pizza Place   \n",
       "30             Gym / Fitness Center             Coffee Shop   \n",
       "31                    Grocery Store             Coffee Shop   \n",
       "32                Martial Arts Dojo                   Plaza   \n",
       "33              Fried Chicken Joint          Lingerie Store   \n",
       "34                        Juice Bar             Yoga Studio   \n",
       "38                 Toy / Game Store     Sporting Goods Shop   \n",
       "\n",
       "        5th Most Common Venue 6th Most Common Venue    7th Most Common Venue  \\\n",
       "1                Noodle House     Hotpot Restaurant                 Boutique   \n",
       "8                    Boutique           Bridal Shop            Burrito Place   \n",
       "9                         Gym             Wine Shop               Playground   \n",
       "10                  Gift Shop    Turkish Restaurant       Chinese Restaurant   \n",
       "12                        Bar  Gym / Fitness Center         Greek Restaurant   \n",
       "14                 Restaurant        Sandwich Place                Wine Shop   \n",
       "15                Tailor Shop             Bookstore      Sporting Goods Shop   \n",
       "17  Middle Eastern Restaurant     French Restaurant  New American Restaurant   \n",
       "18          French Restaurant        Sandwich Place        Electronics Store   \n",
       "19                   Wine Bar        Ice Cream Shop               Bagel Shop   \n",
       "21                  Wine Shop            Skate Park               Playground   \n",
       "22            Bubble Tea Shop           Pizza Place           Ice Cream Shop   \n",
       "23             Clothing Store    Salon / Barbershop      Sporting Goods Shop   \n",
       "24        American Restaurant              Wine Bar       Chinese Restaurant   \n",
       "25          Korean Restaurant                   Bar                Bike Shop   \n",
       "27                      Diner             Wine Shop                      Spa   \n",
       "29                 Steakhouse    Mexican Restaurant      American Restaurant   \n",
       "30                        Bar      Sushi Restaurant                      Gym   \n",
       "31                  Rock Club        Ice Cream Shop       Mexican Restaurant   \n",
       "32                Coffee Shop                   Spa         Sushi Restaurant   \n",
       "33               Dessert Shop        Cosmetics Shop              Coffee Shop   \n",
       "34                Pizza Place           Beer Garden              Coffee Shop   \n",
       "38                       Café           Coffee Shop             Dessert Shop   \n",
       "\n",
       "       8th Most Common Venue  9th Most Common Venue  \\\n",
       "1                        Spa  Vietnamese Restaurant   \n",
       "8                        Spa            Snack Place   \n",
       "9                       Café           Liquor Store   \n",
       "10                 Wine Shop                    Gym   \n",
       "12  Mediterranean Restaurant              Bookstore   \n",
       "14               Pizza Place                 Lounge   \n",
       "15                       Spa         Clothing Store   \n",
       "17               Fish Market                 Market   \n",
       "18           Bubble Tea Shop           Burger Joint   \n",
       "19       Filipino Restaurant           Dessert Shop   \n",
       "21                      Park        Harbor / Marina   \n",
       "22            Sandwich Place     Salon / Barbershop   \n",
       "23        Miscellaneous Shop            Pizza Place   \n",
       "24                 Gastropub      French Restaurant   \n",
       "25     Vietnamese Restaurant            Flower Shop   \n",
       "27               Pizza Place                    Bar   \n",
       "29       Monument / Landmark   Gym / Fitness Center   \n",
       "30               Pizza Place               Wine Bar   \n",
       "31         French Restaurant               Boutique   \n",
       "32                       Gym         Massage Studio   \n",
       "33            Scenic Lookout           Cocktail Bar   \n",
       "34    Furniture / Home Store          Grocery Store   \n",
       "38   New American Restaurant                    Spa   \n",
       "\n",
       "             10th Most Common Venue  \n",
       "1                               Bar  \n",
       "8                        Shoe Store  \n",
       "9                      Gourmet Shop  \n",
       "10                French Restaurant  \n",
       "12                    Movie Theater  \n",
       "14                     Cocktail Bar  \n",
       "15                 Sushi Restaurant  \n",
       "17                      Pizza Place  \n",
       "18               Chinese Restaurant  \n",
       "19                      Coffee Shop  \n",
       "21                      Salad Place  \n",
       "22         Mediterranean Restaurant  \n",
       "23               Mexican Restaurant  \n",
       "24                     Gourmet Shop  \n",
       "25                      Fish Market  \n",
       "27                      Yoga Studio  \n",
       "29               Italian Restaurant  \n",
       "30                     Concert Hall  \n",
       "31  Southern / Soul Food Restaurant  \n",
       "32                       Steakhouse  \n",
       "33                      Snack Place  \n",
       "34               Italian Restaurant  \n",
       "38                   Sandwich Place  "
      ]
     },
     "execution_count": 144,
     "metadata": {},
     "output_type": "execute_result"
    }
   ],
   "source": [
    "manhattan_merged.loc[manhattan_merged['Cluster Labels'] == 1, manhattan_merged.columns[[1] + list(range(5, manhattan_merged.shape[1]))]]"
   ]
  },
  {
   "cell_type": "markdown",
   "metadata": {},
   "source": [
    "#### Cluster 3"
   ]
  },
  {
   "cell_type": "code",
   "execution_count": 145,
   "metadata": {},
   "outputs": [
    {
     "data": {
      "text/html": [
       "<div>\n",
       "<style scoped>\n",
       "    .dataframe tbody tr th:only-of-type {\n",
       "        vertical-align: middle;\n",
       "    }\n",
       "\n",
       "    .dataframe tbody tr th {\n",
       "        vertical-align: top;\n",
       "    }\n",
       "\n",
       "    .dataframe thead th {\n",
       "        text-align: right;\n",
       "    }\n",
       "</style>\n",
       "<table border=\"1\" class=\"dataframe\">\n",
       "  <thead>\n",
       "    <tr style=\"text-align: right;\">\n",
       "      <th></th>\n",
       "      <th>Neighborhood</th>\n",
       "      <th>1st Most Common Venue</th>\n",
       "      <th>2nd Most Common Venue</th>\n",
       "      <th>3rd Most Common Venue</th>\n",
       "      <th>4th Most Common Venue</th>\n",
       "      <th>5th Most Common Venue</th>\n",
       "      <th>6th Most Common Venue</th>\n",
       "      <th>7th Most Common Venue</th>\n",
       "      <th>8th Most Common Venue</th>\n",
       "      <th>9th Most Common Venue</th>\n",
       "      <th>10th Most Common Venue</th>\n",
       "    </tr>\n",
       "  </thead>\n",
       "  <tbody>\n",
       "    <tr>\n",
       "      <th>2</th>\n",
       "      <td>Washington Heights</td>\n",
       "      <td>Chinese Restaurant</td>\n",
       "      <td>Deli / Bodega</td>\n",
       "      <td>Café</td>\n",
       "      <td>Coffee Shop</td>\n",
       "      <td>Park</td>\n",
       "      <td>Grocery Store</td>\n",
       "      <td>Donut Shop</td>\n",
       "      <td>Pizza Place</td>\n",
       "      <td>Mobile Phone Shop</td>\n",
       "      <td>Bakery</td>\n",
       "    </tr>\n",
       "    <tr>\n",
       "      <th>3</th>\n",
       "      <td>Inwood</td>\n",
       "      <td>Deli / Bodega</td>\n",
       "      <td>Frozen Yogurt Shop</td>\n",
       "      <td>Wine Bar</td>\n",
       "      <td>Café</td>\n",
       "      <td>American Restaurant</td>\n",
       "      <td>Restaurant</td>\n",
       "      <td>Bakery</td>\n",
       "      <td>Chinese Restaurant</td>\n",
       "      <td>Mexican Restaurant</td>\n",
       "      <td>Spanish Restaurant</td>\n",
       "    </tr>\n",
       "    <tr>\n",
       "      <th>4</th>\n",
       "      <td>Hamilton Heights</td>\n",
       "      <td>Mexican Restaurant</td>\n",
       "      <td>Café</td>\n",
       "      <td>Deli / Bodega</td>\n",
       "      <td>Yoga Studio</td>\n",
       "      <td>Cocktail Bar</td>\n",
       "      <td>Pizza Place</td>\n",
       "      <td>Donut Shop</td>\n",
       "      <td>Coffee Shop</td>\n",
       "      <td>Pub</td>\n",
       "      <td>Chinese Restaurant</td>\n",
       "    </tr>\n",
       "    <tr>\n",
       "      <th>5</th>\n",
       "      <td>Manhattanville</td>\n",
       "      <td>Café</td>\n",
       "      <td>Coffee Shop</td>\n",
       "      <td>Pizza Place</td>\n",
       "      <td>Bank</td>\n",
       "      <td>Chinese Restaurant</td>\n",
       "      <td>Shipping Store</td>\n",
       "      <td>Climbing Gym</td>\n",
       "      <td>Gas Station</td>\n",
       "      <td>Gastropub</td>\n",
       "      <td>Sandwich Place</td>\n",
       "    </tr>\n",
       "    <tr>\n",
       "      <th>6</th>\n",
       "      <td>Central Harlem</td>\n",
       "      <td>Caribbean Restaurant</td>\n",
       "      <td>African Restaurant</td>\n",
       "      <td>Fried Chicken Joint</td>\n",
       "      <td>Deli / Bodega</td>\n",
       "      <td>Flower Shop</td>\n",
       "      <td>Beer Bar</td>\n",
       "      <td>Gym / Fitness Center</td>\n",
       "      <td>Lounge</td>\n",
       "      <td>Ethiopian Restaurant</td>\n",
       "      <td>Cocktail Bar</td>\n",
       "    </tr>\n",
       "    <tr>\n",
       "      <th>7</th>\n",
       "      <td>East Harlem</td>\n",
       "      <td>Mexican Restaurant</td>\n",
       "      <td>Donut Shop</td>\n",
       "      <td>Doctor's Office</td>\n",
       "      <td>Thai Restaurant</td>\n",
       "      <td>Bakery</td>\n",
       "      <td>Park</td>\n",
       "      <td>Latin American Restaurant</td>\n",
       "      <td>Pharmacy</td>\n",
       "      <td>Beer Bar</td>\n",
       "      <td>Street Art</td>\n",
       "    </tr>\n",
       "    <tr>\n",
       "      <th>11</th>\n",
       "      <td>Roosevelt Island</td>\n",
       "      <td>Baseball Field</td>\n",
       "      <td>Deli / Bodega</td>\n",
       "      <td>Food &amp; Drink Shop</td>\n",
       "      <td>Monument / Landmark</td>\n",
       "      <td>Greek Restaurant</td>\n",
       "      <td>Restaurant</td>\n",
       "      <td>Supermarket</td>\n",
       "      <td>School</td>\n",
       "      <td>Liquor Store</td>\n",
       "      <td>Farmers Market</td>\n",
       "    </tr>\n",
       "    <tr>\n",
       "      <th>16</th>\n",
       "      <td>Murray Hill</td>\n",
       "      <td>Hotel</td>\n",
       "      <td>Burger Joint</td>\n",
       "      <td>Tea Room</td>\n",
       "      <td>Deli / Bodega</td>\n",
       "      <td>Bar</td>\n",
       "      <td>Liquor Store</td>\n",
       "      <td>Shanghai Restaurant</td>\n",
       "      <td>Bagel Shop</td>\n",
       "      <td>Coffee Shop</td>\n",
       "      <td>French Restaurant</td>\n",
       "    </tr>\n",
       "    <tr>\n",
       "      <th>26</th>\n",
       "      <td>Morningside Heights</td>\n",
       "      <td>American Restaurant</td>\n",
       "      <td>Park</td>\n",
       "      <td>Sandwich Place</td>\n",
       "      <td>Ice Cream Shop</td>\n",
       "      <td>Salad Place</td>\n",
       "      <td>Café</td>\n",
       "      <td>Bookstore</td>\n",
       "      <td>Mexican Restaurant</td>\n",
       "      <td>Farmers Market</td>\n",
       "      <td>Outdoor Sculpture</td>\n",
       "    </tr>\n",
       "    <tr>\n",
       "      <th>28</th>\n",
       "      <td>Battery Park City</td>\n",
       "      <td>Park</td>\n",
       "      <td>Coffee Shop</td>\n",
       "      <td>Sandwich Place</td>\n",
       "      <td>Food Court</td>\n",
       "      <td>Gourmet Shop</td>\n",
       "      <td>Gastropub</td>\n",
       "      <td>Boat or Ferry</td>\n",
       "      <td>Boutique</td>\n",
       "      <td>Burrito Place</td>\n",
       "      <td>Smoke Shop</td>\n",
       "    </tr>\n",
       "    <tr>\n",
       "      <th>35</th>\n",
       "      <td>Turtle Bay</td>\n",
       "      <td>Café</td>\n",
       "      <td>Deli / Bodega</td>\n",
       "      <td>Turkish Restaurant</td>\n",
       "      <td>Coffee Shop</td>\n",
       "      <td>Karaoke Bar</td>\n",
       "      <td>Plaza</td>\n",
       "      <td>Sushi Restaurant</td>\n",
       "      <td>Garden</td>\n",
       "      <td>Liquor Store</td>\n",
       "      <td>Lounge</td>\n",
       "    </tr>\n",
       "    <tr>\n",
       "      <th>36</th>\n",
       "      <td>Tudor City</td>\n",
       "      <td>Park</td>\n",
       "      <td>Deli / Bodega</td>\n",
       "      <td>Pet Store</td>\n",
       "      <td>Yoga Studio</td>\n",
       "      <td>Asian Restaurant</td>\n",
       "      <td>Bridge</td>\n",
       "      <td>Bus Stop</td>\n",
       "      <td>Café</td>\n",
       "      <td>Taco Place</td>\n",
       "      <td>Seafood Restaurant</td>\n",
       "    </tr>\n",
       "    <tr>\n",
       "      <th>39</th>\n",
       "      <td>Hudson Yards</td>\n",
       "      <td>Food Truck</td>\n",
       "      <td>American Restaurant</td>\n",
       "      <td>Hotel</td>\n",
       "      <td>Theater</td>\n",
       "      <td>BBQ Joint</td>\n",
       "      <td>Café</td>\n",
       "      <td>Music School</td>\n",
       "      <td>New American Restaurant</td>\n",
       "      <td>Shipping Store</td>\n",
       "      <td>Nightclub</td>\n",
       "    </tr>\n",
       "  </tbody>\n",
       "</table>\n",
       "</div>"
      ],
      "text/plain": [
       "           Neighborhood 1st Most Common Venue 2nd Most Common Venue  \\\n",
       "2    Washington Heights    Chinese Restaurant         Deli / Bodega   \n",
       "3                Inwood         Deli / Bodega    Frozen Yogurt Shop   \n",
       "4      Hamilton Heights    Mexican Restaurant                  Café   \n",
       "5        Manhattanville                  Café           Coffee Shop   \n",
       "6        Central Harlem  Caribbean Restaurant    African Restaurant   \n",
       "7           East Harlem    Mexican Restaurant            Donut Shop   \n",
       "11     Roosevelt Island        Baseball Field         Deli / Bodega   \n",
       "16          Murray Hill                 Hotel          Burger Joint   \n",
       "26  Morningside Heights   American Restaurant                  Park   \n",
       "28    Battery Park City                  Park           Coffee Shop   \n",
       "35           Turtle Bay                  Café         Deli / Bodega   \n",
       "36           Tudor City                  Park         Deli / Bodega   \n",
       "39         Hudson Yards            Food Truck   American Restaurant   \n",
       "\n",
       "   3rd Most Common Venue 4th Most Common Venue 5th Most Common Venue  \\\n",
       "2                   Café           Coffee Shop                  Park   \n",
       "3               Wine Bar                  Café   American Restaurant   \n",
       "4          Deli / Bodega           Yoga Studio          Cocktail Bar   \n",
       "5            Pizza Place                  Bank    Chinese Restaurant   \n",
       "6    Fried Chicken Joint         Deli / Bodega           Flower Shop   \n",
       "7        Doctor's Office       Thai Restaurant                Bakery   \n",
       "11     Food & Drink Shop   Monument / Landmark      Greek Restaurant   \n",
       "16              Tea Room         Deli / Bodega                   Bar   \n",
       "26        Sandwich Place        Ice Cream Shop           Salad Place   \n",
       "28        Sandwich Place            Food Court          Gourmet Shop   \n",
       "35    Turkish Restaurant           Coffee Shop           Karaoke Bar   \n",
       "36             Pet Store           Yoga Studio      Asian Restaurant   \n",
       "39                 Hotel               Theater             BBQ Joint   \n",
       "\n",
       "   6th Most Common Venue      7th Most Common Venue    8th Most Common Venue  \\\n",
       "2          Grocery Store                 Donut Shop              Pizza Place   \n",
       "3             Restaurant                     Bakery       Chinese Restaurant   \n",
       "4            Pizza Place                 Donut Shop              Coffee Shop   \n",
       "5         Shipping Store               Climbing Gym              Gas Station   \n",
       "6               Beer Bar       Gym / Fitness Center                   Lounge   \n",
       "7                   Park  Latin American Restaurant                 Pharmacy   \n",
       "11            Restaurant                Supermarket                   School   \n",
       "16          Liquor Store        Shanghai Restaurant               Bagel Shop   \n",
       "26                  Café                  Bookstore       Mexican Restaurant   \n",
       "28             Gastropub              Boat or Ferry                 Boutique   \n",
       "35                 Plaza           Sushi Restaurant                   Garden   \n",
       "36                Bridge                   Bus Stop                     Café   \n",
       "39                  Café               Music School  New American Restaurant   \n",
       "\n",
       "   9th Most Common Venue 10th Most Common Venue  \n",
       "2      Mobile Phone Shop                 Bakery  \n",
       "3     Mexican Restaurant     Spanish Restaurant  \n",
       "4                    Pub     Chinese Restaurant  \n",
       "5              Gastropub         Sandwich Place  \n",
       "6   Ethiopian Restaurant           Cocktail Bar  \n",
       "7               Beer Bar             Street Art  \n",
       "11          Liquor Store         Farmers Market  \n",
       "16           Coffee Shop      French Restaurant  \n",
       "26        Farmers Market      Outdoor Sculpture  \n",
       "28         Burrito Place             Smoke Shop  \n",
       "35          Liquor Store                 Lounge  \n",
       "36            Taco Place     Seafood Restaurant  \n",
       "39        Shipping Store              Nightclub  "
      ]
     },
     "execution_count": 145,
     "metadata": {},
     "output_type": "execute_result"
    }
   ],
   "source": [
    "manhattan_merged.loc[manhattan_merged['Cluster Labels'] == 2, manhattan_merged.columns[[1] + list(range(5, manhattan_merged.shape[1]))]]"
   ]
  },
  {
   "cell_type": "markdown",
   "metadata": {},
   "source": [
    "#### Cluster 4"
   ]
  },
  {
   "cell_type": "code",
   "execution_count": 146,
   "metadata": {},
   "outputs": [
    {
     "data": {
      "text/html": [
       "<div>\n",
       "<style scoped>\n",
       "    .dataframe tbody tr th:only-of-type {\n",
       "        vertical-align: middle;\n",
       "    }\n",
       "\n",
       "    .dataframe tbody tr th {\n",
       "        vertical-align: top;\n",
       "    }\n",
       "\n",
       "    .dataframe thead th {\n",
       "        text-align: right;\n",
       "    }\n",
       "</style>\n",
       "<table border=\"1\" class=\"dataframe\">\n",
       "  <thead>\n",
       "    <tr style=\"text-align: right;\">\n",
       "      <th></th>\n",
       "      <th>Neighborhood</th>\n",
       "      <th>1st Most Common Venue</th>\n",
       "      <th>2nd Most Common Venue</th>\n",
       "      <th>3rd Most Common Venue</th>\n",
       "      <th>4th Most Common Venue</th>\n",
       "      <th>5th Most Common Venue</th>\n",
       "      <th>6th Most Common Venue</th>\n",
       "      <th>7th Most Common Venue</th>\n",
       "      <th>8th Most Common Venue</th>\n",
       "      <th>9th Most Common Venue</th>\n",
       "      <th>10th Most Common Venue</th>\n",
       "    </tr>\n",
       "  </thead>\n",
       "  <tbody>\n",
       "    <tr>\n",
       "      <th>37</th>\n",
       "      <td>Stuyvesant Town</td>\n",
       "      <td>Park</td>\n",
       "      <td>Playground</td>\n",
       "      <td>Bike Rental / Bike Share</td>\n",
       "      <td>Baseball Field</td>\n",
       "      <td>Gym / Fitness Center</td>\n",
       "      <td>Athletics &amp; Sports</td>\n",
       "      <td>Tennis Court</td>\n",
       "      <td>Flower Shop</td>\n",
       "      <td>Fish Market</td>\n",
       "      <td>Filipino Restaurant</td>\n",
       "    </tr>\n",
       "  </tbody>\n",
       "</table>\n",
       "</div>"
      ],
      "text/plain": [
       "       Neighborhood 1st Most Common Venue 2nd Most Common Venue  \\\n",
       "37  Stuyvesant Town                  Park            Playground   \n",
       "\n",
       "       3rd Most Common Venue 4th Most Common Venue 5th Most Common Venue  \\\n",
       "37  Bike Rental / Bike Share        Baseball Field  Gym / Fitness Center   \n",
       "\n",
       "   6th Most Common Venue 7th Most Common Venue 8th Most Common Venue  \\\n",
       "37    Athletics & Sports          Tennis Court           Flower Shop   \n",
       "\n",
       "   9th Most Common Venue 10th Most Common Venue  \n",
       "37           Fish Market    Filipino Restaurant  "
      ]
     },
     "execution_count": 146,
     "metadata": {},
     "output_type": "execute_result"
    }
   ],
   "source": [
    "manhattan_merged.loc[manhattan_merged['Cluster Labels'] == 3, manhattan_merged.columns[[1] + list(range(5, manhattan_merged.shape[1]))]]"
   ]
  },
  {
   "cell_type": "markdown",
   "metadata": {},
   "source": [
    "#### Cluster 5"
   ]
  },
  {
   "cell_type": "code",
   "execution_count": 147,
   "metadata": {},
   "outputs": [
    {
     "data": {
      "text/html": [
       "<div>\n",
       "<style scoped>\n",
       "    .dataframe tbody tr th:only-of-type {\n",
       "        vertical-align: middle;\n",
       "    }\n",
       "\n",
       "    .dataframe tbody tr th {\n",
       "        vertical-align: top;\n",
       "    }\n",
       "\n",
       "    .dataframe thead th {\n",
       "        text-align: right;\n",
       "    }\n",
       "</style>\n",
       "<table border=\"1\" class=\"dataframe\">\n",
       "  <thead>\n",
       "    <tr style=\"text-align: right;\">\n",
       "      <th></th>\n",
       "      <th>Neighborhood</th>\n",
       "      <th>1st Most Common Venue</th>\n",
       "      <th>2nd Most Common Venue</th>\n",
       "      <th>3rd Most Common Venue</th>\n",
       "      <th>4th Most Common Venue</th>\n",
       "      <th>5th Most Common Venue</th>\n",
       "      <th>6th Most Common Venue</th>\n",
       "      <th>7th Most Common Venue</th>\n",
       "      <th>8th Most Common Venue</th>\n",
       "      <th>9th Most Common Venue</th>\n",
       "      <th>10th Most Common Venue</th>\n",
       "    </tr>\n",
       "  </thead>\n",
       "  <tbody>\n",
       "    <tr>\n",
       "      <th>0</th>\n",
       "      <td>Marble Hill</td>\n",
       "      <td>Deli / Bodega</td>\n",
       "      <td>Bus Station</td>\n",
       "      <td>Pharmacy</td>\n",
       "      <td>Bank</td>\n",
       "      <td>Bakery</td>\n",
       "      <td>Sandwich Place</td>\n",
       "      <td>Chinese Restaurant</td>\n",
       "      <td>Grocery Store</td>\n",
       "      <td>Train Station</td>\n",
       "      <td>Storage Facility</td>\n",
       "    </tr>\n",
       "    <tr>\n",
       "      <th>20</th>\n",
       "      <td>Lower East Side</td>\n",
       "      <td>Deli / Bodega</td>\n",
       "      <td>Bus Station</td>\n",
       "      <td>Yoga Studio</td>\n",
       "      <td>Pizza Place</td>\n",
       "      <td>Bus Stop</td>\n",
       "      <td>Pharmacy</td>\n",
       "      <td>Art Gallery</td>\n",
       "      <td>Supermarket</td>\n",
       "      <td>Pool</td>\n",
       "      <td>Food &amp; Drink Shop</td>\n",
       "    </tr>\n",
       "  </tbody>\n",
       "</table>\n",
       "</div>"
      ],
      "text/plain": [
       "       Neighborhood 1st Most Common Venue 2nd Most Common Venue  \\\n",
       "0       Marble Hill         Deli / Bodega           Bus Station   \n",
       "20  Lower East Side         Deli / Bodega           Bus Station   \n",
       "\n",
       "   3rd Most Common Venue 4th Most Common Venue 5th Most Common Venue  \\\n",
       "0               Pharmacy                  Bank                Bakery   \n",
       "20           Yoga Studio           Pizza Place              Bus Stop   \n",
       "\n",
       "   6th Most Common Venue 7th Most Common Venue 8th Most Common Venue  \\\n",
       "0         Sandwich Place    Chinese Restaurant         Grocery Store   \n",
       "20              Pharmacy           Art Gallery           Supermarket   \n",
       "\n",
       "   9th Most Common Venue 10th Most Common Venue  \n",
       "0          Train Station       Storage Facility  \n",
       "20                  Pool      Food & Drink Shop  "
      ]
     },
     "execution_count": 147,
     "metadata": {},
     "output_type": "execute_result"
    }
   ],
   "source": [
    "manhattan_merged.loc[manhattan_merged['Cluster Labels'] == 4, manhattan_merged.columns[[1] + list(range(5, manhattan_merged.shape[1]))]]"
   ]
  },
  {
   "cell_type": "markdown",
   "metadata": {},
   "source": [
    "### Thank you for completing this lab!\n",
    "\n",
    "This notebook was created by [Alex Aklson](https://www.linkedin.com/in/aklson/) and [Polong Lin](https://www.linkedin.com/in/polonglin/). I hope you found this lab interesting and educational. Feel free to contact us if you have any questions!"
   ]
  },
  {
   "cell_type": "markdown",
   "metadata": {},
   "source": [
    "This notebook is part of a course on **Coursera** called *Applied Data Science Capstone*. If you accessed this notebook outside the course, you can take this course online by clicking [here](http://cocl.us/DP0701EN_Coursera_Week3_LAB2)."
   ]
  },
  {
   "cell_type": "markdown",
   "metadata": {},
   "source": [
    "<hr>\n",
    "\n",
    "Copyright &copy; 2018 [Cognitive Class](https://cognitiveclass.ai/?utm_source=bducopyrightlink&utm_medium=dswb&utm_campaign=bdu). This notebook and its source code are released under the terms of the [MIT License](https://bigdatauniversity.com/mit-license/)."
   ]
  }
 ],
 "metadata": {
  "kernelspec": {
   "display_name": "Python 3",
   "language": "python",
   "name": "python3"
  },
  "language_info": {
   "codemirror_mode": {
    "name": "ipython",
    "version": 3
   },
   "file_extension": ".py",
   "mimetype": "text/x-python",
   "name": "python",
   "nbconvert_exporter": "python",
   "pygments_lexer": "ipython3",
   "version": "3.7.3"
  },
  "widgets": {
   "state": {},
   "version": "1.1.2"
  }
 },
 "nbformat": 4,
 "nbformat_minor": 2
}
